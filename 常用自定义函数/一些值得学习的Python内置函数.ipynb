{
 "cells": [
  {
   "cell_type": "code",
   "execution_count": 1,
   "metadata": {},
   "outputs": [
    {
     "name": "stdout",
     "output_type": "stream",
     "text": [
      "Welcome to Python!\n",
      "Welcome--to--Python\n"
     ]
    }
   ],
   "source": [
    "words = ['Welcome', 'to', 'Python']\n",
    "print(*words, end='!\\n')\n",
    "print(*words, sep='--')"
   ]
  },
  {
   "cell_type": "code",
   "execution_count": 2,
   "metadata": {},
   "outputs": [
    {
     "name": "stdout",
     "output_type": "stream",
     "text": [
      "[1, 4, 9, 16, 25]\n"
     ]
    }
   ],
   "source": [
    "numbers = [1, 2, 3, 4, 5]\n",
    "squared_numbers = [i**2 for i in numbers]\n",
    "print(squared_numbers)"
   ]
  },
  {
   "cell_type": "code",
   "execution_count": 5,
   "metadata": {},
   "outputs": [
    {
     "name": "stdout",
     "output_type": "stream",
     "text": [
      "[('A', 'B', 'C', 'D', 'E'), ('a', 'b', 'c', 'd', 'e')]\n"
     ]
    }
   ],
   "source": [
    "list1 = ['A', 'B', 'C', 'D', 'E']\n",
    "list2 = ['a', 'b', 'c', 'd', 'e']\n",
    "\n",
    "zip1 = zip(*zip(list1, list2))\n",
    "print(list(zip1))"
   ]
  },
  {
   "cell_type": "code",
   "execution_count": 7,
   "metadata": {},
   "outputs": [
    {
     "name": "stdout",
     "output_type": "stream",
     "text": [
      "[(1, 1, 1), (2, 2, 2), (3, 3, 3)]\n",
      "[[1, 2, 3], [1, 2, 3], [1, 2, 3]]\n",
      "[(1, 1, 1), (2, 2, 2), (3, 3, 3)]\n"
     ]
    }
   ],
   "source": [
    "x = [1, 2, 3]\n",
    "print(list(zip(x, x, x)))\n",
    "print([x] * 3)\n",
    "print(list(zip(*[x] * 3)))"
   ]
  },
  {
   "cell_type": "code",
   "execution_count": 9,
   "metadata": {},
   "outputs": [
    {
     "name": "stdout",
     "output_type": "stream",
     "text": [
      "[('A', 'a', 1), ('B', 'b', 2), ('C', 'c', 3), ('D', 'd', 4), ('E', 'e', None)]\n",
      "[('A', 'a', 1), ('B', 'b', 2), ('C', 'c', 3), ('D', 'd', 4), ('E', 'e', '填充值')]\n"
     ]
    }
   ],
   "source": [
    "from itertools import zip_longest\n",
    "list3 = [1, 2, 3, 4]\n",
    "print(list(zip_longest(list1, list2, list3)))\n",
    "print(list(zip_longest(list1, list2, list3, fillvalue='填充值')))"
   ]
  },
  {
   "cell_type": "code",
   "execution_count": 7,
   "metadata": {},
   "outputs": [
    {
     "name": "stdout",
     "output_type": "stream",
     "text": [
      "Runner(number='1256', duration=1420) Runner(number='1349', duration=1490) Runner(number='1234', duration=1500)\n"
     ]
    }
   ],
   "source": [
    "from collections import namedtuple\n",
    "Runner = namedtuple('Runner', ['number', 'duration'])\n",
    "runners = []\n",
    "runners.append(Runner('1234', 1500))\n",
    "runners.append(Runner('1256', 1420))\n",
    "runners.append(Runner('1274', 1600))\n",
    "runners.append(Runner('1349', 1490))\n",
    "runners.append(Runner('1378', 1620))\n",
    "runners.append(Runner('1422', 1906))\n",
    "\n",
    "runners_by_duration = sorted(runners, key=lambda x:x[1])\n",
    "top_3_runners = runners_by_duration[:3]\n",
    "print(top_3_runners)"
   ]
  },
  {
   "cell_type": "code",
   "execution_count": null,
   "metadata": {},
   "outputs": [],
   "source": []
  }
 ],
 "metadata": {
  "kernelspec": {
   "display_name": "Python 3",
   "language": "python",
   "name": "python3"
  },
  "language_info": {
   "codemirror_mode": {
    "name": "ipython",
    "version": 3
   },
   "file_extension": ".py",
   "mimetype": "text/x-python",
   "name": "python",
   "nbconvert_exporter": "python",
   "pygments_lexer": "ipython3",
   "version": "3.7.3"
  }
 },
 "nbformat": 4,
 "nbformat_minor": 2
}
