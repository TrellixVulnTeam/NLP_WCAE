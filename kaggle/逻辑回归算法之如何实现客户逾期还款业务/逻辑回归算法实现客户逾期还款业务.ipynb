{
 "cells": [
  {
   "cell_type": "markdown",
   "metadata": {},
   "source": [
    "### 客户逾期还款业务"
   ]
  },
  {
   "cell_type": "markdown",
   "metadata": {},
   "source": [
    "- 数据源结构：数据集是Lending Club平台发生借贷的业务数据，共有52个变量，39522条记录。\n"
   ]
  },
  {
   "cell_type": "markdown",
   "metadata": {},
   "source": [
    "<img src=\"图片/数据集2.png\" width = \"800\" height = \"800\" div align=centre />"
   ]
  },
  {
   "cell_type": "markdown",
   "metadata": {},
   "source": [
    "<img src=\"图片/数据源结构.png\" width = \"400\" height = \"400\" div align=centre />"
   ]
  },
  {
   "cell_type": "markdown",
   "metadata": {},
   "source": [
    "#### 数据预处理"
   ]
  },
  {
   "cell_type": "code",
   "execution_count": 15,
   "metadata": {},
   "outputs": [],
   "source": [
    "import numpy as np\n",
    "import warnings\n",
    "warnings.filterwarnings('ignore')"
   ]
  },
  {
   "cell_type": "markdown",
   "metadata": {},
   "source": [
    "- 去掉一些明显没用的特征，如’desc’,'url’，并将剩下特征保存到一个新的csv文件中"
   ]
  },
  {
   "cell_type": "code",
   "execution_count": 2,
   "metadata": {},
   "outputs": [],
   "source": [
    "import pandas as pd\n",
    "\n",
    "loans_2020 = pd.read_csv('LoanStats3a.csv', skiprows=1) #第一行是字符串\n",
    "half_count = len(loans_2020) / 2\n",
    "\n",
    "loans_2020 = loans_2020.dropna(thresh=half_count, axis=1) #剔除空白值超过一半的列\n",
    "loans_2020 = loans_2020.drop(['desc', 'url'], axis=1) #按照列中，删除描述和URL链接\n",
    "loans_2020.to_csv('loans_2020.csv', index=False) #index=False表示不加索引"
   ]
  },
  {
   "cell_type": "markdown",
   "metadata": {},
   "source": [
    "- 输出数据标签，初判断无用特征"
   ]
  },
  {
   "cell_type": "code",
   "execution_count": 5,
   "metadata": {},
   "outputs": [],
   "source": [
    "pd.set_option('display.max_columns', None)\n",
    "\n",
    "loans_2020 = pd.read_csv(\"loans_2020.csv\")\n",
    "#print(\"第一行的数据展示 \\n\",loans_2020.iloc[0])  #第一行的数据"
   ]
  },
  {
   "cell_type": "code",
   "execution_count": 6,
   "metadata": {},
   "outputs": [
    {
     "data": {
      "text/plain": [
       "id                             object\n",
       "member_id                     float64\n",
       "loan_amnt                     float64\n",
       "funded_amnt                   float64\n",
       "funded_amnt_inv               float64\n",
       "term                           object\n",
       "int_rate                       object\n",
       "installment                   float64\n",
       "grade                          object\n",
       "sub_grade                      object\n",
       "emp_title                      object\n",
       "emp_length                     object\n",
       "home_ownership                 object\n",
       "annual_inc                    float64\n",
       "verification_status            object\n",
       "issue_d                        object\n",
       "loan_status                    object\n",
       "pymnt_plan                     object\n",
       "purpose                        object\n",
       "title                          object\n",
       "zip_code                       object\n",
       "addr_state                     object\n",
       "dti                           float64\n",
       "delinq_2yrs                   float64\n",
       "earliest_cr_line               object\n",
       "inq_last_6mths                float64\n",
       "open_acc                      float64\n",
       "pub_rec                       float64\n",
       "revol_bal                     float64\n",
       "revol_util                     object\n",
       "total_acc                     float64\n",
       "initial_list_status            object\n",
       "out_prncp                     float64\n",
       "out_prncp_inv                 float64\n",
       "total_pymnt                   float64\n",
       "total_pymnt_inv               float64\n",
       "total_rec_prncp               float64\n",
       "total_rec_int                 float64\n",
       "total_rec_late_fee            float64\n",
       "recoveries                    float64\n",
       "collection_recovery_fee       float64\n",
       "last_pymnt_d                   object\n",
       "last_pymnt_amnt               float64\n",
       "last_credit_pull_d             object\n",
       "collections_12_mths_ex_med    float64\n",
       "policy_code                   float64\n",
       "application_type               object\n",
       "acc_now_delinq                float64\n",
       "chargeoff_within_12_mths      float64\n",
       "delinq_amnt                   float64\n",
       "pub_rec_bankruptcies          float64\n",
       "tax_liens                     float64\n",
       "dtype: object"
      ]
     },
     "execution_count": 6,
     "metadata": {},
     "output_type": "execute_result"
    }
   ],
   "source": [
    "loans_2020.dtypes"
   ]
  },
  {
   "cell_type": "code",
   "execution_count": 7,
   "metadata": {},
   "outputs": [
    {
     "name": "stdout",
     "output_type": "stream",
     "text": [
      "原始列数=  52\n"
     ]
    }
   ],
   "source": [
    "print(\"原始列数= \",loans_2020.shape[1])"
   ]
  },
  {
   "cell_type": "markdown",
   "metadata": {},
   "source": [
    "- 很明显从常识来讲‘id’和‘member_id’与银行是否对他进行放贷没有任何关系，’funded_amnt(期望贷款的值)’ 和funded_amnt_inv(实际发放的款数)’为预测之后银行对该人借贷的金额，很明显也与模型判断没有关系。"
   ]
  },
  {
   "cell_type": "code",
   "execution_count": 8,
   "metadata": {},
   "outputs": [],
   "source": [
    "#id：用户ID\n",
    "#member_id：会员编号\n",
    "#funded_amnt：承诺给该贷款的总金额\n",
    "#funded_amnt_inv：投资者为该贷款承诺的总金额\n",
    "#grade：贷款等级。贷款利率越高，则等级越高\n",
    "#sub_grade：贷款子等级\n",
    "#emp_title：工作名称\n",
    "#issue_d：贷款月份\n",
    "\n",
    "loans_2020 = loans_2020.drop([\"id\", \"member_id\", \"funded_amnt\", \"funded_amnt_inv\", \"grade\", \"sub_grade\", \"emp_title\", \"issue_d\"], axis=1)"
   ]
  },
  {
   "cell_type": "code",
   "execution_count": 9,
   "metadata": {},
   "outputs": [
    {
     "data": {
      "text/plain": [
       "Fully Paid            33693\n",
       "Charged Off            5612\n",
       "Current                 201\n",
       "Late (31-120 days)       10\n",
       "In Grace Period           9\n",
       "Late (16-30 days)         5\n",
       "Default                   1\n",
       "Name: loan_status, dtype: int64"
      ]
     },
     "execution_count": 9,
     "metadata": {},
     "output_type": "execute_result"
    }
   ],
   "source": [
    "#loan_status：Fully Paid——>全部付讫  Charged Off——>没有按时还款  \n",
    "\n",
    "\n",
    "loans_2020['loan_status'].value_counts()"
   ]
  },
  {
   "cell_type": "code",
   "execution_count": 10,
   "metadata": {},
   "outputs": [],
   "source": [
    "#zip_code：常用的邮编\n",
    "#out_prncp和out_prncp_inv都是一样的：总资金中剩余的未偿还本金\n",
    "#out_prncp_inv：实际未偿还的本金\n",
    "#total_rec_prncp：迄今收到的本金\n",
    "\n",
    "\n",
    "\n",
    "loans_2020 = loans_2020.drop([\"zip_code\", \"out_prncp\", \"out_prncp_inv\", \"total_pymnt\", \"total_pymnt_inv\", \"total_rec_prncp\"], axis=1)"
   ]
  },
  {
   "cell_type": "code",
   "execution_count": 11,
   "metadata": {
    "scrolled": true
   },
   "outputs": [
    {
     "data": {
      "text/plain": [
       "loan_amnt                     float64\n",
       "term                           object\n",
       "int_rate                       object\n",
       "installment                   float64\n",
       "emp_length                     object\n",
       "home_ownership                 object\n",
       "annual_inc                    float64\n",
       "verification_status            object\n",
       "loan_status                    object\n",
       "pymnt_plan                     object\n",
       "purpose                        object\n",
       "title                          object\n",
       "addr_state                     object\n",
       "dti                           float64\n",
       "delinq_2yrs                   float64\n",
       "earliest_cr_line               object\n",
       "inq_last_6mths                float64\n",
       "open_acc                      float64\n",
       "pub_rec                       float64\n",
       "revol_bal                     float64\n",
       "revol_util                     object\n",
       "total_acc                     float64\n",
       "initial_list_status            object\n",
       "last_credit_pull_d             object\n",
       "collections_12_mths_ex_med    float64\n",
       "policy_code                   float64\n",
       "application_type               object\n",
       "acc_now_delinq                float64\n",
       "chargeoff_within_12_mths      float64\n",
       "delinq_amnt                   float64\n",
       "pub_rec_bankruptcies          float64\n",
       "tax_liens                     float64\n",
       "dtype: object"
      ]
     },
     "execution_count": 11,
     "metadata": {},
     "output_type": "execute_result"
    }
   ],
   "source": [
    "#total_rec_int：迄今收到的利息\n",
    "\n",
    "#recoveries：是否收回本金\n",
    "#collection_recovery_fee：收集回收费用\n",
    "#last_pymnt_d：最近一次收到还款的时间\n",
    "#last_pymnt_amnt：全部的还款的时间\n",
    "\n",
    "\n",
    "#保留候选特征\n",
    "loans_2020 = loans_2020.drop([\"total_rec_int\", \"total_rec_late_fee\", \"recoveries\", \"collection_recovery_fee\", \"last_pymnt_d\", \"last_pymnt_amnt\"], axis=1)\n",
    "loans_2020.dtypes"
   ]
  },
  {
   "cell_type": "code",
   "execution_count": 12,
   "metadata": {},
   "outputs": [
    {
     "name": "stdout",
     "output_type": "stream",
     "text": [
      "现在的列数 =  32\n"
     ]
    }
   ],
   "source": [
    "print(\"现在的列数 = \",loans_2020.shape[1]) #原始是52列，现在是32列的候选特征"
   ]
  },
  {
   "cell_type": "markdown",
   "metadata": {},
   "source": [
    "- 在原始数据中,没有0或者1的还不还款的特征，但是有“loan status”这个特征，意思是当前“贷款的状态”"
   ]
  },
  {
   "cell_type": "markdown",
   "metadata": {},
   "source": [
    "- 确定当前贷款状态（label值）"
   ]
  },
  {
   "cell_type": "code",
   "execution_count": 13,
   "metadata": {
    "scrolled": false
   },
   "outputs": [
    {
     "data": {
      "text/plain": [
       "Fully Paid            33693\n",
       "Charged Off            5612\n",
       "Current                 201\n",
       "Late (31-120 days)       10\n",
       "In Grace Period           9\n",
       "Late (16-30 days)         5\n",
       "Default                   1\n",
       "Name: loan_status, dtype: int64"
      ]
     },
     "execution_count": 13,
     "metadata": {},
     "output_type": "execute_result"
    }
   ],
   "source": [
    "loans_2020['loan_status'].value_counts()\n",
    "\n",
    "\n",
    "#Fully Paid：批准了客户的贷款，后面给他打个“1”\n",
    "#Charged Off：没有批准了客户的贷款，后面给他打个“0”\n",
    "#Does not meet the credit policy. Status:Fully Paid：，没有满足要求的有1988个，也不要说清楚不贷款，就不要这个属性了\n",
    "#后面的属性不确定比较强\n",
    "#Late (16-30 days)  ：延期了16-30 days\n",
    "#Late (31-120 days)：延期了31-120 days"
   ]
  },
  {
   "cell_type": "code",
   "execution_count": 14,
   "metadata": {},
   "outputs": [
    {
     "data": {
      "text/plain": [
       "0     Fully Paid\n",
       "1    Charged Off\n",
       "2     Fully Paid\n",
       "3     Fully Paid\n",
       "4        Current\n",
       "5     Fully Paid\n",
       "6     Fully Paid\n",
       "7     Fully Paid\n",
       "8    Charged Off\n",
       "9    Charged Off\n",
       "Name: loan_status, dtype: object"
      ]
     },
     "execution_count": 14,
     "metadata": {},
     "output_type": "execute_result"
    }
   ],
   "source": [
    "loans_2020['loan_status'].head(10)"
   ]
  },
  {
   "cell_type": "markdown",
   "metadata": {},
   "source": [
    "- 要做一个二分类label，用以下两种方法"
   ]
  },
  {
   "cell_type": "markdown",
   "metadata": {},
   "source": [
    "loans_2020 = loans_2020[(loans_2020['loan_status'] == \"Fully Paid\") |\n",
    "                        (loans_2020['loan_status'] == \"Charged Off\")]\n",
    "status_replace = {\n",
    "    \"loan_status\": {\n",
    "        \"Fully Paid\": 1, #完全支付\n",
    "        \"Charged Off\": 0,#违约\n",
    "    }\n",
    "}\n",
    "\n",
    "loans_2020 = loans_2020.replace(status_replace)"
   ]
  },
  {
   "cell_type": "code",
   "execution_count": 16,
   "metadata": {},
   "outputs": [],
   "source": [
    "loans_2020 = loans_2020[loans_2020['loan_status'].isin([\"Fully Paid\", \"Charged Off\"])]\n",
    "\n",
    "loans_2020['loan_status'] = np.where(loans_2020['loan_status']==\"Fully Paid\", 1, 0)"
   ]
  },
  {
   "cell_type": "code",
   "execution_count": 17,
   "metadata": {},
   "outputs": [
    {
     "data": {
      "text/plain": [
       "1    33693\n",
       "0     5612\n",
       "Name: loan_status, dtype: int64"
      ]
     },
     "execution_count": 17,
     "metadata": {},
     "output_type": "execute_result"
    }
   ],
   "source": [
    "loans_2020['loan_status'].value_counts()"
   ]
  },
  {
   "cell_type": "markdown",
   "metadata": {},
   "source": [
    "- 去掉特征中只有一种属性的列"
   ]
  },
  {
   "cell_type": "code",
   "execution_count": 18,
   "metadata": {
    "scrolled": true
   },
   "outputs": [
    {
     "name": "stdout",
     "output_type": "stream",
     "text": [
      "['initial_list_status', 'collections_12_mths_ex_med', 'policy_code', 'application_type', 'acc_now_delinq', 'chargeoff_within_12_mths', 'delinq_amnt', 'tax_liens']\n",
      "--------------------------------------------\n",
      "(39305, 24)\n"
     ]
    }
   ],
   "source": [
    "#某列特征都是n n n  NaN  n n ,有缺失的，唯一的属性就有2个，用pandas空值给去掉\n",
    "\n",
    "orig_columns = loans_2020.columns  #展现出所有的列\n",
    "\n",
    "drop_columns = []  #初始化空值\n",
    "\n",
    "for col in orig_columns:\n",
    "    col_series = loans_2020[col].dropna().unique()  #去重唯一的属性\n",
    "    if len(col_series) == 1:  #如果该特征的属性只有一个属性，就给过滤掉该特征\n",
    "        drop_columns.append(col)\n",
    "        \n",
    "loans_2020 = loans_2020.drop(drop_columns, axis=1)\n",
    "print(drop_columns)\n",
    "print(\"--------------------------------------------\")\n",
    "print(loans_2020.shape)\n",
    "\n",
    "loans_2020.to_csv('filtered_loans_2020.csv', index=False)"
   ]
  },
  {
   "cell_type": "markdown",
   "metadata": {},
   "source": [
    "- 24个列的缺失值情况，统计一下每列的缺失值"
   ]
  },
  {
   "cell_type": "markdown",
   "metadata": {},
   "source": [
    "- 处理缺失值"
   ]
  },
  {
   "cell_type": "code",
   "execution_count": 19,
   "metadata": {
    "scrolled": true
   },
   "outputs": [
    {
     "name": "stdout",
     "output_type": "stream",
     "text": [
      "loan_amnt                  0\n",
      "term                       0\n",
      "int_rate                   0\n",
      "installment                0\n",
      "emp_length              1073\n",
      "home_ownership             0\n",
      "annual_inc                 0\n",
      "verification_status        0\n",
      "loan_status                0\n",
      "pymnt_plan                 0\n",
      "purpose                    0\n",
      "title                     11\n",
      "addr_state                 0\n",
      "dti                        0\n",
      "delinq_2yrs                0\n",
      "earliest_cr_line           0\n",
      "inq_last_6mths             0\n",
      "open_acc                   0\n",
      "pub_rec                    0\n",
      "revol_bal                  0\n",
      "revol_util                50\n",
      "total_acc                  0\n",
      "last_credit_pull_d         1\n",
      "pub_rec_bankruptcies     449\n",
      "dtype: int64\n"
     ]
    }
   ],
   "source": [
    "loans = pd.read_csv('filtered_loans_2020.csv')\n",
    "null_counts = loans.isnull().sum()  #用pandas的isnull统计一下每列的缺失值，给累加起来\n",
    "print(null_counts) \n",
    "\n",
    "#对于每列中缺失的情况不是很大，大多数是很好的 ，那就删掉几个列也无可厚非(对于样本大)，或者是只删除缺失值，或者用均值、中位数和众数补充"
   ]
  },
  {
   "cell_type": "markdown",
   "metadata": {},
   "source": [
    "- 从统计出的结果可以看出‘title’和‘revol_util’相对于数据总量来说较少，可以直接去掉缺失值所在的行，而‘pub_rec_bankruptcies ’中的缺失值较多，说明该数据统计的情况较差，在本文中直接将此特征删除即可。\n",
    "emp_length中的空值稍后以0值处理"
   ]
  },
  {
   "cell_type": "code",
   "execution_count": 20,
   "metadata": {},
   "outputs": [
    {
     "name": "stdout",
     "output_type": "stream",
     "text": [
      "object     12\n",
      "float64    10\n",
      "int64       1\n",
      "dtype: int64\n"
     ]
    }
   ],
   "source": [
    "loans = loans.drop(\"pub_rec_bankruptcies\", axis=1)\n",
    "loans = loans.dropna(axis=0) \n",
    "\n",
    "print(loans.dtypes.value_counts())"
   ]
  },
  {
   "cell_type": "markdown",
   "metadata": {},
   "source": [
    "- 数据类型的转换\n",
    "\n",
    "    由于sk-learn库不接受字符型的数据，所以还需将上面特征中12个字符型的数据进行处理。"
   ]
  },
  {
   "cell_type": "code",
   "execution_count": 21,
   "metadata": {},
   "outputs": [
    {
     "name": "stdout",
     "output_type": "stream",
     "text": [
      "term                     36 months\n",
      "int_rate                    10.65%\n",
      "emp_length               10+ years\n",
      "home_ownership                RENT\n",
      "verification_status       Verified\n",
      "pymnt_plan                       n\n",
      "purpose                credit_card\n",
      "title                     Computer\n",
      "addr_state                      AZ\n",
      "earliest_cr_line            Jan-85\n",
      "revol_util                  83.70%\n",
      "last_credit_pull_d          Nov-16\n",
      "Name: 0, dtype: object\n"
     ]
    }
   ],
   "source": [
    "object_columns_df = loans.select_dtypes(include=[\"object\"])\n",
    "print(object_columns_df.iloc[0])\n",
    "\n",
    "\n",
    "#term：分期多少个月啊\n",
    "#int_rate：利息，10.65%，后面还要把%去掉\n",
    "#emp_length：10年的映射成10，9年的映射成9\n",
    "#home_ownership：房屋所有权，是租的、还是自己的、还是低压出去了，那就用0 1 2来代替"
   ]
  },
  {
   "cell_type": "code",
   "execution_count": 22,
   "metadata": {
    "scrolled": true
   },
   "outputs": [
    {
     "name": "stdout",
     "output_type": "stream",
     "text": [
      "RENT        18237\n",
      "MORTGAGE    17035\n",
      "OWN          2805\n",
      "OTHER          96\n",
      "NONE            1\n",
      "Name: home_ownership, dtype: int64\n",
      "--------------------\n",
      "Not Verified       16182\n",
      "Verified           12251\n",
      "Source Verified     9741\n",
      "Name: verification_status, dtype: int64\n",
      "--------------------\n",
      "10+ years    8794\n",
      "< 1 year     4492\n",
      "2 years      4339\n",
      "3 years      4052\n",
      "4 years      3397\n",
      "5 years      3262\n",
      "1 year       3182\n",
      "6 years      2201\n",
      "7 years      1747\n",
      "8 years      1463\n",
      "9 years      1245\n",
      "Name: emp_length, dtype: int64\n",
      "--------------------\n",
      " 36 months    27980\n",
      " 60 months    10194\n",
      "Name: term, dtype: int64\n",
      "--------------------\n",
      "CA    6876\n",
      "NY    3644\n",
      "FL    2739\n",
      "TX    2657\n",
      "NJ    1799\n",
      "IL    1478\n",
      "PA    1470\n",
      "VA    1355\n",
      "GA    1342\n",
      "MA    1278\n",
      "OH    1176\n",
      "MD    1019\n",
      "AZ     824\n",
      "WA     788\n",
      "CO     758\n",
      "NC     739\n",
      "CT     725\n",
      "MI     688\n",
      "MO     654\n",
      "MN     589\n",
      "NV     477\n",
      "SC     457\n",
      "OR     431\n",
      "WI     429\n",
      "AL     424\n",
      "LA     422\n",
      "KY     320\n",
      "OK     292\n",
      "KS     257\n",
      "UT     248\n",
      "AR     233\n",
      "DC     211\n",
      "RI     196\n",
      "NM     180\n",
      "HI     168\n",
      "WV     167\n",
      "NH     160\n",
      "DE     109\n",
      "MT      78\n",
      "WY      78\n",
      "AK      77\n",
      "SD      61\n",
      "VT      54\n",
      "MS      19\n",
      "TN      16\n",
      "ID       6\n",
      "IA       5\n",
      "NE       1\n",
      "Name: addr_state, dtype: int64\n",
      "--------------------\n"
     ]
    }
   ],
   "source": [
    "#查看指定标签的属性，并记数\n",
    "#home_ownership：房屋所有权\n",
    "#verification_status：身份保持证明\n",
    "#emp_length：客户公司名称\n",
    "#term：贷款分期的时间\n",
    "#addr_state：地址邮编\n",
    "\n",
    "\n",
    "cols = [\n",
    "    'home_ownership', 'verification_status', 'emp_length', 'term', 'addr_state'\n",
    "]\n",
    "for c in cols:\n",
    "    print(loans[c].value_counts())\n",
    "    print('-'*20)\n"
   ]
  },
  {
   "cell_type": "code",
   "execution_count": 23,
   "metadata": {},
   "outputs": [
    {
     "name": "stdout",
     "output_type": "stream",
     "text": [
      "debt_consolidation    18057\n",
      "credit_card            4927\n",
      "other                  3761\n",
      "home_improvement       2846\n",
      "major_purchase         2103\n",
      "small_business         1745\n",
      "car                    1489\n",
      "wedding                 924\n",
      "medical                 665\n",
      "moving                  551\n",
      "house                   364\n",
      "vacation                347\n",
      "educational             300\n",
      "renewable_energy         95\n",
      "Name: purpose, dtype: int64\n",
      "------------------------------------------------\n",
      "Debt Consolidation                       2122\n",
      "Debt Consolidation Loan                  1670\n",
      "Personal Loan                             625\n",
      "Consolidation                             502\n",
      "debt consolidation                        483\n",
      "Credit Card Consolidation                 348\n",
      "Home Improvement                          343\n",
      "Debt consolidation                        320\n",
      "Small Business Loan                       310\n",
      "Credit Card Loan                          302\n",
      "Personal                                  296\n",
      "Consolidation Loan                        252\n",
      "Home Improvement Loan                     237\n",
      "personal loan                             224\n",
      "Wedding Loan                              207\n",
      "personal                                  206\n",
      "Loan                                      205\n",
      "consolidation                             193\n",
      "Car Loan                                  192\n",
      "Other Loan                                177\n",
      "Wedding                                   151\n",
      "Credit Card Payoff                        149\n",
      "Credit Card Refinance                     140\n",
      "Major Purchase Loan                       136\n",
      "Consolidate                               126\n",
      "Medical                                   114\n",
      "Credit Card                               111\n",
      "home improvement                          105\n",
      "My Loan                                    90\n",
      "Credit Cards                               90\n",
      "                                         ... \n",
      "THE NEW BATHROOM                            1\n",
      "job from hell                               1\n",
      "ladybug                                     1\n",
      "CREDIT CARDS                                1\n",
      "CONS                                        1\n",
      "Enhancing my business                       1\n",
      "Sunroom doors                               1\n",
      "Finishing up the Basement                   1\n",
      "Debt/Unexpected                             1\n",
      "Shawn's Loan                                1\n",
      "Refi Wife's Credit Cards                    1\n",
      "Spiegel Consolidation Loan                  1\n",
      "funding sabbatical                          1\n",
      "EBAY AUTO LOAN                              1\n",
      "For My Son                                  1\n",
      "loan Fred                                   1\n",
      "Stacy's Loan                                1\n",
      "Debt Free Step 1                            1\n",
      "Help political campaign and pay bills       1\n",
      "Small debt Consolidation loan               1\n",
      "consolidate to educate                      1\n",
      "Short Term Bridge Funding                   1\n",
      "seaworthy                                   1\n",
      "House Pay Off                               1\n",
      "Pay Cards                                   1\n",
      "Suzuki Bike                                 1\n",
      "Bend or Break My Car                        1\n",
      "Wedding Woes                                1\n",
      "MIA                                         1\n",
      "Future                                      1\n",
      "Name: title, Length: 18933, dtype: int64\n"
     ]
    }
   ],
   "source": [
    "#\"purpose\"和\"title\"表达的意思相近，且从输出结果可以看出\"title\"所含的属性较多，可以将其舍弃掉\n",
    "print(loans[\"purpose\"].value_counts())\n",
    "#purpose：你贷款时的目的是什么，买房还是买车，还是其他消费\n",
    "\n",
    "print(\"------------------------------------------------\")\n",
    "\n",
    "print(loans[\"title\"].value_counts())\n",
    "#title：跟purpose一样，贷款的目的，选一个就行了"
   ]
  },
  {
   "cell_type": "markdown",
   "metadata": {},
   "source": [
    "<img src=\"图片/分割线.png\" width = \"800\" height = \"400\" div align=left />"
   ]
  },
  {
   "cell_type": "code",
   "execution_count": 24,
   "metadata": {},
   "outputs": [],
   "source": [
    "mapping_dict = {\n",
    "    \"emp_length\": {\n",
    "        \"10+ years\": 10,\n",
    "        \"9 years\": 9,\n",
    "        \"8 years\": 8,\n",
    "        \"7 years\": 7,\n",
    "        \"6 years\": 6,\n",
    "        \"5 years\": 5,\n",
    "        \"4 years\": 4,\n",
    "        \"3 years\": 3,\n",
    "        \"2 years\": 2,\n",
    "        \"1 year\": 1,\n",
    "        \"< 1 year\": 0,\n",
    "        \"n/a\": 0\n",
    "    }\n",
    "}\n",
    "\n",
    "# 删除：last_credit_pull_d：LC撤回最近的月份   \n",
    "#earliest_cr_line：第一次借贷时间\n",
    "#addr_state：家庭邮编\n",
    "#title：URL的标题\n",
    "loans = loans.drop(\n",
    "    [\"last_credit_pull_d\", \"earliest_cr_line\", \"addr_state\", \"title\"], axis=1)\n",
    "#rstrip：删除 string 字符串末尾的指定字符\n",
    "loans[\"int_rate\"] = loans[\"int_rate\"].str.rstrip(\"%\").astype(\"float\")\n",
    "#revol_util：透支额度占信用比例\n",
    "loans[\"revol_util\"] = loans[\"revol_util\"].str.rstrip(\"%\").astype(\"float\")\n",
    "loans = loans.replace(mapping_dict)"
   ]
  },
  {
   "cell_type": "markdown",
   "metadata": {},
   "source": [
    "- 剩余的其他字符型特征，此处选择使用pandas的get_dummies()函数，直接映射为数值型。"
   ]
  },
  {
   "cell_type": "code",
   "execution_count": 25,
   "metadata": {},
   "outputs": [],
   "source": [
    "#查看指定标签的属性，并记数\n",
    "#home_ownership：房屋所有权\n",
    "#verification_status：身份保持证明\n",
    "#emp_length：客户公司名称\n",
    "#purpose：贷款的意图\n",
    "#term：贷款分期的时间\n",
    "\n",
    "cat_columns = [\"home_ownership\", \"verification_status\", \"emp_length\", \"purpose\", \"term\"]\n",
    "dummy_df = pd.get_dummies(loans[cat_columns])\n",
    "\n",
    "loans = pd.concat([loans, dummy_df], axis=1)\n",
    "loans = loans.drop(cat_columns, axis=1)\n",
    "#pymnt_plan 指示是否已为贷款实施付款计划 ，里面都为N，删掉这一列\n",
    "loans = loans.drop(\"pymnt_plan\", axis=1)"
   ]
  },
  {
   "cell_type": "code",
   "execution_count": 26,
   "metadata": {},
   "outputs": [],
   "source": [
    "loans.to_csv('cleaned_loans_2020.csv', index=False)"
   ]
  },
  {
   "cell_type": "code",
   "execution_count": 27,
   "metadata": {},
   "outputs": [
    {
     "name": "stdout",
     "output_type": "stream",
     "text": [
      "<class 'pandas.core.frame.DataFrame'>\n",
      "RangeIndex: 38174 entries, 0 to 38173\n",
      "Data columns (total 48 columns):\n",
      "loan_amnt                              38174 non-null float64\n",
      "int_rate                               38174 non-null float64\n",
      "installment                            38174 non-null float64\n",
      "annual_inc                             38174 non-null float64\n",
      "loan_status                            38174 non-null int64\n",
      "dti                                    38174 non-null float64\n",
      "delinq_2yrs                            38174 non-null float64\n",
      "inq_last_6mths                         38174 non-null float64\n",
      "open_acc                               38174 non-null float64\n",
      "pub_rec                                38174 non-null float64\n",
      "revol_bal                              38174 non-null float64\n",
      "revol_util                             38174 non-null float64\n",
      "total_acc                              38174 non-null float64\n",
      "home_ownership_MORTGAGE                38174 non-null int64\n",
      "home_ownership_NONE                    38174 non-null int64\n",
      "home_ownership_OTHER                   38174 non-null int64\n",
      "home_ownership_OWN                     38174 non-null int64\n",
      "home_ownership_RENT                    38174 non-null int64\n",
      "verification_status_Not Verified       38174 non-null int64\n",
      "verification_status_Source Verified    38174 non-null int64\n",
      "verification_status_Verified           38174 non-null int64\n",
      "emp_length_0                           38174 non-null int64\n",
      "emp_length_1                           38174 non-null int64\n",
      "emp_length_2                           38174 non-null int64\n",
      "emp_length_3                           38174 non-null int64\n",
      "emp_length_4                           38174 non-null int64\n",
      "emp_length_5                           38174 non-null int64\n",
      "emp_length_6                           38174 non-null int64\n",
      "emp_length_7                           38174 non-null int64\n",
      "emp_length_8                           38174 non-null int64\n",
      "emp_length_9                           38174 non-null int64\n",
      "emp_length_10                          38174 non-null int64\n",
      "purpose_car                            38174 non-null int64\n",
      "purpose_credit_card                    38174 non-null int64\n",
      "purpose_debt_consolidation             38174 non-null int64\n",
      "purpose_educational                    38174 non-null int64\n",
      "purpose_home_improvement               38174 non-null int64\n",
      "purpose_house                          38174 non-null int64\n",
      "purpose_major_purchase                 38174 non-null int64\n",
      "purpose_medical                        38174 non-null int64\n",
      "purpose_moving                         38174 non-null int64\n",
      "purpose_other                          38174 non-null int64\n",
      "purpose_renewable_energy               38174 non-null int64\n",
      "purpose_small_business                 38174 non-null int64\n",
      "purpose_vacation                       38174 non-null int64\n",
      "purpose_wedding                        38174 non-null int64\n",
      "term_ 36 months                        38174 non-null int64\n",
      "term_ 60 months                        38174 non-null int64\n",
      "dtypes: float64(12), int64(36)\n",
      "memory usage: 14.0 MB\n",
      "None\n"
     ]
    }
   ],
   "source": [
    "loans = pd.read_csv(\"cleaned_loans_2020.csv\") # 清洗完的数据拿过来，现在的数据要么是float类型和int类型\n",
    "print(loans.info())"
   ]
  },
  {
   "cell_type": "markdown",
   "metadata": {},
   "source": [
    "#### 模型训练"
   ]
  },
  {
   "cell_type": "markdown",
   "metadata": {},
   "source": [
    "- 对于二分类问题，一般情况下，首选逻辑回归。\n",
    "首先定义模型效果的评判标准。根据贷款行业的实际情况，在这里我们假设将钱借给了没有还款能力的人，结果损失一千，将钱借给了有偿还能力的人，从每笔中赚0.1的利润，而其余情况收益为零，就相当于预测对十个人才顶上预测错一个人的收益，所以精度不再适用于此模型，为了实现利润最大化，不仅要求模型预测recall率较高，同时是需要要让fall-out率较低，故这里采用两个指标TPR(true positive rate)和FPR(false positive rate)。"
   ]
  },
  {
   "cell_type": "code",
   "execution_count": 28,
   "metadata": {},
   "outputs": [],
   "source": [
    "from sklearn.linear_model import LogisticRegression\n",
    "lr = LogisticRegression() # 调用逻辑回归的算法包\n",
    "\n",
    "\n",
    "\n",
    "cols = loans.columns # 4万行 * 24列的样本\n",
    "train_cols = cols.drop(\"loan_status\") # 删除loan_status这一列作为目标值\n",
    "\n",
    "features = loans[train_cols] # 23列的特征矩阵\n",
    "target = loans[\"loan_status\"] # 作为标签矩阵"
   ]
  },
  {
   "cell_type": "code",
   "execution_count": 31,
   "metadata": {},
   "outputs": [],
   "source": [
    "from sklearn.model_selection import train_test_split\n",
    "\n",
    "X_train, X_test, Y_train, Y_test = train_test_split(features, target)"
   ]
  },
  {
   "cell_type": "code",
   "execution_count": 32,
   "metadata": {},
   "outputs": [
    {
     "data": {
      "text/plain": [
       "LogisticRegression(C=1.0, class_weight=None, dual=False, fit_intercept=True,\n",
       "                   intercept_scaling=1, l1_ratio=None, max_iter=100,\n",
       "                   multi_class='auto', n_jobs=None, penalty='l2',\n",
       "                   random_state=None, solver='lbfgs', tol=0.0001, verbose=0,\n",
       "                   warm_start=False)"
      ]
     },
     "execution_count": 32,
     "metadata": {},
     "output_type": "execute_result"
    }
   ],
   "source": [
    "lr.fit(X_train, Y_train)"
   ]
  },
  {
   "cell_type": "code",
   "execution_count": 33,
   "metadata": {},
   "outputs": [
    {
     "data": {
      "text/plain": [
       "0.856035205364627"
      ]
     },
     "execution_count": 33,
     "metadata": {},
     "output_type": "execute_result"
    }
   ],
   "source": [
    "lr.score(X_test, Y_test)"
   ]
  },
  {
   "cell_type": "code",
   "execution_count": 34,
   "metadata": {},
   "outputs": [],
   "source": [
    "predictions = lr.predict(X_test)"
   ]
  },
  {
   "cell_type": "code",
   "execution_count": 35,
   "metadata": {},
   "outputs": [
    {
     "data": {
      "text/plain": [
       "array([1, 1, 1, 1, 1, 1, 1, 1, 1, 1])"
      ]
     },
     "execution_count": 35,
     "metadata": {},
     "output_type": "execute_result"
    }
   ],
   "source": [
    "predictions[:10] #0:代表没有偿还  1:代表偿还"
   ]
  },
  {
   "cell_type": "code",
   "execution_count": 36,
   "metadata": {},
   "outputs": [
    {
     "data": {
      "text/plain": [
       "array([[0.10807275, 0.89192725],\n",
       "       [0.17030142, 0.82969858],\n",
       "       [0.11969455, 0.88030545],\n",
       "       ...,\n",
       "       [0.14419433, 0.85580567],\n",
       "       [0.11863675, 0.88136325],\n",
       "       [0.11777812, 0.88222188]])"
      ]
     },
     "execution_count": 36,
     "metadata": {},
     "output_type": "execute_result"
    }
   ],
   "source": [
    "lr.predict_proba(X_test)#lr的概率模型"
   ]
  },
  {
   "cell_type": "markdown",
   "metadata": {},
   "source": [
    "- 咱们的目的是服务的金融俱乐部，让它挣个有能力偿还的客户的利息，怎么挣这个钱呢？\n"
   ]
  },
  {
   "cell_type": "markdown",
   "metadata": {},
   "source": [
    "- 第一个实际值为0，客户不会还钱，模型预测客户能还钱，为1 ，假设系统贷给了客户1000块钱，但是一分都没还，说明预测错了为阴性，赔了1000块钱"
   ]
  },
  {
   "cell_type": "markdown",
   "metadata": {},
   "source": [
    "- 第二个实际值为1，客户有偿还能力，模型预测客户有能力偿还，咱们就挣了客户的利息钱，1000*0.1 =100块钱"
   ]
  },
  {
   "cell_type": "markdown",
   "metadata": {},
   "source": [
    "- 第三个实际值为0，本来客户是不还钱的，模型预测他也不还钱，咱们也没借他"
   ]
  },
  {
   "cell_type": "markdown",
   "metadata": {},
   "source": [
    "- 第四个客户能还钱，模型预测客户不能还 ，咱们也没有贷款给他"
   ]
  },
  {
   "cell_type": "markdown",
   "metadata": {},
   "source": [
    "#### 建立混淆矩阵"
   ]
  },
  {
   "cell_type": "code",
   "execution_count": 37,
   "metadata": {},
   "outputs": [
    {
     "name": "stdout",
     "output_type": "stream",
     "text": [
      "fp:1366\n",
      "----------------------------------------\n",
      "tp:8167\n",
      "----------------------------------------\n",
      "fn:8\n",
      "----------------------------------------\n",
      "tn:3\n"
     ]
    }
   ],
   "source": [
    "import pandas as pd\n",
    "#接下来就是如何算4个指标 fp tp fn tn\n",
    "\n",
    "# 假正类（False Positive，FP）：将负类预测为正类\n",
    "fp_filter = (predictions == 1) & (Y_test == 0)\n",
    "fp = len(predictions[fp_filter])\n",
    "print(f'fp:{fp}')\n",
    "print(\"----------------------------------------\")\n",
    "\n",
    "\n",
    "# 真正类（True Positive，TP）：将正类预测为正类\n",
    "tp_filter = (predictions == 1) & (Y_test == 1)\n",
    "tp = len(predictions[tp_filter])\n",
    "print(f'tp:{tp}')\n",
    "print(\"----------------------------------------\")\n",
    "\n",
    "\n",
    "# 假负类（False Negative，FN）：将正类预测为负类\n",
    "fn_filter = (predictions == 0) & (Y_test == 1)\n",
    "fn = len(predictions[fn_filter])\n",
    "print(f'fn:{fn}')\n",
    "print(\"----------------------------------------\")\n",
    "\n",
    "# 真负类（True Negative，TN）：将负类预测为负类\n",
    "tn_filter = (predictions == 0) & (Y_test == 0)\n",
    "tn = len(predictions[tn_filter])\n",
    "print(f'tn:{tn}')"
   ]
  },
  {
   "cell_type": "code",
   "execution_count": 38,
   "metadata": {},
   "outputs": [],
   "source": [
    "from sklearn.metrics import confusion_matrix, classification_report"
   ]
  },
  {
   "cell_type": "code",
   "execution_count": 39,
   "metadata": {},
   "outputs": [
    {
     "data": {
      "text/plain": [
       "array([[   3, 1366],\n",
       "       [   8, 8167]])"
      ]
     },
     "execution_count": 39,
     "metadata": {},
     "output_type": "execute_result"
    }
   ],
   "source": [
    "confusion_matrix(Y_test, predictions)"
   ]
  },
  {
   "cell_type": "code",
   "execution_count": 41,
   "metadata": {},
   "outputs": [
    {
     "name": "stdout",
     "output_type": "stream",
     "text": [
      "              precision    recall  f1-score   support\n",
      "\n",
      "           0       0.27      0.00      0.00      1369\n",
      "           1       0.86      1.00      0.92      8175\n",
      "\n",
      "    accuracy                           0.86      9544\n",
      "   macro avg       0.56      0.50      0.46      9544\n",
      "weighted avg       0.77      0.86      0.79      9544\n",
      "\n"
     ]
    }
   ],
   "source": [
    "print(classification_report(Y_test, predictions))"
   ]
  },
  {
   "cell_type": "markdown",
   "metadata": {},
   "source": [
    "- 这个数据集后续观察是不平衡的 ，借钱的有6个，不借钱的有1个，借钱的样本本来就多，不借钱的样本本来就少，相当于7个人来了，有6个人借给他了为1，有1个人没借给他为0，7个样本的错误率为1/7 ,准确率为6/7"
   ]
  },
  {
   "cell_type": "markdown",
   "metadata": {},
   "source": [
    "<img src=\"图片/盈亏情况.png\" width = \"400\" height = \"400\" div align=centre />"
   ]
  },
  {
   "cell_type": "markdown",
   "metadata": {},
   "source": [
    "- 第一个实际值为0，没有偿还能力，模型预测客户为1 ，代表能还，赔了1000块钱 "
   ]
  },
  {
   "cell_type": "markdown",
   "metadata": {},
   "source": [
    "- 后面的实际值为1，代表有偿还能力，模型借给他1000块钱，挣了个利息钱100块\n",
    "- 最终-1000 + 600 = - 400 用”精度“来衡量最终还是会赔钱的，因为数据集能还钱的样本很多，显然这样是不合理的，所以就不考虑”精度“了。"
   ]
  },
  {
   "cell_type": "code",
   "execution_count": 30,
   "metadata": {},
   "outputs": [
    {
     "name": "stdout",
     "output_type": "stream",
     "text": [
      "0      1\n",
      "1      1\n",
      "2      1\n",
      "3      1\n",
      "4      1\n",
      "      ..\n",
      "995    1\n",
      "996    1\n",
      "997    1\n",
      "998    1\n",
      "999    1\n",
      "Length: 1000, dtype: int64\n"
     ]
    }
   ],
   "source": [
    "from sklearn.linear_model import LogisticRegression\n",
    "from sklearn.model_selection import cross_val_predict\n",
    "\n",
    "lr = LogisticRegression()\n",
    "predictions = cross_val_predict(lr, features, target, cv=10) # Kfold = 10(交叉验证)\n",
    "predictions = pd.Series(predictions)\n",
    "print(predictions[:1000])"
   ]
  },
  {
   "cell_type": "code",
   "execution_count": 31,
   "metadata": {},
   "outputs": [],
   "source": [
    "# 假正类（False Positive，FP）：将负类预测为正类\n",
    "fp_filter = (predictions == 1) & (loans[\"loan_status\"] == 0)\n",
    "fp = len(predictions[fp_filter])\n",
    "\n",
    "\n",
    "# 真正类（True Positive，TP）：将正类预测为正类\n",
    "tp_filter = (predictions == 1) & (loans[\"loan_status\"] == 1)\n",
    "tp = len(predictions[tp_filter])\n",
    "\n",
    "\n",
    "\n",
    "# 假负类（False Negative，FN）：将正类预测为负类\n",
    "fn_filter = (predictions == 0) & (loans[\"loan_status\"] == 1)\n",
    "fn = len(predictions[fn_filter])\n",
    "\n",
    "\n",
    "\n",
    "# 真负类（True Negative，TN）：将负类预测为负类\n",
    "tn_filter = (predictions == 0) & (loans[\"loan_status\"] == 0)\n",
    "tn = len(predictions[tn_filter])\n"
   ]
  },
  {
   "cell_type": "markdown",
   "metadata": {},
   "source": [
    "- 真正率TPR是指客户的实际值为1，有偿还能力，模型预测也为1，说明这些客户群体越来越多，挣的利息也越来越多，所以啊，我们希望真正率TPR越高越好"
   ]
  },
  {
   "cell_type": "markdown",
   "metadata": {},
   "source": [
    "- 10个客户，其中有3个是没有还款能力 ，7个数有还款能力的，银行进行了系统预测，结果有3个没有还款能力的人，其中有2个人确实没有还款能力，那么TPR(真正率) = 2/3 ，对于7位有按时还贷的人来说，有一位被误认为是没有能力还款，那边FPR(假正率) = 1/7"
   ]
  },
  {
   "cell_type": "markdown",
   "metadata": {},
   "source": [
    "- 总结：本质上期望TPR越高越好，FPR越低越好"
   ]
  },
  {
   "cell_type": "code",
   "execution_count": 32,
   "metadata": {},
   "outputs": [
    {
     "name": "stdout",
     "output_type": "stream",
     "text": [
      "0.9990856167515011\n",
      "0.9983224603914259\n",
      "0     1\n",
      "1     1\n",
      "2     1\n",
      "3     1\n",
      "4     1\n",
      "5     1\n",
      "6     1\n",
      "7     1\n",
      "8     1\n",
      "9     1\n",
      "10    1\n",
      "11    1\n",
      "12    1\n",
      "13    1\n",
      "14    1\n",
      "15    1\n",
      "16    1\n",
      "17    1\n",
      "18    1\n",
      "19    1\n",
      "dtype: int64\n"
     ]
    }
   ],
   "source": [
    "# Rates：就可以用刚才的指标进行衡量了呀\n",
    "tpr = tp / float((tp + fn))\n",
    "fpr = fp / float((fp + tn))\n",
    "\"\"\"\n",
    "tpr:比较高，我们非常喜欢，给他贷款了，而且这些人能还钱了\n",
    "fpr：比较高，这些人不会还钱，但还是贷给他了吧\n",
    "为什么这个2个值都那么高呢？把所有人来了，都借给他钱呀，打印出前20行都为1，为什么会出现这种情况？\n",
    "绝对是前面的数据出现问题了，比如说数据是6：1，绝大多数是1，小部分是0，样本不均衡的情况下，导致分类器错误的认为把所有的样本预测为1，因为负样本少，咱们就“数据增强”，\n",
    "把负样本1增强到4份儿，是不是可以啊，要么收集数据 ，数据已经定值了，没办法收集，要么是造数据，你知道什么样的人会还钱吗？也不好造吧，怎么解决样本不均衡的问题呢？\n",
    "接下来要考虑权重的东西了，一部分是6份，另一部分是1份，把6份的权重设置为1，把1份的权重设置为6，设置权重项来进行衡量，把不均衡的样本变得均衡，加了权重项，让正样本对结果的影响小一些，\n",
    "让负样本对结果的影响大一些，通过加入权重项，模型对结果变得均衡一下，有一个参数很重要\n",
    "\"\"\"\n",
    "print(tpr)#真正率\n",
    "print(fpr)#假正率\n",
    "print(predictions[:20])"
   ]
  },
  {
   "cell_type": "markdown",
   "metadata": {},
   "source": [
    "<img src=\"图片/分割线.png\" width = \"800\" height = \"400\" div align=left />"
   ]
  },
  {
   "cell_type": "markdown",
   "metadata": {},
   "source": [
    "- 从结果看出TPR和FPR的值都很高，说明来一个人基本都会判断为可以借钱，那显然模型就完全没有分类的意义。"
   ]
  },
  {
   "cell_type": "markdown",
   "metadata": {},
   "source": [
    "#### 4.1.4 考虑权重后使用逻辑回归训练"
   ]
  },
  {
   "cell_type": "code",
   "execution_count": 33,
   "metadata": {},
   "outputs": [
    {
     "name": "stdout",
     "output_type": "stream",
     "text": [
      "0.6585692950105154\n",
      "\n",
      "0.38341099720410066\n",
      "\n",
      "0     1\n",
      "1     0\n",
      "2     0\n",
      "3     0\n",
      "4     1\n",
      "5     0\n",
      "6     0\n",
      "7     0\n",
      "8     0\n",
      "9     0\n",
      "10    1\n",
      "11    0\n",
      "12    1\n",
      "13    1\n",
      "14    0\n",
      "15    0\n",
      "16    1\n",
      "17    1\n",
      "18    1\n",
      "19    0\n",
      "dtype: int64\n"
     ]
    }
   ],
   "source": [
    "from sklearn.linear_model import LogisticRegression\n",
    "from sklearn.model_selection import cross_val_predict\n",
    "\"\"\"\n",
    "class_weight：可以调整正反样本的权重\n",
    "balanced:希望正负样本平衡一些的\n",
    "\"\"\"\n",
    "lr = LogisticRegression(class_weight=\"balanced\")\n",
    "predictions = cross_val_predict(lr, features, target, cv=10)\n",
    "predictions = pd.Series(predictions)\n",
    "\n",
    "# False positives.\n",
    "fp_filter = (predictions == 1) & (loans[\"loan_status\"] == 0)\n",
    "fp = len(predictions[fp_filter])\n",
    "\n",
    "# True positives.\n",
    "tp_filter = (predictions == 1) & (loans[\"loan_status\"] == 1)\n",
    "tp = len(predictions[tp_filter])\n",
    "\n",
    "# False negatives.\n",
    "fn_filter = (predictions == 0) & (loans[\"loan_status\"] == 1)\n",
    "fn = len(predictions[fn_filter])\n",
    "\n",
    "# True negatives\n",
    "tn_filter = (predictions == 0) & (loans[\"loan_status\"] == 0)\n",
    "tn = len(predictions[tn_filter])\n",
    "\n",
    "# Rates\n",
    "tpr = tp / float((tp + fn))\n",
    "fpr = fp / float((fp + tn))\n",
    "\n",
    "print(tpr)#真正率\n",
    "print()\n",
    "print(fpr)#假正率\n",
    "print()\n",
    "print(predictions[:20])"
   ]
  },
  {
   "cell_type": "markdown",
   "metadata": {},
   "source": [
    "#### 4.1.5 自定义权重后使用逻辑回归训练"
   ]
  },
  {
   "cell_type": "code",
   "execution_count": 34,
   "metadata": {},
   "outputs": [
    {
     "name": "stdout",
     "output_type": "stream",
     "text": [
      "0.7343107074278399\n",
      "\n",
      "0.4797763280521901\n"
     ]
    }
   ],
   "source": [
    "from sklearn.linear_model import LogisticRegression\n",
    "from sklearn.model_selection import cross_val_predict\n",
    "\"\"\"\n",
    "权重项可以自己定义的\n",
    "0代表5倍的\n",
    "1代表10倍的\n",
    "\"\"\"\n",
    "penalty = {\n",
    "    0: 5,\n",
    "    1: 1\n",
    "}\n",
    "\n",
    "lr = LogisticRegression(class_weight=penalty)\n",
    "# kf = KFold(features.shape[0], random_state=1)\n",
    "kf = 10\n",
    "predictions = cross_val_predict(lr, features, target, cv=kf)\n",
    "predictions = pd.Series(predictions)\n",
    "\n",
    "# False positives.\n",
    "fp_filter = (predictions == 1) & (loans[\"loan_status\"] == 0)\n",
    "fp = len(predictions[fp_filter])\n",
    "\n",
    "# True positives.\n",
    "tp_filter = (predictions == 1) & (loans[\"loan_status\"] == 1)\n",
    "tp = len(predictions[tp_filter])\n",
    "\n",
    "# False negatives.\n",
    "fn_filter = (predictions == 0) & (loans[\"loan_status\"] == 1)\n",
    "fn = len(predictions[fn_filter])\n",
    "\n",
    "# True negatives\n",
    "tn_filter = (predictions == 0) & (loans[\"loan_status\"] == 0)\n",
    "tn = len(predictions[tn_filter])\n",
    "\n",
    "# Rates\n",
    "tpr = tp / float((tp + fn))\n",
    "fpr = fp / float((fp + tn))\n",
    "\n",
    "print(tpr)\n",
    "print()\n",
    "print(fpr)"
   ]
  },
  {
   "cell_type": "markdown",
   "metadata": {},
   "source": [
    "- 那么为什么会出现上面极其离谱的现象呢？这是由于我们的样本是很不均衡的，这就容易导致我们构建的分类器把所有样本都归为样本量较大的那一个类。解决的方法有很多，其中一个是进行数据增强，就是把少的样本增多，但是要添加的数据要么是收集的，要么是自己造的，所以这项工作还是挺难的。所以将考虑权重，将少的样本的权重增大，期望模型能够达到比较均衡的状态。"
   ]
  },
  {
   "cell_type": "markdown",
   "metadata": {},
   "source": [
    " - 对上述模型的预测结果进行简单的分析，发现错误率和正确率都达到99.9%，错误率太高，通过观察预测结果发现，模型几乎将所有的样本都判断为正例，通过对原始数据的了解，分析造成该现象的原因是由于政府样本数量相差太大，即样本不均衡造成模型对正例样本有所偏重，这里采用对样本添加权重值的方式进行调整，首先采用默认的均衡调整。\n"
   ]
  },
  {
   "cell_type": "markdown",
   "metadata": {},
   "source": [
    "- 以上案例不是着重给出一个正确率的预测模型，只是给出使用机器学习建模的一般流程，分为两大部分：数据处理和模型学习，第一部分需要大量的知识对原始数据进行清理及特征提取，第二部分模型学习，涉及长时间的模型参数调整，调整方向和策略需要大家进一步的研究。模型效果不理想时，可以考虑的调整策略：\n",
    "\n",
    "    1.调节正负样本的权重参数。\n",
    "\n",
    "    2.更换模型算法。\n",
    "\n",
    "    3.同时几个使用模型进行预测，然后取去测的最终结果。\n",
    "\n",
    "    4.使用原数据，生成新特征。\n",
    "\n",
    "    5.调整模型参数\n"
   ]
  },
  {
   "cell_type": "code",
   "execution_count": null,
   "metadata": {},
   "outputs": [],
   "source": []
  }
 ],
 "metadata": {
  "kernelspec": {
   "display_name": "Python 3",
   "language": "python",
   "name": "python3"
  },
  "language_info": {
   "codemirror_mode": {
    "name": "ipython",
    "version": 3
   },
   "file_extension": ".py",
   "mimetype": "text/x-python",
   "name": "python",
   "nbconvert_exporter": "python",
   "pygments_lexer": "ipython3",
   "version": "3.6.10"
  },
  "toc": {
   "base_numbering": 1,
   "nav_menu": {},
   "number_sections": false,
   "sideBar": true,
   "skip_h1_title": false,
   "title_cell": "Table of Contents",
   "title_sidebar": "Contents",
   "toc_cell": false,
   "toc_position": {
    "height": "calc(100% - 180px)",
    "left": "10px",
    "top": "150px",
    "width": "313.390625px"
   },
   "toc_section_display": true,
   "toc_window_display": true
  }
 },
 "nbformat": 4,
 "nbformat_minor": 2
}
