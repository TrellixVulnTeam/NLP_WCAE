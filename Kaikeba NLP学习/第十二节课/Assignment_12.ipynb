{
 "cells": [
  {
   "cell_type": "markdown",
   "metadata": {},
   "source": [
    "# Assignment 12"
   ]
  },
  {
   "cell_type": "markdown",
   "metadata": {},
   "source": [
    "### 1.复习上课内容"
   ]
  },
  {
   "cell_type": "markdown",
   "metadata": {},
   "source": [
    "### 2.回答以下理论问题"
   ]
  },
  {
   "cell_type": "markdown",
   "metadata": {},
   "source": [
    "#### 1. 请写一下TF-IDF的计算公式"
   ]
  },
  {
   "cell_type": "markdown",
   "metadata": {},
   "source": [
    "    TF: 某个词在该文段中出现的比例\n",
    "    IDF: 所有文段数量与出现某个词的文段数量之间的比值\n",
    "    TF-IDF: TF与IDF取log相乘"
   ]
  },
  {
   "cell_type": "markdown",
   "metadata": {},
   "source": [
    "#### 2. LDA算法的基本假设是什么？"
   ]
  },
  {
   "cell_type": "markdown",
   "metadata": {},
   "source": [
    "    每个文本的主题服从某个分布；每个主题下的词服从某个分布"
   ]
  },
  {
   "cell_type": "markdown",
   "metadata": {},
   "source": [
    "#### 3. 在TextRank算法中构建图的权重是如何得到的？"
   ]
  },
  {
   "cell_type": "markdown",
   "metadata": {},
   "source": [
    "    先取滑动窗口比如3，按顺序每连续3个词算相互连接的，其中每两个词之间的权重w由他们的词向量计算余弦相似度得到；\n",
    "    开始将每个词在图中的权重WS统一初始化，然后进行迭代更新，对某个词的更新方法为找到与之相连接的所有词，分别计算每个w与连接词所有出度w之和的比例再乘上连接词各自的WS，一般还会取一个系数d，迭代到稳定为止"
   ]
  },
  {
   "cell_type": "markdown",
   "metadata": {},
   "source": [
    "#### 4. 什么是命名实体识别？ 有什么应用场景？"
   ]
  },
  {
   "cell_type": "markdown",
   "metadata": {},
   "source": [
    "    提取出文段中特定词所属的类别词性，如人名、机构名、地名等专有名词和有意义的时间等；问答系统，关系抽取，依存分析等"
   ]
  },
  {
   "cell_type": "markdown",
   "metadata": {},
   "source": [
    "#### 5.NLP主要有哪几类任务 ？"
   ]
  },
  {
   "cell_type": "markdown",
   "metadata": {},
   "source": [
    "    分类任务：文本分类，情感分析\n",
    "    生成任务：机器翻译，问题回答，文章摘要"
   ]
  },
  {
   "cell_type": "markdown",
   "metadata": {},
   "source": [
    "### 3.实践题"
   ]
  },
  {
   "cell_type": "markdown",
   "metadata": {},
   "source": [
    "#### 3.1 手动实现TextRank算法 (在新闻数据中随机提取100条新闻训练词向量和做做法测试）"
   ]
  },
  {
   "cell_type": "markdown",
   "metadata": {},
   "source": [
    " 提示：\n",
    " 1. 确定窗口，建立图链接。   \n",
    " 2. 通过词向量相似度确定图上边的权重\n",
    " 3. 根据公式实现算法迭代(d=0.85)"
   ]
  },
  {
   "cell_type": "code",
   "execution_count": 43,
   "metadata": {},
   "outputs": [],
   "source": [
    "from gensim.models import Word2Vec\n",
    "import pandas as pd\n",
    "import jieba\n",
    "import jieba.posseg as jp\n",
    "import random\n",
    "import re\n",
    "import numpy as np\n",
    "from operator import itemgetter\n",
    "from itertools import combinations\n",
    "import warnings\n",
    "from collections import defaultdict\n",
    "from scipy.spatial.distance import cosine\n",
    "\n",
    "warnings.filterwarnings(\"ignore\")"
   ]
  },
  {
   "cell_type": "code",
   "execution_count": 2,
   "metadata": {},
   "outputs": [],
   "source": [
    "data = pd.read_csv('sqlResult_1558435.csv', encoding='gb18030')"
   ]
  },
  {
   "cell_type": "code",
   "execution_count": 3,
   "metadata": {},
   "outputs": [
    {
     "data": {
      "text/plain": [
       "100"
      ]
     },
     "execution_count": 3,
     "metadata": {},
     "output_type": "execute_result"
    }
   ],
   "source": [
    "news = data['content'][np.random.randint(len(data), size=100)]\n",
    "len(news)"
   ]
  },
  {
   "cell_type": "code",
   "execution_count": 4,
   "metadata": {},
   "outputs": [],
   "source": [
    "stopwords = [w.strip() for w in open('哈工大停用词表.txt', encoding='utf-8') if w.strip() != '']"
   ]
  },
  {
   "cell_type": "code",
   "execution_count": 48,
   "metadata": {},
   "outputs": [],
   "source": [
    "def token(string):\n",
    "    return re.findall(r'[\\d|\\w]+',string)"
   ]
  },
  {
   "cell_type": "code",
   "execution_count": 64,
   "metadata": {},
   "outputs": [
    {
     "name": "stdout",
     "output_type": "stream",
     "text": [
      "CPU times: user 1.24 s, sys: 4.49 ms, total: 1.25 s\n",
      "Wall time: 1.25 s\n"
     ]
    }
   ],
   "source": [
    "%%time\n",
    "\n",
    "flags = ('n', 'nr', 'ns', 'nt', 'eng', 'v', 'd')\n",
    "words_ls = []\n",
    "for text in news.astype(str):\n",
    "    words = [w.word for w in jp.cut(''.join(token(text))) \n",
    "             if w.flag in flags and w.word not in stopwords and w.word != 'n']\n",
    "    words_ls.append(words)"
   ]
  },
  {
   "cell_type": "code",
   "execution_count": 66,
   "metadata": {},
   "outputs": [],
   "source": [
    "word2vec_model = Word2Vec(words_ls, min_count=1, iter=10)"
   ]
  },
  {
   "cell_type": "code",
   "execution_count": 38,
   "metadata": {},
   "outputs": [],
   "source": [
    "def get_important_words_by_textrank(cutwords:list, word2vec_model, n=5):\n",
    "    '''cutwords的输入为words_ls中的一个文段分词结果，取前n个重要的词，滑动窗口默认取3'''\n",
    "\n",
    "    n_words = len(cutwords)\n",
    "    w2w_link = defaultdict(set)\n",
    "    w2w_weight = {}\n",
    "    for i in range(n_words-3+1):\n",
    "        word_a, word_b, word_c = cutwords[i:i+3]\n",
    "        w2w_link[word_a].update([word_b, word_c])\n",
    "        w2w_link[word_b].update([word_a, word_c])\n",
    "        w2w_link[word_c].update([word_a, word_b])\n",
    "        w2w_weight[(word_a, word_b)] = cosine(word2vec_model[word_a], word2vec_model[word_b])\n",
    "        w2w_weight[(word_a, word_c)] = cosine(word2vec_model[word_a], word2vec_model[word_c])\n",
    "        w2w_weight[(word_b, word_c)] = cosine(word2vec_model[word_b], word2vec_model[word_c])\n",
    "        \n",
    "    words = set(cutwords)\n",
    "    WS = {}\n",
    "    for w in words:\n",
    "        WS[w] = 1/n_words\n",
    "    \n",
    "    flag = True\n",
    "    while flag:\n",
    "        new_WS = {}\n",
    "        for wi in words:\n",
    "            ws_wi = 0\n",
    "            for wj in w2w_link[wi]:\n",
    "                denominator = sum([w2w_weight[(wj, x)] if (wj, x) in w2w_weight \n",
    "                                   else w2w_weight[(x, wj)] for x in w2w_link[wj]])\n",
    "                if (wi, wj) in w2w_weight:\n",
    "                    ws_wi += w2w_weight[(wi, wj)] / denominator * WS[wj]\n",
    "                else:\n",
    "                    ws_wi += w2w_weight[(wj, wi)] / denominator * WS[wj]\n",
    "                    \n",
    "            new_WS[wi] = 0.15 + 0.85*ws_wi\n",
    "            \n",
    "        if all([np.abs(new_WS[wi] - WS[wi]) < 0.001 for wi in words]):\n",
    "            flag = False\n",
    "            \n",
    "        for wi in words:\n",
    "            WS[wi] = new_WS[wi]\n",
    "    \n",
    "    rank = sorted(WS.items(), key=itemgetter(1), reverse=True)[:n]\n",
    "    important_words = []\n",
    "    for (w, _) in rank:\n",
    "        important_words.append(w)\n",
    "    \n",
    "    return important_words"
   ]
  },
  {
   "cell_type": "code",
   "execution_count": 67,
   "metadata": {},
   "outputs": [
    {
     "data": {
      "text/plain": [
       "['问题', '山西省', '治污', '整改', '山西']"
      ]
     },
     "execution_count": 67,
     "metadata": {},
     "output_type": "execute_result"
    }
   ],
   "source": [
    "get_important_words_by_textrank(words_ls[0], word2vec_model, n=5)"
   ]
  },
  {
   "cell_type": "code",
   "execution_count": 68,
   "metadata": {},
   "outputs": [
    {
     "data": {
      "text/plain": [
       "['舞会', '奥斯卡', '艺术', '慈善', '时尚界']"
      ]
     },
     "execution_count": 68,
     "metadata": {},
     "output_type": "execute_result"
    }
   ],
   "source": [
    "get_important_words_by_textrank(words_ls[1], word2vec_model, n=5)"
   ]
  },
  {
   "cell_type": "code",
   "execution_count": 69,
   "metadata": {},
   "outputs": [
    {
     "data": {
      "text/plain": [
       "['甘冈', '南锡', '迪亚', '甲级联赛', '足球']"
      ]
     },
     "execution_count": 69,
     "metadata": {},
     "output_type": "execute_result"
    }
   ],
   "source": [
    "get_important_words_by_textrank(words_ls[2], word2vec_model, n=5)"
   ]
  },
  {
   "cell_type": "markdown",
   "metadata": {},
   "source": [
    "### 3.2 使用词向量和k-means的方法寻找关键词"
   ]
  },
  {
   "cell_type": "markdown",
   "metadata": {},
   "source": [
    "提示：   \n",
    "1.使用3.1训练好的词向量   \n",
    "2.可使用sklearn等机器学习库"
   ]
  },
  {
   "cell_type": "code",
   "execution_count": 70,
   "metadata": {},
   "outputs": [],
   "source": [
    "from sklearn.cluster import KMeans\n",
    "from sklearn.metrics import mean_squared_error"
   ]
  },
  {
   "cell_type": "markdown",
   "metadata": {},
   "source": [
    "#### 得到每个分类中心后，将该分类下的词与该中心计算距离并排序，取最近的词为该中心的代表词，请问这里计算距离用cosine与mean_squared_error哪个更合适呢？"
   ]
  },
  {
   "cell_type": "code",
   "execution_count": 84,
   "metadata": {},
   "outputs": [],
   "source": [
    "def get_important_words_by_kmeans(cutwords:list, word2vec_model, n=5):\n",
    "    words_vec = []\n",
    "    for w in cutwords:\n",
    "        words_vec.append(word2vec_model[w])\n",
    "        \n",
    "    kmeans_model = KMeans(n_clusters=n)\n",
    "    kmeans_model.fit(np.array(words_vec))\n",
    "    label_of_words = defaultdict(list)\n",
    "    \n",
    "    for w, label in zip(cutwords, kmeans_model.labels_):\n",
    "        label_of_words[label].append(w)\n",
    "    \n",
    "    important_words = []\n",
    "    for label, words in label_of_words.items():\n",
    "        center = kmeans_model.cluster_centers_[label]\n",
    "        distance2center = {}\n",
    "        for word in words:\n",
    "            distance2center[word] = mean_squared_error(word2vec_model[word], center)\n",
    "        rank = sorted(distance2center.items(), key=itemgetter(1), reverse=False)[0]\n",
    "        important_words.append(rank[0])\n",
    "        \n",
    "    return important_words"
   ]
  },
  {
   "cell_type": "code",
   "execution_count": 96,
   "metadata": {},
   "outputs": [
    {
     "data": {
      "text/plain": [
       "['问题', '太原市', '治理', '进行', '整改']"
      ]
     },
     "execution_count": 96,
     "metadata": {},
     "output_type": "execute_result"
    }
   ],
   "source": [
    "get_important_words_by_kmeans(words_ls[0], word2vec_model, n=5)"
   ]
  },
  {
   "cell_type": "code",
   "execution_count": 97,
   "metadata": {},
   "outputs": [
    {
     "data": {
      "text/plain": [
       "['新华社', '举行', '外代', '博物馆', '舞会']"
      ]
     },
     "execution_count": 97,
     "metadata": {},
     "output_type": "execute_result"
    }
   ],
   "source": [
    "get_important_words_by_kmeans(words_ls[1], word2vec_model, n=5)"
   ]
  },
  {
   "cell_type": "code",
   "execution_count": 98,
   "metadata": {},
   "outputs": [
    {
     "data": {
      "text/plain": [
       "['新华社', '队', '外代', '南锡', '胜']"
      ]
     },
     "execution_count": 98,
     "metadata": {},
     "output_type": "execute_result"
    }
   ],
   "source": [
    "get_important_words_by_kmeans(words_ls[2], word2vec_model, n=5)"
   ]
  },
  {
   "cell_type": "markdown",
   "metadata": {},
   "source": [
    "### 3.3  提取新闻人物里的对话。(使用以上提取小数据即可）"
   ]
  },
  {
   "cell_type": "markdown",
   "metadata": {},
   "source": [
    "提示：    \n",
    "1.寻找预料里具有表示说的意思。    \n",
    "2.使用语法分析提取句子结构。    \n",
    "3.检测谓语是否有表示说的意思。"
   ]
  },
  {
   "cell_type": "code",
   "execution_count": 88,
   "metadata": {},
   "outputs": [],
   "source": [
    "import pyltp\n",
    "from gensim.models import Word2Vec\n",
    "import jieba\n",
    "from gensim.models.word2vec import LineSentence\n",
    "from pyltp import SentenceSplitter, NamedEntityRecognizer, Postagger, Parser, Segmentor\n",
    "from gensim import models\n",
    "import numpy as np"
   ]
  },
  {
   "cell_type": "code",
   "execution_count": 115,
   "metadata": {},
   "outputs": [],
   "source": [
    "text = jieba.lcut(news.tolist()[68])\n",
    "text = ''.join([w for w in text if w not in ['\\\\', 'n']])"
   ]
  },
  {
   "cell_type": "code",
   "execution_count": 116,
   "metadata": {},
   "outputs": [
    {
     "data": {
      "text/plain": [
       "'n2017年5月10日，在韩国首尔青瓦台总统府，新当选总统文在寅在记者会上发言。（新华社记者姚琪琳摄）新华社北京5月24日电（记者杨舒怡）韩国总统文在寅22日下令对一个庞大的水利项目启动调查，怀疑该项目决策过程不透明、招投标环节可能存在“猫腻”。这个大型水利项目牵涉4条河流的数十座水坝和近百个水库，总耗资22万亿韩元（约合1349.4亿元人民币），备受韩国民众关注。【涉嫌违规】韩国《中央日报》23日援引韩国负责社会事务的官员金秀炫（音译）的话报道，韩国总统文在寅22日下令对牵涉汉江、锦江、洛东江、荣山江4条河流的一个大型水利项目展开审计工作，以查明其决策过程和实施环节是否存在“猫腻”。该项目启动于2009年，2011年竣工，总共修建了21座水坝和96个水库，以期减少洪灾和旱灾影响，以及净化河流。不过，该项目招致不少质疑，被指未能达到预期目标。据金秀炫介绍，不少人怀疑该项目仓促上马，在政府决策和后续实施过程中“不符常规”。文在寅要求，此次审计结果将通过白皮书形式发表，希望能够促进今后决策透明、执行有力。按照金秀炫的说法，“审计中若查出任何违规和腐败情形，都将依法处置”。【多次挨查】这一水利项目引发争议，过去几年中已经受过3次调查。前两次调查均在李明博执政时期，分别发生在2011年1月、2013年1月。第一次调查并未查出明显违规；第二次调查则指出，该项目在水质管理方面存在一些问题。第三次调查是在2013年7月，即朴槿惠执政时期。这次调查发现不少问题，例如招投标过程存在共谋、报价虚高等。韩国总统府青瓦台一名官员22日总结道：“李明博总统时期的两次审计对该项目的决策本身并未提出质疑；而朴槿惠总统时期的那次审计主要关注多家建筑公司的共谋活动。”金秀炫22日透露，李明博执政期间的部分官员卷入这一水利项目，今后可能会受到刑事调查。【承诺改革】由于在水质管理等方面存在缺陷，这一水利项目今后的命运在韩国社会引发讨论。韩国政府打算成立一个专家组，对该项目展开综合评估。其中，部分水坝的去留问题将在2018年年底予以决定。金秀炫说，韩国政府还考虑将环境部负责水质管理的部门与国土交通部合并，希望以此提升办事效率。文在寅今年竞选总统期间曾表示，上台后将努力革除历届政府积弊，包括查处国防采购、兴修水利等领域的贪腐案。韩国《中央日报》评论，文在寅22日宣布调查水利项目的潜在问题，表明其着手兑现竞选承诺。'"
      ]
     },
     "execution_count": 116,
     "metadata": {},
     "output_type": "execute_result"
    }
   ],
   "source": [
    "text"
   ]
  },
  {
   "cell_type": "code",
   "execution_count": 117,
   "metadata": {},
   "outputs": [],
   "source": [
    "present_word = ['说', '介绍', '总结', '总结道', '透露']"
   ]
  },
  {
   "cell_type": "code",
   "execution_count": 128,
   "metadata": {},
   "outputs": [],
   "source": [
    "cws_model = \"ltp_data_v3.4.0/cws.model\"\n",
    "pos_model = \"ltp_data_v3.4.0/pos.model\"\n",
    "par_model = \"ltp_data_v3.4.0/parser.model\"\n",
    "ner_model = \"ltp_data_v3.4.0/ner.model\""
   ]
  },
  {
   "cell_type": "code",
   "execution_count": 119,
   "metadata": {},
   "outputs": [],
   "source": [
    "def get_word_list(sentence,model):\n",
    "    #得到分词\n",
    "    segmentor = Segmentor()\n",
    "    segmentor.load(model)\n",
    "    word_list = list(segmentor.segment(sentence))\n",
    "    segmentor.release()\n",
    "    return word_list\n",
    "\n",
    "def get_postag_list(word_list,model):\n",
    "    #得到词性标注\n",
    "    postag = Postagger()\n",
    "    postag.load(model)\n",
    "    postag_list = list(postag.postag(word_list))\n",
    "    postag.release()\n",
    "    return postag_list\n",
    "\n",
    "def get_parser_list(word_list,postag_list,model):\n",
    "    #得到依存关系\n",
    "    parser = Parser()\n",
    "    parser.load(model)\n",
    "    arcs = parser.parse(word_list,postag_list)\n",
    "    arc_list = [(arc.head,arc.relation) for arc in arcs]\n",
    "    parser.release()\n",
    "    return arc_list"
   ]
  },
  {
   "cell_type": "code",
   "execution_count": 129,
   "metadata": {},
   "outputs": [],
   "source": [
    "word_list = get_word_list(text, cws_model)"
   ]
  },
  {
   "cell_type": "code",
   "execution_count": 130,
   "metadata": {},
   "outputs": [],
   "source": [
    "postag_list = get_postag_list(word_list, pos_model)"
   ]
  },
  {
   "cell_type": "code",
   "execution_count": 131,
   "metadata": {},
   "outputs": [],
   "source": [
    "parser_list = get_parser_list(word_list, postag_list, par_model)"
   ]
  },
  {
   "cell_type": "code",
   "execution_count": 132,
   "metadata": {},
   "outputs": [
    {
     "name": "stdout",
     "output_type": "stream",
     "text": [
      "n2017 (2, 'ATT')\n",
      "年 (4, 'ATT')\n",
      "5月 (4, 'ATT')\n",
      "10日 (13, 'ADV')\n",
      "， (4, 'WP')\n",
      "在 (13, 'ADV')\n",
      "韩国 (8, 'ATT')\n",
      "首尔 (9, 'ATT')\n",
      "青瓦台 (10, 'ATT')\n",
      "总统府 (6, 'POB')\n",
      "， (6, 'WP')\n",
      "新 (13, 'ADV')\n",
      "当选 (81, 'ATT')\n",
      "总统 (15, 'ATT')\n",
      "文 (13, 'VOB')\n",
      "在 (21, 'ADV')\n",
      "寅 (21, 'SBV')\n",
      "在 (21, 'ADV')\n",
      "记者会 (20, 'ATT')\n",
      "上 (18, 'POB')\n",
      "发言 (13, 'COO')\n",
      "。 (13, 'WP')\n",
      "（ (27, 'WP')\n",
      "新华社 (25, 'ATT')\n",
      "记者 (26, 'ATT')\n",
      "姚琪琳 (27, 'SBV')\n",
      "摄 (13, 'COO')\n",
      "） (27, 'WP')\n",
      "新华社 (33, 'SBV')\n",
      "北京 (33, 'ADV')\n",
      "5月 (32, 'ATT')\n",
      "24日 (33, 'ADV')\n",
      "电 (13, 'COO')\n",
      "（ (36, 'WP')\n",
      "记者 (36, 'ATT')\n",
      "杨舒怡 (33, 'CMP')\n",
      "） (36, 'WP')\n",
      "韩国 (39, 'ATT')\n",
      "总统 (40, 'ATT')\n",
      "文 (44, 'SBV')\n",
      "在 (44, 'ADV')\n",
      "寅 (43, 'ATT')\n",
      "22日 (41, 'POB')\n",
      "下令 (33, 'VOB')\n",
      "对 (51, 'ADV')\n",
      "一个 (50, 'ATT')\n",
      "庞大 (50, 'ATT')\n",
      "的 (47, 'RAD')\n",
      "水利 (50, 'ATT')\n",
      "项目 (45, 'POB')\n",
      "启动 (44, 'VOB')\n",
      "调查 (51, 'VOB')\n",
      "， (44, 'WP')\n",
      "怀疑 (44, 'COO')\n",
      "该 (56, 'ATT')\n",
      "项目 (58, 'ATT')\n",
      "决策 (58, 'ATT')\n",
      "过程 (63, 'ATT')\n",
      "不 (60, 'ADV')\n",
      "透明 (63, 'ATT')\n",
      "、 (62, 'WP')\n",
      "招投标 (63, 'ATT')\n",
      "环节 (65, 'SBV')\n",
      "可能 (65, 'ADV')\n",
      "存在 (54, 'VOB')\n",
      "“ (67, 'WP')\n",
      "猫腻 (65, 'VOB')\n",
      "” (67, 'WP')\n",
      "。 (13, 'WP')\n",
      "这个 (73, 'ATT')\n",
      "大型 (73, 'ATT')\n",
      "水利 (73, 'ATT')\n",
      "项目 (74, 'SBV')\n",
      "牵涉 (81, 'ATT')\n",
      "4 (76, 'ATT')\n",
      "条 (77, 'ATT')\n",
      "河流 (74, 'VOB')\n",
      "的 (74, 'RAD')\n",
      "数十 (80, 'ATT')\n",
      "座 (81, 'ATT')\n",
      "水坝 (100, 'SBV')\n",
      "和 (86, 'LAD')\n",
      "近 (84, 'ATT')\n",
      "百 (85, 'ATT')\n",
      "个 (86, 'ATT')\n",
      "水库 (81, 'COO')\n",
      "， (81, 'WP')\n",
      "总 (89, 'ADV')\n",
      "耗资 (81, 'COO')\n",
      "22万亿 (91, 'ATT')\n",
      "韩元 (89, 'VOB')\n",
      "（ (94, 'WP')\n",
      "约 (94, 'ADV')\n",
      "合 (89, 'COO')\n",
      "1349.4亿 (96, 'ATT')\n",
      "元 (97, 'ATT')\n",
      "人民币 (94, 'VOB')\n",
      "） (94, 'WP')\n",
      "， (81, 'WP')\n",
      "备受 (0, 'HED')\n",
      "韩国 (102, 'ATT')\n",
      "民众 (103, 'SBV')\n",
      "关注 (100, 'VOB')\n",
      "。 (100, 'WP')\n",
      "【 (106, 'WP')\n",
      "涉嫌 (100, 'COO')\n",
      "违规 (106, 'VOB')\n",
      "】 (106, 'WP')\n",
      "韩国 (112, 'ATT')\n",
      "《 (112, 'WP')\n",
      "中央 (112, 'ATT')\n",
      "日报 (115, 'SBV')\n",
      "》 (112, 'WP')\n",
      "23日 (115, 'ADV')\n",
      "援引 (106, 'COO')\n",
      "韩国 (117, 'SBV')\n",
      "负责 (121, 'ATT')\n",
      "社会 (119, 'ATT')\n",
      "事务 (117, 'VOB')\n",
      "的 (117, 'RAD')\n",
      "官员 (122, 'ATT')\n",
      "金秀炫 (127, 'ATT')\n",
      "（ (124, 'WP')\n",
      "音译 (122, 'COO')\n",
      "） (124, 'WP')\n",
      "的 (122, 'RAD')\n",
      "话 (128, 'SBV')\n",
      "报道 (115, 'VOB')\n",
      "， (115, 'WP')\n",
      "韩国 (131, 'ATT')\n",
      "总统 (132, 'ATT')\n",
      "文 (136, 'SBV')\n",
      "在 (136, 'ADV')\n",
      "寅 (135, 'ATT')\n",
      "22日 (133, 'POB')\n",
      "下令 (115, 'COO')\n",
      "对 (155, 'ADV')\n",
      "牵涉 (154, 'ATT')\n",
      "汉江 (149, 'ATT')\n",
      "、 (141, 'WP')\n",
      "锦江 (139, 'COO')\n",
      "、 (143, 'WP')\n",
      "洛东江 (139, 'COO')\n",
      "、 (145, 'WP')\n",
      "荣山 (146, 'ATT')\n",
      "江 (139, 'COO')\n",
      "4 (148, 'ATT')\n",
      "条 (149, 'ATT')\n",
      "河流 (138, 'VOB')\n",
      "的 (138, 'RAD')\n",
      "一个 (154, 'ATT')\n",
      "大型 (154, 'ATT')\n",
      "水利 (154, 'ATT')\n",
      "项目 (137, 'POB')\n",
      "展开 (136, 'VOB')\n",
      "审计 (157, 'ATT')\n",
      "工作 (155, 'VOB')\n",
      "， (136, 'WP')\n",
      "以 (160, 'ADV')\n",
      "查明 (136, 'COO')\n",
      "其 (163, 'ATT')\n",
      "决策 (163, 'ATT')\n",
      "过程 (168, 'SBV')\n",
      "和 (165, 'LAD')\n",
      "实施 (166, 'ATT')\n",
      "环节 (163, 'COO')\n",
      "是否 (168, 'ADV')\n",
      "存在 (160, 'VOB')\n",
      "“ (170, 'WP')\n",
      "猫腻 (168, 'VOB')\n",
      "” (170, 'WP')\n",
      "。 (100, 'WP')\n",
      "该 (174, 'ATT')\n",
      "项目 (175, 'SBV')\n",
      "启动 (100, 'COO')\n",
      "于 (175, 'CMP')\n",
      "2009年 (176, 'POB')\n",
      "， (175, 'WP')\n",
      "2011年 (180, 'ADV')\n",
      "竣工 (175, 'COO')\n",
      "， (175, 'WP')\n",
      "总共 (183, 'ADV')\n",
      "修建 (175, 'COO')\n",
      "了 (183, 'RAD')\n",
      "21 (186, 'ATT')\n",
      "座 (187, 'ATT')\n",
      "水坝 (183, 'VOB')\n",
      "和 (191, 'LAD')\n",
      "96 (190, 'ATT')\n",
      "个 (191, 'ATT')\n",
      "水库 (187, 'COO')\n",
      "， (175, 'WP')\n",
      "以期 (194, 'ADV')\n",
      "减少 (175, 'COO')\n",
      "洪灾 (198, 'SBV')\n",
      "和 (197, 'LAD')\n",
      "旱灾 (195, 'COO')\n",
      "影响 (194, 'VOB')\n",
      "， (175, 'WP')\n",
      "以及 (201, 'LAD')\n",
      "净化 (175, 'COO')\n",
      "河流 (201, 'VOB')\n",
      "。 (100, 'WP')\n",
      "不过 (208, 'ADV')\n",
      "， (204, 'WP')\n",
      "该 (207, 'ATT')\n",
      "项目 (208, 'SBV')\n",
      "招致 (100, 'COO')\n",
      "不少 (210, 'ATT')\n",
      "质疑 (208, 'VOB')\n",
      "， (208, 'WP')\n",
      "被 (213, 'ADV')\n",
      "指 (208, 'COO')\n",
      "未能 (215, 'ADV')\n",
      "达到 (213, 'VOB')\n",
      "预期 (217, 'ATT')\n",
      "目标 (215, 'VOB')\n",
      "。 (100, 'WP')\n",
      "据 (225, 'ADV')\n",
      "金秀炫 (221, 'SBV')\n",
      "介绍 (219, 'POB')\n",
      "， (219, 'WP')\n",
      "不少 (224, 'ATT')\n",
      "人 (225, 'SBV')\n",
      "怀疑 (100, 'COO')\n",
      "该 (227, 'ATT')\n",
      "项目 (229, 'SBV')\n",
      "仓促 (229, 'ADV')\n",
      "上马 (225, 'VOB')\n",
      "， (225, 'WP')\n",
      "在 (240, 'ADV')\n",
      "政府 (233, 'SBV')\n",
      "决策 (237, 'ATT')\n",
      "和 (236, 'LAD')\n",
      "后续 (236, 'ADV')\n",
      "实施 (233, 'COO')\n",
      "过程 (238, 'ATT')\n",
      "中 (231, 'POB')\n",
      "“ (240, 'WP')\n",
      "不符 (225, 'COO')\n",
      "常规 (240, 'VOB')\n",
      "” (240, 'WP')\n",
      "。 (100, 'WP')\n",
      "文在 (245, 'ATT')\n",
      "寅 (246, 'ATT')\n",
      "要求 (100, 'COO')\n",
      "， (246, 'WP')\n",
      "此次 (250, 'ATT')\n",
      "审计 (250, 'ATT')\n",
      "结果 (255, 'SBV')\n",
      "将 (255, 'ADV')\n",
      "通过 (255, 'ADV')\n",
      "白皮书 (254, 'ATT')\n",
      "形式 (252, 'POB')\n",
      "发表 (246, 'COO')\n",
      "， (255, 'WP')\n",
      "希望 (255, 'COO')\n",
      "能够 (259, 'ADV')\n",
      "促进 (257, 'VOB')\n",
      "今后 (262, 'ADV')\n",
      "决策 (262, 'SBV')\n",
      "透明 (259, 'VOB')\n",
      "、 (264, 'WP')\n",
      "执行 (262, 'COO')\n",
      "有力 (264, 'CMP')\n",
      "。 (100, 'WP')\n",
      "按照 (276, 'ADV')\n",
      "金秀炫 (270, 'ATT')\n",
      "的 (268, 'RAD')\n",
      "说法 (267, 'POB')\n",
      "， (267, 'WP')\n",
      "“ (276, 'WP')\n",
      "审计 (274, 'ATT')\n",
      "中 (276, 'ADV')\n",
      "若 (276, 'ADV')\n",
      "查出 (100, 'COO')\n",
      "任何 (278, 'ATT')\n",
      "违规 (276, 'VOB')\n",
      "和 (281, 'LAD')\n",
      "腐败 (281, 'ATT')\n",
      "情形 (278, 'COO')\n",
      "， (276, 'WP')\n",
      "都 (286, 'ADV')\n",
      "将 (286, 'ADV')\n",
      "依法 (286, 'ADV')\n",
      "处置 (276, 'COO')\n",
      "” (286, 'WP')\n",
      "。 (276, 'WP')\n",
      "【 (291, 'WP')\n",
      "多次 (291, 'ADV')\n",
      "挨查 (297, 'ADV')\n",
      "】 (291, 'WP')\n",
      "这 (294, 'ATT')\n",
      "一 (296, 'ATT')\n",
      "水利 (296, 'ATT')\n",
      "项目 (297, 'SBV')\n",
      "引发 (276, 'COO')\n",
      "争议 (297, 'VOB')\n",
      "， (297, 'WP')\n",
      "过去 (302, 'ATT')\n",
      "几 (302, 'ATT')\n",
      "年 (303, 'ATT')\n",
      "中 (305, 'ADV')\n",
      "已 (305, 'ADV')\n",
      "经受 (297, 'COO')\n",
      "过 (305, 'RAD')\n",
      "3 (308, 'ATT')\n",
      "次 (309, 'ATT')\n",
      "调查 (305, 'VOB')\n",
      "。 (297, 'WP')\n",
      "前 (312, 'ATT')\n",
      "两 (313, 'ATT')\n",
      "次 (314, 'ATT')\n",
      "调查 (322, 'SBV')\n",
      "均 (322, 'ADV')\n",
      "在 (322, 'ADV')\n",
      "李明博 (318, 'SBV')\n",
      "执政 (319, 'ATT')\n",
      "时期 (316, 'POB')\n",
      "， (316, 'WP')\n",
      "分别 (322, 'ADV')\n",
      "发生 (297, 'COO')\n",
      "在 (322, 'CMP')\n",
      "2011年 (325, 'ATT')\n",
      "1月 (328, 'ATT')\n",
      "、 (325, 'WP')\n",
      "2013年 (325, 'COO')\n",
      "1月 (323, 'POB')\n",
      "。 (297, 'WP')\n",
      "第一 (331, 'ATT')\n",
      "次 (332, 'ATT')\n",
      "调查 (335, 'SBV')\n",
      "并 (335, 'ADV')\n",
      "未 (335, 'ADV')\n",
      "查出 (297, 'COO')\n",
      "明显 (337, 'ADV')\n",
      "违规 (335, 'VOB')\n",
      "； (297, 'WP')\n",
      "第二 (340, 'ATT')\n",
      "次 (341, 'ATT')\n",
      "调查 (343, 'SBV')\n",
      "则 (343, 'ADV')\n",
      "指出 (297, 'COO')\n",
      "， (343, 'WP')\n",
      "该 (346, 'ATT')\n",
      "项目 (351, 'SBV')\n",
      "在 (351, 'ADV')\n",
      "水质 (349, 'FOB')\n",
      "管理 (350, 'ATT')\n",
      "方面 (347, 'POB')\n",
      "存在 (343, 'VOB')\n",
      "一些 (353, 'ATT')\n",
      "问题 (351, 'VOB')\n",
      "。 (276, 'WP')\n",
      "第三 (356, 'ATT')\n",
      "次 (357, 'ATT')\n",
      "调查 (358, 'SBV')\n",
      "是 (276, 'COO')\n",
      "在 (363, 'ADV')\n",
      "2013年 (361, 'ATT')\n",
      "7月 (359, 'POB')\n",
      "， (359, 'WP')\n",
      "即 (358, 'VOB')\n",
      "朴 (365, 'ATT')\n",
      "槿惠 (366, 'SBV')\n",
      "执政 (367, 'ATT')\n",
      "时期 (363, 'VOB')\n",
      "。 (276, 'WP')\n",
      "这次 (370, 'ATT')\n",
      "调查 (276, 'COO')\n",
      "发现 (370, 'COO')\n",
      "不少 (373, 'ATT')\n",
      "问题 (371, 'VOB')\n",
      "， (370, 'WP')\n",
      "例如 (378, 'ADV')\n",
      "招投标 (377, 'ATT')\n",
      "过程 (378, 'SBV')\n",
      "存在 (370, 'COO')\n",
      "共谋 (378, 'VOB')\n",
      "、 (381, 'WP')\n",
      "报价 (379, 'COO')\n",
      "虚 (381, 'COO')\n",
      "高等 (381, 'VOB')\n",
      "。 (100, 'WP')\n",
      "韩国 (386, 'ATT')\n",
      "总统府 (387, 'ATT')\n",
      "青瓦台 (390, 'ATT')\n",
      "一 (389, 'ATT')\n",
      "名 (390, 'ATT')\n",
      "官员 (392, 'SBV')\n",
      "22日 (392, 'ADV')\n",
      "总结 (100, 'COO')\n",
      "道 (392, 'CMP')\n",
      "： (393, 'WP')\n",
      "“ (411, 'WP')\n",
      "李明博 (397, 'ATT')\n",
      "总统 (398, 'ATT')\n",
      "时期 (402, 'ATT')\n",
      "的 (398, 'RAD')\n",
      "两 (401, 'ATT')\n",
      "次 (402, 'ADV')\n",
      "审计 (411, 'SBV')\n",
      "对 (407, 'ATT')\n",
      "该 (405, 'ATT')\n",
      "项目 (403, 'POB')\n",
      "的 (403, 'RAD')\n",
      "决策 (408, 'ATT')\n",
      "本身 (402, 'VOB')\n",
      "并 (411, 'ADV')\n",
      "未 (411, 'ADV')\n",
      "提出 (393, 'VOB')\n",
      "质疑 (411, 'VOB')\n",
      "； (411, 'WP')\n",
      "而 (424, 'ADV')\n",
      "朴 (416, 'ATT')\n",
      "槿惠 (417, 'ATT')\n",
      "总统 (418, 'ATT')\n",
      "时期 (424, 'ATT')\n",
      "的 (418, 'RAD')\n",
      "那 (421, 'ATT')\n",
      "次 (424, 'ADV')\n",
      "审计 (424, 'SBV')\n",
      "主要 (424, 'ADV')\n",
      "关注 (411, 'COO')\n",
      "多 (426, 'ATT')\n",
      "家 (428, 'ATT')\n",
      "建筑 (428, 'ATT')\n",
      "公司 (431, 'SBV')\n",
      "的 (428, 'RAD')\n",
      "共 (431, 'ADV')\n",
      "谋 (424, 'VOB')\n",
      "活动 (431, 'VOB')\n",
      "。 (411, 'WP')\n",
      "” (411, 'WP')\n",
      "金秀炫 (437, 'SBV')\n",
      "22日 (437, 'ADV')\n",
      "透露 (411, 'COO')\n",
      "， (437, 'WP')\n",
      "李明博 (440, 'SBV')\n",
      "执政 (441, 'ATT')\n",
      "期间 (444, 'ATT')\n",
      "的 (441, 'RAD')\n",
      "部分 (444, 'ATT')\n",
      "官员 (445, 'SBV')\n",
      "卷入 (437, 'VOB')\n",
      "这 (447, 'ATT')\n",
      "一 (449, 'ATT')\n",
      "水利 (449, 'ATT')\n",
      "项目 (445, 'VOB')\n",
      "， (445, 'WP')\n",
      "今后 (454, 'ADV')\n",
      "可能 (454, 'ADV')\n",
      "会 (454, 'ADV')\n",
      "受到 (445, 'COO')\n",
      "刑事 (456, 'ATT')\n",
      "调查 (454, 'VOB')\n",
      "。 (445, 'WP')\n",
      "【 (459, 'WP')\n",
      "承诺 (445, 'COO')\n",
      "改革 (459, 'VOB')\n",
      "】 (459, 'WP')\n",
      "由于 (468, 'ADV')\n",
      "在 (468, 'ADV')\n",
      "水质 (465, 'FOB')\n",
      "管理 (467, 'ATT')\n",
      "等 (465, 'RAD')\n",
      "方面 (463, 'POB')\n",
      "存在 (459, 'COO')\n",
      "缺陷 (468, 'VOB')\n",
      "， (468, 'WP')\n",
      "这 (472, 'ATT')\n",
      "一 (474, 'ATT')\n",
      "水利 (474, 'ATT')\n",
      "项目 (477, 'ATT')\n",
      "今后 (477, 'ATT')\n",
      "的 (475, 'RAD')\n",
      "命运 (481, 'SBV')\n",
      "在 (481, 'ADV')\n",
      "韩国 (480, 'ATT')\n",
      "社会 (478, 'POB')\n",
      "引发 (468, 'COO')\n",
      "讨论 (481, 'VOB')\n",
      "。 (468, 'WP')\n",
      "韩国 (485, 'ATT')\n",
      "政府 (486, 'SBV')\n",
      "打算 (468, 'COO')\n",
      "成立 (486, 'VOB')\n",
      "一个 (489, 'ATT')\n",
      "专家组 (487, 'VOB')\n",
      "， (486, 'WP')\n",
      "对 (494, 'ADV')\n",
      "该 (493, 'ATT')\n",
      "项目 (491, 'POB')\n",
      "展开 (486, 'COO')\n",
      "综合 (496, 'ADV')\n",
      "评估 (494, 'VOB')\n",
      "。 (411, 'WP')\n",
      "其中 (509, 'ADV')\n",
      "， (498, 'WP')\n",
      "部分 (501, 'ATT')\n",
      "水坝 (504, 'ATT')\n",
      "的 (501, 'RAD')\n",
      "去留 (504, 'ATT')\n",
      "问题 (509, 'SBV')\n",
      "将 (509, 'ADV')\n",
      "在 (509, 'ADV')\n",
      "2018年 (508, 'ATT')\n",
      "年底 (506, 'POB')\n",
      "予以 (411, 'COO')\n",
      "决定 (509, 'VOB')\n",
      "。 (411, 'WP')\n",
      "金秀炫 (513, 'SBV')\n",
      "说 (411, 'COO')\n",
      "， (513, 'WP')\n",
      "韩国 (516, 'ATT')\n",
      "政府 (518, 'SBV')\n",
      "还 (518, 'ADV')\n",
      "考虑 (513, 'VOB')\n",
      "将 (521, 'ADV')\n",
      "环境部 (519, 'POB')\n",
      "负责 (518, 'VOB')\n",
      "水质 (523, 'FOB')\n",
      "管理 (525, 'ATT')\n",
      "的 (523, 'RAD')\n",
      "部门 (529, 'SBV')\n",
      "与 (529, 'ADV')\n",
      "国土 (528, 'ATT')\n",
      "交通部 (526, 'POB')\n",
      "合并 (521, 'VOB')\n",
      "， (518, 'WP')\n",
      "希望 (518, 'COO')\n",
      "以此 (533, 'ADV')\n",
      "提升 (531, 'VOB')\n",
      "办事 (535, 'ATT')\n",
      "效率 (536, 'ATT')\n",
      "。文 (544, 'SBV')\n",
      "在 (544, 'ADV')\n",
      "寅 (542, 'ATT')\n",
      "今年 (540, 'ADV')\n",
      "竞选 (542, 'ATT')\n",
      "总统 (540, 'VOB')\n",
      "期间 (537, 'POB')\n",
      "曾 (544, 'ADV')\n",
      "表示 (533, 'COO')\n",
      "， (544, 'WP')\n",
      "上台 (547, 'ATT')\n",
      "后 (550, 'ADV')\n",
      "将 (550, 'ADV')\n",
      "努力 (550, 'ADV')\n",
      "革除 (544, 'VOB')\n",
      "历届 (552, 'ATT')\n",
      "政府 (553, 'ATT')\n",
      "积弊 (550, 'VOB')\n",
      "， (550, 'WP')\n",
      "包括 (550, 'COO')\n",
      "查处 (565, 'ATT')\n",
      "国防 (558, 'FOB')\n",
      "采购 (563, 'ATT')\n",
      "、 (560, 'WP')\n",
      "兴修 (558, 'COO')\n",
      "水利 (560, 'VOB')\n",
      "等 (558, 'RAD')\n",
      "领域 (556, 'VOB')\n",
      "的 (556, 'RAD')\n",
      "贪腐案 (555, 'VOB')\n",
      "。 (411, 'WP')\n",
      "韩国 (570, 'ATT')\n",
      "《 (570, 'WP')\n",
      "中央 (570, 'ATT')\n",
      "日报 (572, 'ATT')\n",
      "》 (570, 'WP')\n",
      "评论 (411, 'COO')\n",
      "， (572, 'WP')\n",
      "文 (578, 'SBV')\n",
      "在 (578, 'ADV')\n",
      "寅 (577, 'ATT')\n",
      "22日 (575, 'POB')\n",
      "宣布 (572, 'VOB')\n",
      "调查 (578, 'VOB')\n",
      "水利 (581, 'ATT')\n",
      "项目 (584, 'ATT')\n",
      "的 (581, 'RAD')\n",
      "潜在 (584, 'ATT')\n",
      "问题 (579, 'VOB')\n",
      "， (578, 'WP')\n",
      "表明 (578, 'COO')\n",
      "其 (588, 'SBV')\n",
      "着手 (586, 'VOB')\n",
      "兑现 (588, 'VOB')\n",
      "竞选 (591, 'ATT')\n",
      "承诺 (589, 'VOB')\n",
      "。 (100, 'WP')\n"
     ]
    }
   ],
   "source": [
    "for i in range(len(word_list)):\n",
    "    print(word_list[i], parser_list[i])"
   ]
  },
  {
   "cell_type": "code",
   "execution_count": 135,
   "metadata": {},
   "outputs": [
    {
     "name": "stdout",
     "output_type": "stream",
     "text": [
      "介绍 (219, 'POB')\n",
      "总结 (100, 'COO')\n",
      "透露 (411, 'COO')\n",
      "说 (411, 'COO')\n"
     ]
    }
   ],
   "source": [
    "for i in range(len(word_list)):\n",
    "    if word_list[i] in present_word:\n",
    "        print(word_list[i], parser_list[i])"
   ]
  },
  {
   "cell_type": "code",
   "execution_count": null,
   "metadata": {},
   "outputs": [],
   "source": []
  }
 ],
 "metadata": {
  "kernelspec": {
   "display_name": "Python 3",
   "language": "python",
   "name": "python3"
  },
  "language_info": {
   "codemirror_mode": {
    "name": "ipython",
    "version": 3
   },
   "file_extension": ".py",
   "mimetype": "text/x-python",
   "name": "python",
   "nbconvert_exporter": "python",
   "pygments_lexer": "ipython3",
   "version": "3.6.10"
  }
 },
 "nbformat": 4,
 "nbformat_minor": 2
}
