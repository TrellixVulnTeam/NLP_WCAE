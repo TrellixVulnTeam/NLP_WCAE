{
 "cells": [
  {
   "cell_type": "markdown",
   "metadata": {},
   "source": [
    "# Assignment 4"
   ]
  },
  {
   "cell_type": "markdown",
   "metadata": {},
   "source": [
    "### 2. 回答一下理论题目"
   ]
  },
  {
   "cell_type": "markdown",
   "metadata": {},
   "source": [
    "#### 1. What does a neuron compute?"
   ]
  },
  {
   "cell_type": "markdown",
   "metadata": {},
   "source": [
    "将其输入与之权重相乘再加上偏置，然后经过激活函数得到输出"
   ]
  },
  {
   "cell_type": "markdown",
   "metadata": {},
   "source": [
    "####  2. Why we use non-linear activation funcitons in neural networks?"
   ]
  },
  {
   "cell_type": "markdown",
   "metadata": {},
   "source": [
    "因为经过线性激活最后得到的输出仍是wx+b的形式，说明此时经过多个神经层输出与经过一个神经元输出没有区别，失去了深度的意义"
   ]
  },
  {
   "cell_type": "markdown",
   "metadata": {},
   "source": [
    "#### 3. What is the 'Logistic Loss' ?"
   ]
  },
  {
   "cell_type": "markdown",
   "metadata": {},
   "source": [
    "Logistic Loss是二分类问题的目标函数，是cross entropy Loss的一个特例，能够非常合理地反映预测概率与groundtruth之间的关系。"
   ]
  },
  {
   "cell_type": "markdown",
   "metadata": {},
   "source": [
    "#### 4. Assume that you are building a binary classifier for detecting if an image containing cats, which activation functions would you recommen using for the output layer ?\n",
    "\n",
    "A. ReLU    \n",
    "B. Leaky ReLU    \n",
    "C. sigmoid    \n",
    "D. tanh  "
   ]
  },
  {
   "cell_type": "markdown",
   "metadata": {},
   "source": [
    "虽然ReLU和tanh都比sigmoid要好，但是二分类问题应该选择sigmoid，首先其导数是非零的，且很容易计算，能够将线性得到的输出映射在0-1范围内，很好地反映了概率的概念"
   ]
  },
  {
   "cell_type": "markdown",
   "metadata": {},
   "source": [
    "#### 5. Why we don't use zero initialization for all parameters ?"
   ]
  },
  {
   "cell_type": "markdown",
   "metadata": {},
   "source": [
    "如果W初始化为0则对于每个隐藏层对应的参数更新都是相同的，这样无论梯度下降多少次，这些神经元都是学习到相同的特征，失去了深度网络的意义。"
   ]
  },
  {
   "cell_type": "markdown",
   "metadata": {},
   "source": [
    "#### 6. Can you implement the softmax function using python ? "
   ]
  },
  {
   "cell_type": "code",
   "execution_count": 2,
   "metadata": {},
   "outputs": [],
   "source": [
    "import numpy as np\n",
    "\n",
    "def softmax(x: np.array):\n",
    "    x -= np.max(x)\n",
    "    return np.exp(x) / np.sum(np.exp(x))"
   ]
  },
  {
   "cell_type": "code",
   "execution_count": 3,
   "metadata": {},
   "outputs": [
    {
     "data": {
      "text/plain": [
       "array([2.35284404e-03, 4.72581359e-02, 9.49205034e-01, 8.65562952e-04,\n",
       "       3.18422815e-04])"
      ]
     },
     "execution_count": 3,
     "metadata": {},
     "output_type": "execute_result"
    }
   ],
   "source": [
    "x = np.array([3.0, 6.0, 9.0, 2.0, 1.0])\n",
    "softmax(x)"
   ]
  },
  {
   "cell_type": "markdown",
   "metadata": {},
   "source": [
    "### 3.实践题"
   ]
  },
  {
   "cell_type": "markdown",
   "metadata": {},
   "source": [
    "#### In this practical part, you will build a simple digits recognizer to check if the digit in the image is larger than 5. This assignment will guide you step by step to finish your first small project in this course ."
   ]
  },
  {
   "cell_type": "markdown",
   "metadata": {},
   "source": [
    "#### 1 - Packages  \n",
    "sklearn is a famous package for machine learning.   \n",
    "matplotlib is a common package for vasualization."
   ]
  },
  {
   "cell_type": "code",
   "execution_count": 14,
   "metadata": {},
   "outputs": [],
   "source": [
    "import numpy as np\n",
    "from sklearn import datasets\n",
    "import matplotlib.pyplot as plt\n",
    "from sklearn.model_selection import train_test_split"
   ]
  },
  {
   "cell_type": "markdown",
   "metadata": {},
   "source": [
    "#### 2 - Overview of the dataset  \n",
    "    - a training set has m_train images labeled as 0 if the digit < 5 or 1 if the digit >= 5\n",
    "    - a test set contains m_test images labels as if the digit < 5 or 1 if the digit >= 5\n",
    "    - eah image if of shape (num_px, num_px ). Thus, each image is square(height=num_px and  width = num_px)"
   ]
  },
  {
   "cell_type": "code",
   "execution_count": 15,
   "metadata": {},
   "outputs": [],
   "source": [
    "# Loading the data \n",
    "digits = datasets.load_digits()"
   ]
  },
  {
   "cell_type": "code",
   "execution_count": 16,
   "metadata": {},
   "outputs": [
    {
     "data": {
      "image/png": "[encoded data removed]",
      "text/plain": [
       "<Figure size 432x288 with 10 Axes>"
      ]
     },
     "metadata": {},
     "output_type": "display_data"
    }
   ],
   "source": [
    "# Vilizating the data\n",
    "for i in range(1,11):\n",
    "    plt.subplot(2,5,i)\n",
    "    plt.imshow(digits.data[i-1].reshape([8,8]),cmap=plt.cm.gray_r)\n",
    "    plt.text(3,10,str(digits.target[i-1]))\n",
    "    plt.xticks([])\n",
    "    plt.yticks([])\n",
    "plt.show()"
   ]
  },
  {
   "cell_type": "code",
   "execution_count": 17,
   "metadata": {},
   "outputs": [],
   "source": [
    "# Split the data into training set and test set \n",
    "X_train, X_test, y_train, y_test = train_test_split(digits.data, digits.target, test_size=0.25)"
   ]
  },
  {
   "cell_type": "code",
   "execution_count": 18,
   "metadata": {},
   "outputs": [],
   "source": [
    "# reformulate the label. \n",
    "# If the digit is smaller than 5, the label is 0.\n",
    "# If the digit is larger than 5, the label is 1.\n",
    "\n",
    "y_train[y_train < 5 ] = 0\n",
    "y_train[y_train >= 5] = 1\n",
    "y_test[y_test < 5] = 0\n",
    "y_test[y_test >= 5] = 1"
   ]
  },
  {
   "cell_type": "code",
   "execution_count": 19,
   "metadata": {},
   "outputs": [
    {
     "name": "stdout",
     "output_type": "stream",
     "text": [
      "(1347, 64)\n",
      "(450, 64)\n",
      "(1347,)\n",
      "(450,)\n"
     ]
    }
   ],
   "source": [
    "print(X_train.shape)\n",
    "print(X_test.shape)\n",
    "print(y_train.shape)\n",
    "print(y_test.shape)"
   ]
  },
  {
   "cell_type": "markdown",
   "metadata": {},
   "source": [
    "#### 3- Architecture of the neural network"
   ]
  },
  {
   "cell_type": "markdown",
   "metadata": {},
   "source": [
    "![title](network.png)"
   ]
  },
  {
   "cell_type": "code",
   "execution_count": null,
   "metadata": {},
   "outputs": [],
   "source": [
    "!pwd"
   ]
  },
  {
   "cell_type": "markdown",
   "metadata": {},
   "source": [
    "##### Mathematical expression of the algorithm:"
   ]
  },
  {
   "cell_type": "markdown",
   "metadata": {},
   "source": [
    "For one example $x^{(i)}$:   \n",
    " $$ z^{(i)} = w^T * x^{(i)} +b $$   \n",
    " $$ y^{(i)} = a^{(i)} = sigmoid(z^{(i)})$$   \n",
    " $$L(a^{(i)},y^{(i)}) = -y^{(i)} log(a^{(i)})-(1-y^{(i)})log(1-a^{(i)})$$"
   ]
  },
  {
   "cell_type": "markdown",
   "metadata": {},
   "source": [
    "The total cost over all training examples:\n",
    "$$ J = \\frac{1}{m}\\sum_{i=1}^{m}L(a^{(i)},y^{(i)}) $$"
   ]
  },
  {
   "cell_type": "markdown",
   "metadata": {},
   "source": [
    "#### 4 - Building the algorithm"
   ]
  },
  {
   "cell_type": "markdown",
   "metadata": {},
   "source": [
    "##### 4.1- Activation function    \n",
    "###### Exercise:\n",
    "Finish the sigmoid funciton "
   ]
  },
  {
   "cell_type": "code",
   "execution_count": 6,
   "metadata": {},
   "outputs": [],
   "source": [
    "def sigmoid(z):\n",
    "    '''\n",
    "    Compute the sigmoid of z\n",
    "    Arguments: z -- a scalar or numpy array of any size.\n",
    "    \n",
    "    Return:\n",
    "    s -- sigmoid(z)\n",
    "    '''\n",
    "    return 1 / (1 + np.exp(-z))"
   ]
  },
  {
   "cell_type": "code",
   "execution_count": 7,
   "metadata": {},
   "outputs": [
    {
     "name": "stdout",
     "output_type": "stream",
     "text": [
      "sigmoid([0,2]) = [0.5        0.88079708]\n"
     ]
    }
   ],
   "source": [
    "# Test your code \n",
    "# The result should be [0.5 0.88079708]\n",
    "print(\"sigmoid([0,2]) = \" + str(sigmoid(np.array([0,2]))))"
   ]
  },
  {
   "cell_type": "markdown",
   "metadata": {},
   "source": [
    "##### 4.2-Initializaing parameters\n",
    "###### Exercise:\n",
    "Finishe the initialize_parameters function below"
   ]
  },
  {
   "cell_type": "code",
   "execution_count": 8,
   "metadata": {},
   "outputs": [],
   "source": [
    "# Random innitialize the parameters\n",
    "\n",
    "def initialize_parameters(dim):\n",
    "    '''\n",
    "    Argument: dim -- size of the w vector\n",
    "    \n",
    "    Returns:\n",
    "    w -- initialized vector of shape (dim,1)\n",
    "    b -- initializaed scalar\n",
    "    '''\n",
    "    \n",
    "    w = np.random.randn(dim, 1)*0.01\n",
    "    b = 0\n",
    "    \n",
    "    assert(w.shape == (dim,1))\n",
    "    assert(isinstance(b,float) or isinstance(b,int))\n",
    "    \n",
    "    return w,b"
   ]
  },
  {
   "cell_type": "markdown",
   "metadata": {},
   "source": [
    "#### 4.3-Forward and backward propagation"
   ]
  },
  {
   "cell_type": "markdown",
   "metadata": {},
   "source": [
    "###### Some mathematical expressions\n",
    "Forward Propagation:   \n",
    ". X    \n",
    ". A = $\\sigma(w^T*X+b) = (a^{(1)},a^{(2)},...,a^{(m)}$   \n",
    ". J = $-\\frac{1}{m} \\sum_{i=1}^{m}y^{(i)}log(a^{(i)}+(1-y^{(i)})log(1-a^{(i)})$       "
   ]
  },
  {
   "cell_type": "markdown",
   "metadata": {},
   "source": [
    "Some derivative: \n",
    "$$\\frac{\\partial{J}}{\\partial{w}} = \\frac{1}{m}X*(A-Y)^T$$   \n",
    "$$\\frac{\\partial{J}}{\\partial{b}} = \\frac{1}{m}\\sum_{i=1}^m(a^{(i)}-y^{(i)}) $$"
   ]
  },
  {
   "cell_type": "markdown",
   "metadata": {},
   "source": [
    "###### Exercise:\n",
    "Finish the function below:"
   ]
  },
  {
   "cell_type": "code",
   "execution_count": 21,
   "metadata": {},
   "outputs": [],
   "source": [
    "def propagate(w,b,X,Y):\n",
    "    '''\n",
    "    Implement the cost function and its gradient for the propagation\n",
    "    \n",
    "    Arguments:\n",
    "    w - weights\n",
    "    b - bias\n",
    "    X - data ,shape = [m, 64]\n",
    "    Y - ground truth \n",
    "    '''\n",
    "    m = X.shape[0]\n",
    "    A = sigmoid(np.dot(X, w) + b)  #shape: (m, )\n",
    "    A = A.reshape(1, -1)\n",
    "    Y = Y.reshape(1, -1)\n",
    "    cost = -1/m * np.sum(Y * np.log(A) + (1-Y) * np.log(1-A))\n",
    "    \n",
    "    dw = 1/m * np.dot((A-Y), X).T\n",
    "    db = 1/m * np.sum(A-Y)\n",
    "        \n",
    "    assert(dw.shape == w.shape)\n",
    "    assert(db.dtype == float)\n",
    "    cost = np.squeeze(cost)\n",
    "    assert(cost.shape == ())\n",
    "    \n",
    "    grads = {'dw':dw,\n",
    "             'db':db}\n",
    "    \n",
    "    return grads, cost"
   ]
  },
  {
   "cell_type": "markdown",
   "metadata": {},
   "source": [
    "##### 4.4 -Optimization"
   ]
  },
  {
   "cell_type": "markdown",
   "metadata": {},
   "source": [
    "###### Exercise:\n",
    "Minimizing the cost function using gradient descent.   \n",
    "$$\\theta = \\theta - \\alpha*d\\theta$$ where $\\alpha$ is the learning rate."
   ]
  },
  {
   "cell_type": "code",
   "execution_count": 25,
   "metadata": {},
   "outputs": [],
   "source": [
    "def optimize(w, b, X, Y, num_iterations, learning_rate, print_cost=False):\n",
    "    '''\n",
    "    This function optimize w and b by running a gradient descent algorithm\n",
    "    \n",
    "    Arguments:\n",
    "    w - weights\n",
    "    b - bias\n",
    "    X - data\n",
    "    Y - ground truth\n",
    "    num_iterations -- number of iterations of the optimization loop\n",
    "    learning_rate -- learning rate of the gradient descent update rule\n",
    "    print_cost -- True to print the loss every 100 steps\n",
    "    \n",
    "    Returns:\n",
    "    params - dictionary containing the weights w and bias b\n",
    "    grads -- dictionary containing the gradients of the weights and bias with respect to the cost function\n",
    "    costs -- list of all the costs computed during the optimization, this will be used to plot the learning curve.\n",
    "    \n",
    "    '''\n",
    "    \n",
    "    costs = []\n",
    "    \n",
    "    for i in range(num_iterations):\n",
    "        \n",
    "        grads, cost = propagate(w,b,X,Y)\n",
    "        \n",
    "        dw = grads['dw']\n",
    "        db = grads['db']\n",
    "        \n",
    "        w -= learning_rate * dw\n",
    "        b -= learning_rate * db\n",
    "        \n",
    "        if i % 100 == 0:\n",
    "            costs.append(cost)\n",
    "        if print_cost and i % 100 == 0:\n",
    "            print (\"Cost after iteration %i: %f\" %(i, cost))\n",
    "    \n",
    "    params = {\"w\":w,\n",
    "              \"b\":b}\n",
    "    \n",
    "    grads = {\"dw\":dw,\n",
    "             \"db\":db}\n",
    "    \n",
    "    return params, grads, costs"
   ]
  },
  {
   "cell_type": "markdown",
   "metadata": {},
   "source": [
    "The previous function will output the learned w and b. We are able to use w and b to predict the labels for a dataset X.  The next is the predict() function.    \n",
    "Two steps:   \n",
    "1. Calculate $\\hat{Y} = A = \\sigma(w^T*X+b)$   \n",
    "2. Convert the entries of a into 0 (if activation <= 0.5) or 1 (if activation > 0.5), stores the predictions in a vector Y_prediction."
   ]
  },
  {
   "cell_type": "code",
   "execution_count": 11,
   "metadata": {},
   "outputs": [],
   "source": [
    "def predict(w, b, X):\n",
    "    '''\n",
    "    Predict whether the label is 0 or 1 using learned logistic regression parameters (w, b)\n",
    "    \n",
    "    Arguments:\n",
    "    w -- weights\n",
    "    b -- bias \n",
    "    X -- data \n",
    "    \n",
    "    Returns:\n",
    "    Y_prediction -- a numpy array (vector) containing all predictions (0/1) for the examples in X\n",
    "    '''\n",
    "    m = X.shape[0]\n",
    "    #Y_prediction = np.zeros((1, m))\n",
    "    w = w.reshape(X.shape[1], 1)\n",
    "    \n",
    "    Y_prediction = sigmoid(np.dot(X, w) + b) \n",
    "    \n",
    "    #for i in range(A.shape[i]):\n",
    "    #    None \n",
    "    np.putmask(Y_prediction, Y_prediction<=0.5, 0)\n",
    "    np.putmask(Y_prediction, Y_prediction>0.5, 1)\n",
    "    \n",
    "    Y_prediction = Y_prediction.reshape(1, -1)\n",
    "    assert(Y_prediction.shape == (1, m))\n",
    "    \n",
    "    return Y_prediction"
   ]
  },
  {
   "cell_type": "markdown",
   "metadata": {},
   "source": [
    "##### 5- Merge all functions into a model"
   ]
  },
  {
   "cell_type": "code",
   "execution_count": 27,
   "metadata": {},
   "outputs": [],
   "source": [
    "def model(X_train, Y_train, X_test, Y_test, num_iterations, learning_rate, print_cost):\n",
    "    \"\"\"\n",
    "    Build the logistic regression model by calling all the functions you have implemented.\n",
    "    Arguments:\n",
    "    X_train -- training set\n",
    "    Y_train -- training label\n",
    "    X_test -- test set\n",
    "    Y_test -- test label\n",
    "    num_iteration -- hyperparameter representing the number of iterations to optimize the parameters\n",
    "    learning_rate -- hyperparameter representing the learning rate used in the update rule of optimize()\n",
    "    print_cost -- Set to true to print the cost every 100 iterations\n",
    "    \n",
    "    Returns:\n",
    "    d - dictionary should contain following information w, b, training_accuracy, test_accuracy, cost\n",
    "    eg: d = {\"w\":w,\n",
    "             \"b\":b,\n",
    "             \"training_accuracy\": traing_accuracy,\n",
    "             \"test_accuracy\":test_accuracy,\n",
    "             \"cost\":cost}\n",
    "    \"\"\"\n",
    "    d = {}\n",
    "    \n",
    "    w, b = initialize_parameters(X_train.shape[1])\n",
    "    train_params, _, costs = optimize(w, b, X_train, Y_train, num_iterations, learning_rate, print_cost)\n",
    "    \n",
    "    d['w'], d['b'] = train_params['w'], train_params['b']\n",
    "    d['cost'] = costs\n",
    "    \n",
    "    Y_train_pred = predict(d['w'], d['b'], X_train)\n",
    "    training_accuracy = np.sum(np.equal(Y_train.reshape(1, -1), Y_train_pred)) / Y_train_pred.shape[1]\n",
    "    \n",
    "    Y_test_pred = predict(d['w'], d['b'], X_test) \n",
    "    test_accuracy = np.sum(np.equal(Y_test.reshape(1, -1), Y_test_pred)) / Y_test_pred.shape[1]\n",
    "    \n",
    "    d['training_accuracy'], d['test_accuracy'] = training_accuracy, test_accuracy\n",
    "    \n",
    "    return d"
   ]
  },
  {
   "cell_type": "code",
   "execution_count": 28,
   "metadata": {},
   "outputs": [
    {
     "name": "stdout",
     "output_type": "stream",
     "text": [
      "Cost after iteration 0: 0.761213\n",
      "Cost after iteration 100: 0.301918\n",
      "Cost after iteration 200: 0.276268\n",
      "Cost after iteration 300: 0.265070\n",
      "Cost after iteration 400: 0.259081\n",
      "Cost after iteration 500: 0.255501\n",
      "Cost after iteration 600: 0.253197\n",
      "Cost after iteration 700: 0.251632\n",
      "Cost after iteration 800: 0.250523\n",
      "Cost after iteration 900: 0.249708\n",
      "Cost after iteration 1000: 0.249093\n",
      "Cost after iteration 1100: 0.248615\n",
      "Cost after iteration 1200: 0.248236\n",
      "Cost after iteration 1300: 0.247929\n",
      "Cost after iteration 1400: 0.247675\n",
      "Cost after iteration 1500: 0.247463\n",
      "Cost after iteration 1600: 0.247283\n",
      "Cost after iteration 1700: 0.247128\n",
      "Cost after iteration 1800: 0.246992\n",
      "Cost after iteration 1900: 0.246873\n",
      "Cost after iteration 2000: 0.246767\n",
      "Cost after iteration 2100: 0.246673\n",
      "Cost after iteration 2200: 0.246587\n",
      "Cost after iteration 2300: 0.246509\n",
      "Cost after iteration 2400: 0.246438\n",
      "Cost after iteration 2500: 0.246373\n",
      "Cost after iteration 2600: 0.246312\n",
      "Cost after iteration 2700: 0.246256\n",
      "Cost after iteration 2800: 0.246204\n",
      "Cost after iteration 2900: 0.246154\n",
      "Cost after iteration 3000: 0.246108\n",
      "Cost after iteration 3100: 0.246065\n",
      "Cost after iteration 3200: 0.246023\n",
      "Cost after iteration 3300: 0.245984\n",
      "Cost after iteration 3400: 0.245947\n",
      "Cost after iteration 3500: 0.245911\n",
      "Cost after iteration 3600: 0.245877\n",
      "Cost after iteration 3700: 0.245844\n",
      "Cost after iteration 3800: 0.245813\n",
      "Cost after iteration 3900: 0.245782\n",
      "Cost after iteration 4000: 0.245753\n",
      "Cost after iteration 4100: 0.245725\n",
      "Cost after iteration 4200: 0.245697\n",
      "Cost after iteration 4300: 0.245671\n",
      "Cost after iteration 4400: 0.245645\n",
      "Cost after iteration 4500: 0.245620\n",
      "Cost after iteration 4600: 0.245595\n",
      "Cost after iteration 4700: 0.245571\n",
      "Cost after iteration 4800: 0.245548\n",
      "Cost after iteration 4900: 0.245525\n"
     ]
    },
    {
     "data": {
      "text/plain": [
       "{'w': array([[ 0.00836098],\n",
       "        [-0.02568439],\n",
       "        [ 0.01753356],\n",
       "        [-0.00606235],\n",
       "        [ 0.06989083],\n",
       "        [ 0.11748416],\n",
       "        [ 0.18351745],\n",
       "        [-0.1035854 ],\n",
       "        [ 0.05093728],\n",
       "        [-0.20006695],\n",
       "        [ 0.10993112],\n",
       "        [ 0.08563277],\n",
       "        [-0.00769564],\n",
       "        [-0.0850005 ],\n",
       "        [ 0.00066626],\n",
       "        [ 0.06106399],\n",
       "        [-0.00938725],\n",
       "        [ 0.09471381],\n",
       "        [ 0.1567891 ],\n",
       "        [-0.04437946],\n",
       "        [-0.24394778],\n",
       "        [-0.04921727],\n",
       "        [-0.0904726 ],\n",
       "        [-0.10068125],\n",
       "        [-0.02041347],\n",
       "        [-0.21620479],\n",
       "        [ 0.0360607 ],\n",
       "        [ 0.17866811],\n",
       "        [ 0.02077405],\n",
       "        [ 0.1618084 ],\n",
       "        [-0.15581743],\n",
       "        [-0.02057889],\n",
       "        [-0.00438649],\n",
       "        [-0.26615087],\n",
       "        [-0.00929898],\n",
       "        [ 0.17312316],\n",
       "        [-0.08103327],\n",
       "        [-0.03790898],\n",
       "        [ 0.10095234],\n",
       "        [-0.01028514],\n",
       "        [-0.02055309],\n",
       "        [-0.04146974],\n",
       "        [ 0.05590752],\n",
       "        [-0.0474049 ],\n",
       "        [ 0.15221989],\n",
       "        [ 0.0867139 ],\n",
       "        [ 0.03004456],\n",
       "        [ 0.01747076],\n",
       "        [-0.01297671],\n",
       "        [-0.06095768],\n",
       "        [ 0.04105279],\n",
       "        [-0.07556081],\n",
       "        [-0.31280455],\n",
       "        [-0.0400015 ],\n",
       "        [ 0.10850941],\n",
       "        [-0.04185178],\n",
       "        [ 0.0008273 ],\n",
       "        [-0.03319214],\n",
       "        [ 0.05564368],\n",
       "        [-0.08666455],\n",
       "        [-0.14707942],\n",
       "        [-0.03757465],\n",
       "        [-0.10166207],\n",
       "        [-0.15189375]]),\n",
       " 'b': -0.025566566228791224,\n",
       " 'cost': [0.7612128806213281,\n",
       "  0.30191787316821467,\n",
       "  0.27626841246880285,\n",
       "  0.26507042250416485,\n",
       "  0.25908094571136675,\n",
       "  0.25550065246592973,\n",
       "  0.25319677248706507,\n",
       "  0.2516317718797055,\n",
       "  0.25052251184136876,\n",
       "  0.2497082954221545,\n",
       "  0.24909262477855745,\n",
       "  0.248614920753829,\n",
       "  0.24823575239840837,\n",
       "  0.24792866487397705,\n",
       "  0.24767544186117468,\n",
       "  0.24746325089054988,\n",
       "  0.24728286643640043,\n",
       "  0.24712753274227708,\n",
       "  0.24699221834513357,\n",
       "  0.24687311694852218,\n",
       "  0.24676730690041906,\n",
       "  0.24667251491368847,\n",
       "  0.2465869495706914,\n",
       "  0.24650918232238397,\n",
       "  0.24643806130007695,\n",
       "  0.24637264811017165,\n",
       "  0.24631217093275318,\n",
       "  0.246255989324015,\n",
       "  0.246203567514811,\n",
       "  0.24615445394262891,\n",
       "  0.24610826540361344,\n",
       "  0.24606467466253948,\n",
       "  0.2460234006755895,\n",
       "  0.24598420080560737,\n",
       "  0.24594686457046042,\n",
       "  0.2459112085813957,\n",
       "  0.24587707241295484,\n",
       "  0.24584431520819103,\n",
       "  0.2458128128689472,\n",
       "  0.24578245571527124,\n",
       "  0.2457531465238272,\n",
       "  0.24572479887467194,\n",
       "  0.24569733575064784,\n",
       "  0.24567068834505745,\n",
       "  0.24564479504212455,\n",
       "  0.2456196005416166,\n",
       "  0.24559505510439975,\n",
       "  0.2455711138999511,\n",
       "  0.24554773644023525,\n",
       "  0.24552488608705572],\n",
       " 'training_accuracy': 0.9094283593170007,\n",
       " 'test_accuracy': 0.8911111111111111}"
      ]
     },
     "execution_count": 28,
     "metadata": {},
     "output_type": "execute_result"
    }
   ],
   "source": [
    "model(X_train, y_train, X_test, y_test, 5000, 0.005, True)"
   ]
  },
  {
   "cell_type": "markdown",
   "metadata": {},
   "source": [
    "##### 4.1 Observe the effect of learning rate on the leraning process.   "
   ]
  },
  {
   "cell_type": "code",
   "execution_count": 30,
   "metadata": {},
   "outputs": [
    {
     "data": {
      "image/png": "[encoded data removed]",
      "text/plain": [
       "<Figure size 432x288 with 1 Axes>"
      ]
     },
     "metadata": {
      "needs_background": "light"
     },
     "output_type": "display_data"
    }
   ],
   "source": [
    "lrs = [1e-2, 1e-3, 1e-4, 1e-5]\n",
    "colors = ['red', 'yellow', 'blue', 'green']\n",
    "for lr, c in zip(lrs, colors):\n",
    "    cost = model(X_train, y_train, X_test, y_test, 5000, lr, False)['cost']\n",
    "    plt.plot(range(len(cost)), cost, color=c)"
   ]
  },
  {
   "cell_type": "code",
   "execution_count": 32,
   "metadata": {},
   "outputs": [
    {
     "data": {
      "image/png": "[encoded data removed]",
      "text/plain": [
       "<Figure size 1080x1080 with 4 Axes>"
      ]
     },
     "metadata": {
      "needs_background": "light"
     },
     "output_type": "display_data"
    }
   ],
   "source": [
    "train_size = [100, 200, 300, 400, 500, 600, 700, 800, 900, 1000, 1100, 1200, 1347]\n",
    "\n",
    "lrs = [1e-2, 1e-3, 1e-4, 1e-5]\n",
    "\n",
    "fig, ax = plt.subplots(figsize=(15, 15), nrows=2, ncols=2, sharey=True, sharex=True)\n",
    "axes = ax.flatten()\n",
    "\n",
    "for i, lr in enumerate(lrs):\n",
    "    train_accuracy_list = []\n",
    "    test_accuracy_list = []\n",
    "    \n",
    "    for size in train_size:\n",
    "        d = model(X_train[:size, ], y_train[:size, ], X_test, y_test, 2000, lr, False)\n",
    "        train_accuracy_list.append(d['training_accuracy'])\n",
    "        test_accuracy_list.append(d['test_accuracy'])\n",
    "        \n",
    "    axes[i].set_title(f'learning rate: {lr}')\n",
    "    axes[i].plot(train_size, train_accuracy_list)\n",
    "    axes[i].plot(train_size, test_accuracy_list, color='red')"
   ]
  },
  {
   "cell_type": "markdown",
   "metadata": {},
   "source": [
    "##### 4.2 Observe the effect of iteration_num on the test accuracy."
   ]
  },
  {
   "cell_type": "code",
   "execution_count": 36,
   "metadata": {},
   "outputs": [
    {
     "name": "stdout",
     "output_type": "stream",
     "text": [
      "[0.856, 0.884, 0.896, 0.898, 0.9, 0.898, 0.896]\n"
     ]
    },
    {
     "data": {
      "text/plain": [
       "[<matplotlib.lines.Line2D at 0x7f8274a67c88>]"
      ]
     },
     "execution_count": 36,
     "metadata": {},
     "output_type": "execute_result"
    },
    {
     "data": {
      "image/png": "[encoded data removed]",
      "text/plain": [
       "<Figure size 432x288 with 1 Axes>"
      ]
     },
     "metadata": {
      "needs_background": "light"
     },
     "output_type": "display_data"
    }
   ],
   "source": [
    "iteration_num_list = [100, 500, 1000, 1500, 2000, 3000, 4000]\n",
    "test_accuracy_list = []\n",
    "for iteration_num in iteration_num_list:\n",
    "    d = model(X_train, y_train, X_test, y_test, iteration_num, 0.001, False)\n",
    "    test_accuracy_list.append(round(d['test_accuracy'], 3))\n",
    "print(test_accuracy_list)    \n",
    "plt.plot(iteration_num_list, test_accuracy_list)"
   ]
  },
  {
   "cell_type": "markdown",
   "metadata": {},
   "source": [
    "The original data have images labeled 0,1,2,3,4,5,6,7,8,9. In our logistic model, we only detect if the digit in the image is larger or smaller than 5. Use softmax function to build a model to recognize which digits (0,1,2,3,4,5,6,7,8,9) is in the image."
   ]
  },
  {
   "cell_type": "markdown",
   "metadata": {},
   "source": [
    "    把y = i 转化为独热编码，w.shape = [X.shape[1], 10]"
   ]
  },
  {
   "cell_type": "code",
   "execution_count": 37,
   "metadata": {},
   "outputs": [],
   "source": [
    "def onehot_encode(x):\n",
    "    onehot = []\n",
    "    for i in x:\n",
    "        encode = [0]*10\n",
    "        encode[i] = 1\n",
    "        onehot.append(encode)\n",
    "    return np.array(onehot)"
   ]
  },
  {
   "cell_type": "code",
   "execution_count": 38,
   "metadata": {},
   "outputs": [],
   "source": [
    "y_train_onehot = onehot_encode(y_train)\n",
    "y_test_onehot = onehot_encode(y_test)"
   ]
  },
  {
   "cell_type": "code",
   "execution_count": 39,
   "metadata": {},
   "outputs": [
    {
     "data": {
      "text/plain": [
       "(1347, 10)"
      ]
     },
     "execution_count": 39,
     "metadata": {},
     "output_type": "execute_result"
    }
   ],
   "source": [
    "y_train_onehot.shape"
   ]
  },
  {
   "cell_type": "markdown",
   "metadata": {},
   "source": [
    "#### 标签由1列变为10列，softmax函数要更改"
   ]
  },
  {
   "cell_type": "code",
   "execution_count": 67,
   "metadata": {},
   "outputs": [],
   "source": [
    "def softmax10(x: np.array):\n",
    "        x -= np.max(x, axis=1).reshape(-1, 1)\n",
    "        return np.exp(x) / np.sum(np.exp(x), axis=1).reshape(-1, 1)"
   ]
  },
  {
   "cell_type": "code",
   "execution_count": 69,
   "metadata": {},
   "outputs": [],
   "source": [
    "def propagate10(X, y, w, b):\n",
    "    # z = wX + b\n",
    "    # a = softmax(z)\n",
    "    assert(X.shape[1] == w.shape[0])\n",
    "    S = softmax10(np.dot(X, w) + b)\n",
    "    assert(S.shape == y.shape)\n",
    "    m = X.shape[0]\n",
    "    # cost_func: L = -1/m * sum(y_i * log(S_i))\n",
    "    cost = -1/m * np.sum(y * np.log(S))\n",
    "    # partial\n",
    "    dw = 1/m * np.dot(X.T, (S - y))\n",
    "    db = 1/m * np.sum(S - y, axis=0).reshape(1, -1)\n",
    "    assert(dw.shape == w.shape)\n",
    "    assert(db.shape == b.shape)\n",
    "\n",
    "    grads = {\n",
    "        'dw': dw,\n",
    "        'db': db\n",
    "    }\n",
    "\n",
    "    return grads, cost"
   ]
  },
  {
   "cell_type": "code",
   "execution_count": 70,
   "metadata": {},
   "outputs": [],
   "source": [
    "def accuracy10(x, y, w, b):\n",
    "    y_hat = softmax10(np.dot(x, w) + b)\n",
    "    m = x.shape[0]\n",
    "    cost = -1/m * np.sum(y * np.log(y_hat))\n",
    "    y_predict = []\n",
    "    for i in y_hat:\n",
    "        y_onehot = [0]*10\n",
    "        y_onehot[np.argmax(i)] = 1\n",
    "        y_predict.append(y_onehot)\n",
    "        \n",
    "    y_predict = np.array(y_predict)\n",
    "    diff = y - y_predict\n",
    "\n",
    "    correct = 0\n",
    "    total = len(diff)\n",
    "    for i in diff:\n",
    "        if (i == 0).all():\n",
    "            correct += 1\n",
    "    return correct / total, cost"
   ]
  },
  {
   "cell_type": "code",
   "execution_count": 45,
   "metadata": {},
   "outputs": [],
   "source": [
    "from sklearn.utils import resample\n",
    "\n",
    "def optimize10(X_train, y_train, X_test, y_test, num_iterations, learning_rate, print_cost):\n",
    "    # initialize params\n",
    "    w = np.random.randn(X_train.shape[1], 10) * 0.01\n",
    "    b = np.random.randn(1, 10) * 0.01\n",
    "    accuracy_cost = {\n",
    "        'train_cost': [],\n",
    "        'train_acc': [],\n",
    "        'test_cost': [],\n",
    "        'test_acc': []\n",
    "    }\n",
    "    \n",
    "    batch_size = 100\n",
    "    steps = X_train.shape[0] // batch_size\n",
    "    for i in range(num_iterations):\n",
    "        cost = 0\n",
    "        for j in range(steps):\n",
    "            X_batch, y_batch = resample(X_train, y_train, n_samples=batch_size)\n",
    "            grads, batch_cost = propagate10(X_batch, y_batch, w, b)\n",
    "\n",
    "            dw = grads['dw']\n",
    "            db = grads['db']\n",
    "\n",
    "            w -= learning_rate * dw\n",
    "            b -= learning_rate * db\n",
    "\n",
    "            cost += batch_cost\n",
    "            \n",
    "        if i % 100 == 0:\n",
    "            train_acc, train_cost = accuracy10(X_train, y_train, w, b)\n",
    "            test_acc, test_cost = accuracy10(X_test, y_test, w, b)\n",
    "            accuracy_cost['train_acc'].append(train_acc)\n",
    "            accuracy_cost['train_cost'].append(train_cost)\n",
    "            accuracy_cost['test_cost'].append(test_cost)\n",
    "            accuracy_cost['test_acc'].append(test_acc)\n",
    "            \n",
    "        if print_cost and i % 100 == 0:\n",
    "            print (\"Cost after iteration %i: %f\" %(i, cost / steps))\n",
    "\n",
    "    params = {\n",
    "        'w': w,\n",
    "        'b': b\n",
    "    }\n",
    "    grads = {\n",
    "        'dw': dw,\n",
    "        'db': b\n",
    "    }\n",
    "    return params, grads, accuracy_cost"
   ]
  },
  {
   "cell_type": "code",
   "execution_count": 71,
   "metadata": {},
   "outputs": [],
   "source": [
    "def predict10(x, y, w, b):\n",
    "        plt.imshow(x.reshape([8,8]), cmap=plt.cm.gray_r)\n",
    "        y_predict = softmax10(np.dot(x, w) + b)\n",
    "        y_predict = np.argmax(y_predict)\n",
    "        print(f'The predict value is {y_predict}, the real digit is {y}')"
   ]
  },
  {
   "cell_type": "code",
   "execution_count": 47,
   "metadata": {},
   "outputs": [],
   "source": [
    "def model10(X_train, y_train, X_test, y_test, num_iterations, learning_rate, print_cost=True):\n",
    "    params, _, acc_cost = optimize10(X_train, y_train, X_test, y_test, \n",
    "                                         num_iterations, learning_rate, print_cost)\n",
    "    result = {\n",
    "        'w': params['w'],\n",
    "        'b': params['b'],\n",
    "        'accuracy_cost': acc_cost\n",
    "    }\n",
    "    \n",
    "    return result"
   ]
  },
  {
   "cell_type": "code",
   "execution_count": 72,
   "metadata": {},
   "outputs": [
    {
     "name": "stdout",
     "output_type": "stream",
     "text": [
      "Cost after iteration 0: 0.921850\n",
      "Cost after iteration 100: 0.251146\n",
      "Cost after iteration 200: 0.232241\n",
      "Cost after iteration 300: 0.216029\n",
      "Cost after iteration 400: 0.231569\n",
      "Cost after iteration 500: 0.263755\n",
      "Cost after iteration 600: 0.244165\n",
      "Cost after iteration 700: 0.248185\n",
      "Cost after iteration 800: 0.288894\n",
      "Cost after iteration 900: 0.282393\n",
      "Cost after iteration 1000: 0.245886\n",
      "Cost after iteration 1100: 0.271118\n",
      "Cost after iteration 1200: 0.241329\n",
      "Cost after iteration 1300: 0.271593\n",
      "Cost after iteration 1400: 0.263126\n",
      "Cost after iteration 1500: 0.261919\n",
      "Cost after iteration 1600: 0.241337\n",
      "Cost after iteration 1700: 0.239949\n",
      "Cost after iteration 1800: 0.236382\n",
      "Cost after iteration 1900: 0.247876\n",
      "Cost after iteration 2000: 0.256254\n",
      "Cost after iteration 2100: 0.235279\n",
      "Cost after iteration 2200: 0.275163\n",
      "Cost after iteration 2300: 0.235217\n",
      "Cost after iteration 2400: 0.233187\n",
      "Cost after iteration 2500: 0.259097\n",
      "Cost after iteration 2600: 0.240423\n",
      "Cost after iteration 2700: 0.227136\n",
      "Cost after iteration 2800: 0.257868\n",
      "Cost after iteration 2900: 0.260031\n",
      "Cost after iteration 3000: 0.263686\n",
      "Cost after iteration 3100: 0.265793\n",
      "Cost after iteration 3200: 0.242874\n",
      "Cost after iteration 3300: 0.259588\n",
      "Cost after iteration 3400: 0.222515\n",
      "Cost after iteration 3500: 0.252951\n",
      "Cost after iteration 3600: 0.269980\n",
      "Cost after iteration 3700: 0.249255\n",
      "Cost after iteration 3800: 0.242834\n",
      "Cost after iteration 3900: 0.235771\n",
      "Cost after iteration 4000: 0.246115\n",
      "Cost after iteration 4100: 0.255834\n",
      "Cost after iteration 4200: 0.242227\n",
      "Cost after iteration 4300: 0.215236\n",
      "Cost after iteration 4400: 0.246374\n",
      "Cost after iteration 4500: 0.241420\n",
      "Cost after iteration 4600: 0.234910\n",
      "Cost after iteration 4700: 0.252091\n",
      "Cost after iteration 4800: 0.236881\n",
      "Cost after iteration 4900: 0.243931\n"
     ]
    }
   ],
   "source": [
    "result = model10(X_train, y_train_onehot, X_test, y_test_onehot, 5000, 0.001)"
   ]
  },
  {
   "cell_type": "code",
   "execution_count": 73,
   "metadata": {},
   "outputs": [
    {
     "data": {
      "text/plain": [
       "{'w': array([[ 3.44176597e-03,  1.04707328e-04, -3.31936955e-03,\n",
       "         -2.24261125e-04,  7.92174173e-03, -8.73142876e-04,\n",
       "         -6.21226133e-03,  3.92418917e-03,  1.84697469e-04,\n",
       "          2.00114478e-02],\n",
       "        [ 1.55346470e-02, -7.87120530e-03,  1.53700971e-02,\n",
       "         -1.67780886e-02,  1.73531585e-02,  8.67790116e-04,\n",
       "          6.96987668e-03, -1.01191206e-03, -3.06135146e-04,\n",
       "          1.35652042e-02],\n",
       "        [ 1.25149653e-02,  3.15077556e-02, -4.01371725e-04,\n",
       "         -8.77752349e-03,  8.24005842e-03, -4.56213413e-04,\n",
       "          1.15417043e-02, -7.12465383e-03,  9.07093079e-03,\n",
       "         -1.80235948e-02],\n",
       "        [ 5.09870390e-02,  3.98337539e-02, -1.85505655e-02,\n",
       "         -1.87278558e-02, -7.88427288e-03, -1.00219325e-02,\n",
       "         -1.71849846e-02,  1.83116224e-02,  1.55704765e-02,\n",
       "         -5.52243939e-03],\n",
       "        [ 6.74734107e-03,  7.82403782e-02, -3.53648918e-03,\n",
       "         -9.82012952e-03, -2.88035462e-02, -7.90619400e-03,\n",
       "         -1.36051705e-02, -1.97262607e-02, -1.24793289e-03,\n",
       "         -1.02647972e-02],\n",
       "        [-3.06179398e-02,  8.37551547e-02, -1.13954047e-02,\n",
       "          1.07397485e-02, -1.12142872e-02, -1.49979793e-03,\n",
       "         -5.99806900e-03, -6.42344855e-03, -1.25632264e-03,\n",
       "         -6.37444249e-03],\n",
       "        [-8.22482587e-02,  1.11877503e-01,  6.57583041e-03,\n",
       "          8.26969114e-03,  1.51112383e-02, -3.00007110e-03,\n",
       "          1.11725381e-03, -6.40226388e-03,  1.41621786e-02,\n",
       "         -5.11603672e-03],\n",
       "        [ 9.88969962e-02, -1.16682646e-01, -1.56382604e-03,\n",
       "         -2.22988051e-02,  4.25741948e-03,  1.16022096e-02,\n",
       "         -3.03327806e-03,  2.26911759e-02, -1.48634525e-03,\n",
       "          9.66362062e-03],\n",
       "        [-9.13292614e-02,  7.12662715e-02, -1.72601902e-02,\n",
       "          1.23442915e-03, -4.38398397e-03,  9.91142121e-03,\n",
       "          2.38110993e-02,  3.76291879e-03,  9.05051427e-03,\n",
       "         -1.39182519e-02],\n",
       "        [ 1.08928807e-01, -9.45772653e-02, -6.77981602e-03,\n",
       "         -3.28948289e-03, -7.69379918e-03,  7.52836324e-03,\n",
       "          2.95014723e-03, -1.65128988e-02, -2.17767043e-03,\n",
       "         -8.02720371e-03],\n",
       "        [-1.20520480e-02,  9.22595678e-02, -1.44102979e-03,\n",
       "          2.23541580e-03, -8.24299796e-03, -1.66264134e-02,\n",
       "         -3.35511779e-02, -2.84548341e-02, -1.53710828e-02,\n",
       "         -1.27794570e-02],\n",
       "        [-3.69911466e-03,  8.10847734e-02, -2.15747069e-02,\n",
       "         -1.49381324e-02,  3.52506306e-03, -3.50675442e-02,\n",
       "          7.57790729e-03, -8.23086501e-03, -1.92930644e-02,\n",
       "         -4.90903334e-03],\n",
       "        [ 4.41227245e-02,  3.15865219e-02, -2.33148088e-02,\n",
       "         -9.20628270e-03, -2.04634177e-02, -8.18498004e-03,\n",
       "         -4.91887517e-03, -7.02235088e-03, -1.60683282e-02,\n",
       "         -1.37343272e-02],\n",
       "        [ 8.95829049e-02,  4.21751783e-03, -1.14636706e-02,\n",
       "         -2.78361929e-03, -1.43959495e-02, -2.73069200e-03,\n",
       "         -1.47751685e-02, -9.78549595e-03, -8.67442366e-04,\n",
       "          4.85827242e-03],\n",
       "        [ 2.98055370e-02,  1.61310641e-02,  2.31367285e-02,\n",
       "          7.08253204e-03, -3.24145152e-03, -4.30170761e-03,\n",
       "          1.30681813e-03,  1.16234459e-03, -5.55208176e-03,\n",
       "         -9.07845431e-03],\n",
       "        [-1.27573844e-01,  1.39707732e-01, -4.50315350e-03,\n",
       "          1.02259973e-02,  1.63878689e-02, -3.61284493e-03,\n",
       "          5.19743003e-03,  1.57656770e-02,  6.39877041e-03,\n",
       "         -1.03030996e-02],\n",
       "        [ 4.07446510e-02, -4.99187681e-02, -7.79772725e-04,\n",
       "          8.02504093e-03, -9.59108232e-04, -7.72573539e-05,\n",
       "         -9.67471197e-03,  1.06196105e-02,  6.56022911e-03,\n",
       "          3.03134397e-03],\n",
       "        [-4.11947745e-02,  6.10390464e-02,  1.86975537e-03,\n",
       "         -2.03815184e-03, -1.43127454e-02, -1.89243149e-02,\n",
       "         -1.65924546e-02, -9.63148838e-03, -3.56964197e-02,\n",
       "         -6.54781540e-03],\n",
       "        [-4.51792707e-02,  1.13221321e-01, -1.09523064e-02,\n",
       "         -1.81193480e-02, -9.44416791e-03, -1.20321539e-02,\n",
       "         -1.58929199e-02, -1.23982843e-02,  5.09107945e-04,\n",
       "          4.03087083e-04],\n",
       "        [ 5.25734458e-02,  8.06675073e-03, -1.56965542e-02,\n",
       "          2.30130112e-04, -1.61295887e-02, -1.18776254e-02,\n",
       "          4.26543413e-03, -1.45049109e-02, -9.77783388e-03,\n",
       "         -4.42208600e-03],\n",
       "        [ 1.46588763e-01, -9.88710591e-02, -2.39472189e-03,\n",
       "         -9.61823880e-03,  1.73519997e-02, -1.42764665e-02,\n",
       "         -2.33476432e-04, -1.35694292e-02,  5.76184796e-03,\n",
       "         -1.13308364e-02],\n",
       "        [ 4.54547751e-02, -1.52556988e-03, -8.70125458e-03,\n",
       "         -1.60253030e-03,  5.85024007e-03, -1.77514736e-02,\n",
       "         -5.63333303e-03, -1.99001926e-02,  1.00126454e-02,\n",
       "         -2.15604873e-02],\n",
       "        [ 4.82224909e-02, -3.60129175e-02,  1.18547232e-03,\n",
       "          5.73152401e-03, -8.78454299e-03, -1.64391118e-02,\n",
       "         -7.03320777e-03, -1.10280560e-02, -4.83749193e-03,\n",
       "          1.27009971e-02],\n",
       "        [ 1.88735585e-01, -1.82266571e-01, -1.08759779e-02,\n",
       "         -7.32197351e-03, -8.94041308e-03,  5.31523102e-03,\n",
       "         -6.50892702e-03,  1.38845018e-02, -3.98025880e-03,\n",
       "          4.77997455e-03],\n",
       "        [ 4.48088359e-02, -3.44986365e-02,  6.04241827e-03,\n",
       "         -1.01767528e-02,  1.05211997e-02, -2.36291597e-03,\n",
       "          6.74618691e-03, -2.87384224e-02,  1.22716155e-02,\n",
       "          1.03003704e-05],\n",
       "        [ 1.28018641e-01, -8.56043707e-02, -1.30272054e-02,\n",
       "          1.66287932e-03, -4.23111465e-03, -1.20646740e-02,\n",
       "         -5.01135809e-03,  1.04714454e-02, -5.06723775e-03,\n",
       "          5.36227282e-03],\n",
       "        [ 1.13816140e-02,  4.73905573e-02, -5.00878828e-03,\n",
       "          6.76824744e-03,  8.63574458e-03, -2.86577517e-04,\n",
       "         -6.42986342e-03, -1.39266142e-02, -1.09254917e-02,\n",
       "         -8.19175913e-03],\n",
       "        [-4.77616042e-02,  1.32003942e-01, -1.39393249e-02,\n",
       "         -1.47244554e-03, -1.48660519e-03, -4.62793622e-03,\n",
       "         -7.60722173e-03,  6.19187992e-03, -5.15525878e-03,\n",
       "         -5.49327397e-03],\n",
       "        [ 3.04721878e-02,  5.85645575e-02, -4.74537683e-03,\n",
       "         -5.58680683e-03, -2.05701625e-02, -6.77650845e-03,\n",
       "         -1.42108878e-02,  9.27596293e-03,  6.57895721e-03,\n",
       "          9.57993301e-03],\n",
       "        [-5.15077085e-02,  1.13101704e-01, -3.25932162e-03,\n",
       "          5.22752858e-03, -1.98786318e-02,  7.24330405e-04,\n",
       "         -4.10950142e-03, -5.59834402e-03, -9.93851752e-03,\n",
       "         -1.31258353e-02],\n",
       "        [ 8.78936333e-02, -6.58838467e-02, -2.35273363e-02,\n",
       "         -1.43596405e-02, -5.81912369e-03, -2.14417509e-03,\n",
       "          5.92130629e-03,  5.69685324e-03,  2.87341734e-03,\n",
       "          1.46688012e-03],\n",
       "        [ 3.53969016e-02, -4.98840677e-02, -1.35372033e-03,\n",
       "          6.61026160e-03,  1.32447967e-02, -4.84114329e-03,\n",
       "          2.86225485e-03,  9.02017921e-04,  1.47211269e-02,\n",
       "         -4.78078850e-03],\n",
       "        [ 1.99658941e-02, -1.21974688e-02,  2.76364689e-03,\n",
       "         -1.76598663e-02, -6.67735502e-03, -1.92969282e-02,\n",
       "         -1.43700606e-02,  5.64939562e-03,  8.83272458e-03,\n",
       "         -4.96431045e-03],\n",
       "        [ 1.41986580e-01, -1.28037110e-01, -4.78243630e-03,\n",
       "         -3.98462709e-03, -2.88940892e-03, -9.81439765e-03,\n",
       "          5.11295832e-04,  1.24747380e-02,  1.04638133e-02,\n",
       "          2.63615443e-03],\n",
       "        [ 3.87469089e-02,  3.73383375e-02, -1.98556151e-03,\n",
       "         -2.01652774e-02, -1.86373466e-02, -3.54489104e-03,\n",
       "          4.92520733e-03, -1.37892126e-02, -6.29004439e-03,\n",
       "         -1.61860616e-02],\n",
       "        [-5.70984096e-02,  1.15579612e-01, -9.54653732e-03,\n",
       "         -5.33508253e-03,  2.80195013e-03, -3.75188058e-03,\n",
       "         -1.43921938e-02, -1.15357547e-02, -7.95425561e-03,\n",
       "          1.32925831e-03],\n",
       "        [ 7.72103463e-02, -3.55896105e-03,  6.05164037e-03,\n",
       "         -2.28316579e-02,  7.00019267e-03, -1.62493346e-02,\n",
       "          3.87692178e-04, -2.49298664e-02, -6.72879661e-03,\n",
       "         -1.21588065e-02],\n",
       "        [ 5.60102471e-02,  1.73631598e-02, -1.61157537e-02,\n",
       "         -3.88720355e-03, -6.65207433e-03, -1.48431679e-02,\n",
       "         -1.02889444e-02, -1.73767854e-02, -6.86328890e-03,\n",
       "         -5.69109552e-03],\n",
       "        [-4.05264342e-02,  6.24486495e-02, -2.32749247e-02,\n",
       "         -1.08469496e-02,  8.46498393e-03,  2.50345339e-03,\n",
       "          9.44640933e-03, -6.75121022e-04, -2.71416579e-02,\n",
       "         -6.11123214e-03],\n",
       "        [ 1.12787284e-03, -3.61888772e-03, -3.67923881e-03,\n",
       "         -1.04738436e-02,  4.01425083e-03,  4.76755255e-03,\n",
       "         -2.06265166e-02, -7.19907952e-04,  1.09797829e-03,\n",
       "          1.07970677e-02],\n",
       "        [ 1.25136538e-02, -2.73880588e-02, -1.04596196e-03,\n",
       "          9.33854288e-04,  6.28487127e-03, -6.65952865e-03,\n",
       "          1.68061213e-03,  4.71278407e-03,  1.09651269e-02,\n",
       "         -1.43348851e-02],\n",
       "        [ 2.59776394e-02, -1.05937466e-02, -2.52957150e-02,\n",
       "          7.40116805e-03,  1.32454906e-02,  1.39001722e-02,\n",
       "         -7.26136743e-03, -7.99073766e-03,  3.40982058e-03,\n",
       "         -1.80187269e-03],\n",
       "        [-2.18862954e-03,  5.02339006e-02,  6.37771050e-03,\n",
       "         -1.03034209e-02, -1.86425539e-02, -1.92840498e-03,\n",
       "         -2.31866861e-02, -2.49782283e-03, -7.75265967e-03,\n",
       "         -1.04199413e-02],\n",
       "        [ 6.29340395e-02,  1.51777977e-02, -1.09465468e-02,\n",
       "         -5.14428030e-03, -5.29801549e-03,  1.51883646e-03,\n",
       "         -1.06242130e-04, -5.57271168e-03, -3.67532102e-03,\n",
       "         -4.73463363e-03],\n",
       "        [-4.46616190e-02,  1.09217256e-01, -3.30563107e-03,\n",
       "         -7.77246142e-03, -1.36037136e-02, -1.06340187e-02,\n",
       "         -3.29435463e-02, -5.13600491e-03, -1.23638502e-02,\n",
       "         -2.30452352e-02],\n",
       "        [-1.36885304e-02,  7.06971061e-02, -2.02409098e-02,\n",
       "          8.21560353e-03,  1.87808290e-02,  3.81790633e-03,\n",
       "         -9.06878307e-03, -1.72971392e-02, -1.60081867e-02,\n",
       "         -1.31713588e-02],\n",
       "        [ 6.89523395e-03,  2.95016170e-02, -1.79083130e-02,\n",
       "         -1.25415889e-03, -5.86543626e-03, -8.93817623e-03,\n",
       "          9.64515368e-03, -3.73747111e-03, -2.37440831e-03,\n",
       "          2.79182472e-03],\n",
       "        [-6.23914739e-02,  5.12152512e-02, -1.41555004e-03,\n",
       "          3.27232431e-03, -1.59086657e-04, -1.06892114e-02,\n",
       "         -9.38479306e-03, -3.89908492e-03,  1.12835501e-02,\n",
       "         -1.37691834e-02],\n",
       "        [ 9.38001170e-04, -1.37927111e-02, -4.29123636e-04,\n",
       "          1.49160014e-03, -6.01877597e-03, -6.96157462e-03,\n",
       "         -3.86980000e-03,  4.56837452e-03,  1.35584809e-03,\n",
       "          6.83787915e-03],\n",
       "        [ 2.83519000e-02, -3.28333128e-02,  4.38136562e-03,\n",
       "         -1.44234563e-03, -5.65969207e-03,  1.65288252e-03,\n",
       "         -5.65193054e-03, -2.35068328e-02, -3.34209412e-03,\n",
       "          1.27225779e-02],\n",
       "        [-3.05414529e-03,  4.38722937e-02,  4.83029590e-04,\n",
       "         -7.80771858e-03,  2.86606423e-03, -1.25953167e-02,\n",
       "         -1.54246841e-02,  1.49822264e-04, -1.19585828e-02,\n",
       "          9.54667681e-04],\n",
       "        [ 7.03870494e-02, -1.69203472e-03, -7.16743026e-04,\n",
       "         -2.33891884e-02, -1.92190977e-02, -1.15417382e-02,\n",
       "         -2.38037526e-03,  6.57481021e-03, -3.15022518e-02,\n",
       "         -3.34143994e-03],\n",
       "        [ 1.89385881e-01, -1.23357915e-01,  2.88633077e-03,\n",
       "         -1.32128849e-02, -1.59774666e-02, -2.93187835e-03,\n",
       "         -1.30457565e-03,  3.72568422e-03, -8.49579395e-03,\n",
       "          1.56856265e-03],\n",
       "        [ 4.05179399e-02,  5.98640252e-03,  7.42164890e-04,\n",
       "         -2.87887287e-03, -2.90523542e-02, -4.15047911e-03,\n",
       "          1.26088112e-02, -6.40388672e-03, -7.88142835e-03,\n",
       "         -2.56858709e-02],\n",
       "        [-4.30095627e-02,  6.88864781e-02, -1.40554328e-02,\n",
       "         -9.54196027e-03, -9.76134915e-03, -1.52481935e-02,\n",
       "         -3.20198850e-03, -1.71019896e-02, -1.21841026e-03,\n",
       "         -1.67867335e-02],\n",
       "        [ 3.11456171e-03, -3.47642420e-02,  6.63020552e-03,\n",
       "         -3.47822389e-03, -2.47524780e-03, -6.85354434e-03,\n",
       "         -1.37039650e-02,  1.36268715e-02,  1.44007997e-02,\n",
       "         -1.72385175e-02],\n",
       "        [ 9.19468865e-04,  1.35137212e-02, -8.98694326e-03,\n",
       "         -7.23670879e-03,  5.95867775e-04,  9.26168683e-03,\n",
       "          1.15627382e-02,  1.95838605e-03, -6.29455551e-03,\n",
       "          4.96133919e-03],\n",
       "        [ 2.71463203e-02, -3.70702496e-02, -5.72230314e-03,\n",
       "          6.45650748e-03,  2.12789568e-03,  2.08873152e-02,\n",
       "          8.73872491e-03,  1.87381330e-02, -3.74894410e-04,\n",
       "          5.35794323e-03],\n",
       "        [-2.51182470e-03,  5.70938907e-02,  8.86539290e-05,\n",
       "         -2.41449720e-03, -8.85444869e-05, -1.48610106e-03,\n",
       "          8.89182102e-04, -2.20793675e-02, -1.03295096e-02,\n",
       "         -1.13350354e-02],\n",
       "        [ 9.88312400e-02,  1.54038471e-02,  7.74061363e-03,\n",
       "         -2.34156171e-02, -3.23340647e-03, -4.34868610e-03,\n",
       "         -1.44238833e-02, -2.30329460e-04, -1.02503903e-02,\n",
       "         -1.23814530e-02],\n",
       "        [ 1.29525734e-01, -1.64474695e-02, -3.25105606e-02,\n",
       "         -7.53942823e-03, -1.02376940e-02,  9.17066680e-04,\n",
       "         -1.67506000e-02, -1.23773182e-02, -3.63454768e-02,\n",
       "         -4.93693913e-03],\n",
       "        [ 5.68271885e-02,  1.39812427e-02,  7.99485603e-03,\n",
       "         -2.52771881e-02, -2.12631129e-02, -2.23408630e-02,\n",
       "         -6.95981410e-03, -2.06031634e-03, -6.17809300e-03,\n",
       "         -5.44880895e-03],\n",
       "        [ 5.16350149e-02, -3.65315241e-02, -3.99550102e-03,\n",
       "          8.64390573e-03, -6.74307128e-03,  1.18584011e-02,\n",
       "         -6.76214061e-03, -3.65092531e-04, -1.57364211e-03,\n",
       "          1.06977330e-02],\n",
       "        [ 1.35302406e-01, -1.28650326e-01, -2.87871191e-02,\n",
       "         -1.64115449e-02, -1.47532764e-03, -9.44357216e-03,\n",
       "          5.35152455e-03,  1.25020011e-02, -5.31584274e-03,\n",
       "         -6.83953706e-03]]),\n",
       " 'b': array([[ 0.06097687, -0.05451233,  0.00264304,  0.00766697,  0.01269155,\n",
       "          0.00796865,  0.0181913 ,  0.01103724, -0.00602956,  0.00382681]]),\n",
       " 'accuracy_cost': {'train_cost': [0.6030213738810866,\n",
       "   0.25740790814822884,\n",
       "   0.25058256950749325,\n",
       "   0.24865929069272366,\n",
       "   0.24906306301899486,\n",
       "   0.24809931056852993,\n",
       "   0.24773831303287758,\n",
       "   0.24873204140966268,\n",
       "   0.24707918837418782,\n",
       "   0.2462685774841392,\n",
       "   0.24818464673809698,\n",
       "   0.24602661974666012,\n",
       "   0.24663295230919358,\n",
       "   0.24691814680798926,\n",
       "   0.24986597537546604,\n",
       "   0.24670278716121558,\n",
       "   0.2466677696788394,\n",
       "   0.24629963831316676,\n",
       "   0.24550771550234785,\n",
       "   0.2532856375140485,\n",
       "   0.24829717133254853,\n",
       "   0.2457106138696958,\n",
       "   0.24560806476918057,\n",
       "   0.24600165986321698,\n",
       "   0.24636423008226568,\n",
       "   0.2519236583143928,\n",
       "   0.2513035430432234,\n",
       "   0.24491886679487204,\n",
       "   0.2462212465074729,\n",
       "   0.24545337951063567,\n",
       "   0.24641746433157244,\n",
       "   0.2506610892917279,\n",
       "   0.24556034616187727,\n",
       "   0.24492189965043357,\n",
       "   0.24453267100977213,\n",
       "   0.2460599542568458,\n",
       "   0.24448415639416987,\n",
       "   0.24454100593324798,\n",
       "   0.2499098960177031,\n",
       "   0.24431650001522234,\n",
       "   0.24629523709897988,\n",
       "   0.24403909190574855,\n",
       "   0.2456546586105302,\n",
       "   0.24555030164557348,\n",
       "   0.24431406272995437,\n",
       "   0.24417757865145742,\n",
       "   0.24464837894384267,\n",
       "   0.24389798154637632,\n",
       "   0.24382792711033113,\n",
       "   0.2447760365183073],\n",
       "  'train_acc': [0.7921306607275427,\n",
       "   0.9116555308092057,\n",
       "   0.9116555308092057,\n",
       "   0.9086859688195991,\n",
       "   0.910913140311804,\n",
       "   0.9079435783221975,\n",
       "   0.9079435783221975,\n",
       "   0.9049740163325909,\n",
       "   0.9094283593170007,\n",
       "   0.9101707498144024,\n",
       "   0.9079435783221975,\n",
       "   0.9086859688195991,\n",
       "   0.9072011878247959,\n",
       "   0.910913140311804,\n",
       "   0.9094283593170007,\n",
       "   0.9116555308092057,\n",
       "   0.9094283593170007,\n",
       "   0.9101707498144024,\n",
       "   0.9101707498144024,\n",
       "   0.9042316258351893,\n",
       "   0.9116555308092057,\n",
       "   0.9086859688195991,\n",
       "   0.9153674832962138,\n",
       "   0.910913140311804,\n",
       "   0.910913140311804,\n",
       "   0.9049740163325909,\n",
       "   0.9034892353377877,\n",
       "   0.9116555308092057,\n",
       "   0.9072011878247959,\n",
       "   0.9101707498144024,\n",
       "   0.910913140311804,\n",
       "   0.9042316258351893,\n",
       "   0.910913140311804,\n",
       "   0.9072011878247959,\n",
       "   0.9116555308092057,\n",
       "   0.910913140311804,\n",
       "   0.9101707498144024,\n",
       "   0.9146250927988122,\n",
       "   0.9094283593170007,\n",
       "   0.910913140311804,\n",
       "   0.9094283593170007,\n",
       "   0.9131403118040089,\n",
       "   0.9086859688195991,\n",
       "   0.9131403118040089,\n",
       "   0.9138827023014106,\n",
       "   0.9138827023014106,\n",
       "   0.9086859688195991,\n",
       "   0.9123979213066072,\n",
       "   0.9101707498144024,\n",
       "   0.9146250927988122],\n",
       "  'test_cost': [0.6072504813927082,\n",
       "   0.268964615525779,\n",
       "   0.27702761125194314,\n",
       "   0.2726130951537744,\n",
       "   0.2778889643588288,\n",
       "   0.2763235649789895,\n",
       "   0.2803090593761454,\n",
       "   0.2783827690153308,\n",
       "   0.2800242531596473,\n",
       "   0.275176766568968,\n",
       "   0.27807805773804933,\n",
       "   0.27884310450034255,\n",
       "   0.27620483451543887,\n",
       "   0.28150023219263814,\n",
       "   0.28524271079660823,\n",
       "   0.28038181666836687,\n",
       "   0.2802478623423946,\n",
       "   0.27340992898805266,\n",
       "   0.2760572329667223,\n",
       "   0.2808050646508976,\n",
       "   0.28531017712571205,\n",
       "   0.2756086505861354,\n",
       "   0.2770529143848619,\n",
       "   0.2788251049530323,\n",
       "   0.27927700779575965,\n",
       "   0.28267132030623254,\n",
       "   0.2810902281513693,\n",
       "   0.27735465512738655,\n",
       "   0.27494526277708886,\n",
       "   0.2763201072082165,\n",
       "   0.27986484218913765,\n",
       "   0.2823457482283989,\n",
       "   0.283795026912284,\n",
       "   0.2770077214309206,\n",
       "   0.2757871106326239,\n",
       "   0.27879321182372147,\n",
       "   0.2751684050154331,\n",
       "   0.27527172411584955,\n",
       "   0.28650445841833916,\n",
       "   0.27792317936757094,\n",
       "   0.2773386617200383,\n",
       "   0.2777269253263217,\n",
       "   0.27773518787853724,\n",
       "   0.27631298793472847,\n",
       "   0.2741790705591686,\n",
       "   0.2735557301350798,\n",
       "   0.27522310618575496,\n",
       "   0.2756169308070442,\n",
       "   0.2753149719662203,\n",
       "   0.27496830921539156],\n",
       "  'test_acc': [0.76,\n",
       "   0.8933333333333333,\n",
       "   0.8866666666666667,\n",
       "   0.8955555555555555,\n",
       "   0.8844444444444445,\n",
       "   0.8866666666666667,\n",
       "   0.8844444444444445,\n",
       "   0.8933333333333333,\n",
       "   0.8844444444444445,\n",
       "   0.8911111111111111,\n",
       "   0.8866666666666667,\n",
       "   0.8911111111111111,\n",
       "   0.8844444444444445,\n",
       "   0.8888888888888888,\n",
       "   0.8844444444444445,\n",
       "   0.8888888888888888,\n",
       "   0.8933333333333333,\n",
       "   0.8844444444444445,\n",
       "   0.8866666666666667,\n",
       "   0.8777777777777778,\n",
       "   0.8955555555555555,\n",
       "   0.8888888888888888,\n",
       "   0.8822222222222222,\n",
       "   0.8844444444444445,\n",
       "   0.8866666666666667,\n",
       "   0.8777777777777778,\n",
       "   0.88,\n",
       "   0.8933333333333333,\n",
       "   0.88,\n",
       "   0.8822222222222222,\n",
       "   0.8866666666666667,\n",
       "   0.8733333333333333,\n",
       "   0.8866666666666667,\n",
       "   0.8955555555555555,\n",
       "   0.8866666666666667,\n",
       "   0.8866666666666667,\n",
       "   0.8888888888888888,\n",
       "   0.8822222222222222,\n",
       "   0.8933333333333333,\n",
       "   0.8888888888888888,\n",
       "   0.8822222222222222,\n",
       "   0.8911111111111111,\n",
       "   0.8844444444444445,\n",
       "   0.8933333333333333,\n",
       "   0.8866666666666667,\n",
       "   0.8822222222222222,\n",
       "   0.8844444444444445,\n",
       "   0.8888888888888888,\n",
       "   0.8911111111111111,\n",
       "   0.8911111111111111]}}"
      ]
     },
     "execution_count": 73,
     "metadata": {},
     "output_type": "execute_result"
    }
   ],
   "source": [
    "result"
   ]
  },
  {
   "cell_type": "code",
   "execution_count": 74,
   "metadata": {},
   "outputs": [
    {
     "name": "stdout",
     "output_type": "stream",
     "text": [
      "The predict value is 0, the real digit is [1 0 0 0 0 0 0 0 0 0]\n"
     ]
    },
    {
     "data": {
      "image/png": "[encoded data removed]",
      "text/plain": [
       "<Figure size 432x288 with 1 Axes>"
      ]
     },
     "metadata": {
      "needs_background": "light"
     },
     "output_type": "display_data"
    }
   ],
   "source": [
    "predict10(X_test[27], y_test_onehot[27], result['w'], result['b'])"
   ]
  },
  {
   "cell_type": "code",
   "execution_count": null,
   "metadata": {},
   "outputs": [],
   "source": []
  }
 ],
 "metadata": {
  "kernelspec": {
   "display_name": "Python 3",
   "language": "python",
   "name": "python3"
  },
  "language_info": {
   "codemirror_mode": {
    "name": "ipython",
    "version": 3
   },
   "file_extension": ".py",
   "mimetype": "text/x-python",
   "name": "python",
   "nbconvert_exporter": "python",
   "pygments_lexer": "ipython3",
   "version": "3.6.10"
  }
 },
 "nbformat": 4,
 "nbformat_minor": 2
}
