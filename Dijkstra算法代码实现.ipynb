{
 "cells": [
  {
   "cell_type": "code",
   "execution_count": 1,
   "metadata": {},
   "outputs": [],
   "source": [
    "import heapq\n",
    "from math import inf"
   ]
  },
  {
   "cell_type": "code",
   "execution_count": 2,
   "metadata": {},
   "outputs": [],
   "source": [
    "graph = {\n",
    "    'A': {'B':5, 'C':1},\n",
    "    'B': {'A':5, 'C':2, 'D':1},\n",
    "    'C': {'A':1, 'B':2, 'D':4, 'E':8},\n",
    "    'D': {'B':1, 'C':4, 'E':3, 'F':6},\n",
    "    'E': {'C':8, 'D':3},\n",
    "    'F': {'D':6}\n",
    "}"
   ]
  },
  {
   "cell_type": "code",
   "execution_count": 3,
   "metadata": {},
   "outputs": [],
   "source": [
    "def init_distance(graph, s):\n",
    "    distance = {s: 0}\n",
    "    for point in graph:\n",
    "        if point != s:\n",
    "            distance[point] = inf\n",
    "    return distance"
   ]
  },
  {
   "cell_type": "code",
   "execution_count": 6,
   "metadata": {},
   "outputs": [],
   "source": [
    "def dijkstra(graph, s):\n",
    "    pre_q = []\n",
    "    distance = init_distance(graph, s)\n",
    "    heapq.heappush(pre_q, (0, s))\n",
    "    seen = set()\n",
    "    parent = {s: None}\n",
    "    \n",
    "    while len(pre_q) > 0:\n",
    "        dist, point = heapq.heappop(pre_q)\n",
    "        #在把point拿出后才能添加到seen里，比如A->B:5，A->C:1，C->B:2，这样A->C->B:3比直接A->B更近\n",
    "        seen.add(point)\n",
    "        nodes = graph[point].keys()\n",
    "        for w in nodes:\n",
    "            if w not in seen:\n",
    "                # dist为父节点与start的距离\n",
    "                # graph[point][w]为父节点与子节点的距离\n",
    "                # distance[w]为子节点与start的距离\n",
    "                if dist + graph[point][w] < distance[w]:\n",
    "                    heapq.heappush(pre_q, (dist+graph[point][w], w))\n",
    "                    parent[w] = point\n",
    "                    distance[w] = dist+graph[point][w]\n",
    "    return parent, distance"
   ]
  },
  {
   "cell_type": "code",
   "execution_count": 7,
   "metadata": {},
   "outputs": [
    {
     "name": "stdout",
     "output_type": "stream",
     "text": [
      "{'A': None, 'B': 'C', 'C': 'A', 'D': 'B', 'E': 'D', 'F': 'D'}\n",
      "{'A': 0, 'B': 3, 'C': 1, 'D': 4, 'E': 7, 'F': 10}\n"
     ]
    }
   ],
   "source": [
    "parent, distance = dijkstra(graph, 'A')\n",
    "print(parent)\n",
    "print(distance)"
   ]
  },
  {
   "cell_type": "code",
   "execution_count": null,
   "metadata": {},
   "outputs": [],
   "source": []
  }
 ],
 "metadata": {
  "kernelspec": {
   "display_name": "Python 3",
   "language": "python",
   "name": "python3"
  },
  "language_info": {
   "codemirror_mode": {
    "name": "ipython",
    "version": 3
   },
   "file_extension": ".py",
   "mimetype": "text/x-python",
   "name": "python",
   "nbconvert_exporter": "python",
   "pygments_lexer": "ipython3",
   "version": "3.6.10"
  }
 },
 "nbformat": 4,
 "nbformat_minor": 4
}
