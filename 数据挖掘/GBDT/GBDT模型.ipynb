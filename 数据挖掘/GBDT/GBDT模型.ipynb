{
 "cells": [
  {
   "cell_type": "code",
   "execution_count": null,
   "metadata": {},
   "outputs": [],
   "source": [
    "# 导入第三方包\n",
    "import pandas as pd\n",
    "import matplotlib.pyplot as plt\n",
    "\n",
    "# 读入数据\n",
    "default = pd.read_excel(r'default of credit card.xls')\n",
    "\n",
    "# 数据集中是否违约的客户比例\n",
    "# 为确保绘制的饼图为圆形，需执行如下代码\n",
    "plt.axes(aspect = 'equal')\n",
    "# 中文乱码和坐标轴负号的处理\n",
    "plt.rcParams['font.sans-serif'] = ['Microsoft YaHei']\n",
    "plt.rcParams['axes.unicode_minus'] = False\n",
    "# 统计客户是否违约的频数\n",
    "counts = default.y.value_counts()\n",
    "# 绘制饼图\n",
    "plt.pie(x = counts, # 绘图数据\n",
    "        labels=pd.Series(counts.index).map({0:'不违约',1:'违约'}), # 添加文字标签\n",
    "        autopct='%.1f%%' # 设置百分比的格式，这里保留一位小数\n",
    "       )\n",
    "# 显示图形\n",
    "plt.show()"
   ]
  },
  {
   "cell_type": "code",
   "execution_count": null,
   "metadata": {},
   "outputs": [],
   "source": [
    "# 将数据集拆分为训练集和测试集\n",
    "# 导入第三方包\n",
    "from sklearn import model_selection\n",
    "from sklearn import ensemble\n",
    "from sklearn import metrics\n",
    "\n",
    "# 排除数据集中的ID变量和因变量，剩余的数据用作自变量X\n",
    "X = default.drop(['ID','y'], axis = 1)\n",
    "y = default.y\n",
    "# 数据拆分\n",
    "X_train,X_test,y_train,y_test = model_selection.train_test_split(X,y,test_size = 0.25, random_state = 1234)\n",
    "\n",
    "# 构建AdaBoost算法的类\n",
    "AdaBoost1 = ensemble.AdaBoostClassifier()\n",
    "# 算法在训练数据集上的拟合\n",
    "AdaBoost1.fit(X_train,y_train)\n",
    "# 算法在测试数据集上的预测\n",
    "pred1 = AdaBoost1.predict(X_test)\n",
    "\n",
    "# 返回模型的预测效果\n",
    "print('模型的准确率为：\\n',metrics.accuracy_score(y_test, pred1))\n",
    "print('模型的评估报告：\\n',metrics.classification_report(y_test, pred1))"
   ]
  },
  {
   "cell_type": "code",
   "execution_count": null,
   "metadata": {},
   "outputs": [],
   "source": [
    "# 计算客户违约的概率值，用于生成ROC曲线的数据\n",
    "y_score = AdaBoost1.predict_proba(X_test)[:,1]\n",
    "fpr,tpr,threshold = metrics.roc_curve(y_test, y_score)\n",
    "# 计算AUC的值\n",
    "roc_auc = metrics.auc(fpr,tpr)\n",
    "\n",
    "# 绘制面积图\n",
    "plt.stackplot(fpr, tpr, color='steelblue', alpha = 0.5, edgecolor = 'black')\n",
    "# 添加边际线\n",
    "plt.plot(fpr, tpr, color='black', lw = 1)\n",
    "# 添加对角线\n",
    "plt.plot([0,1],[0,1], color = 'red', linestyle = '--')\n",
    "# 添加文本信息\n",
    "plt.text(0.5,0.3,'ROC curve (area = %0.2f)' % roc_auc)\n",
    "# 添加x轴与y轴标签\n",
    "plt.xlabel('1-Specificity')\n",
    "plt.ylabel('Sensitivity')\n",
    "# 显示图形\n",
    "plt.show()"
   ]
  },
  {
   "cell_type": "code",
   "execution_count": null,
   "metadata": {},
   "outputs": [],
   "source": [
    "# 自变量的重要性排序\n",
    "importance = pd.Series(AdaBoost1.feature_importances_, index = X.columns)\n",
    "importance.sort_values().plot(kind = 'barh')\n",
    "plt.show()"
   ]
  },
  {
   "cell_type": "code",
   "execution_count": null,
   "metadata": {},
   "outputs": [],
   "source": [
    "# 取出重要性比较高的自变量建模\n",
    "predictors = list(importance[importance>0.02].index)\n",
    "predictors\n",
    "\n",
    "# 通过网格搜索法选择基础模型所对应的合理参数组合\n",
    "# 导入第三方包\n",
    "from sklearn.model_selection import GridSearchCV\n",
    "from sklearn.tree import DecisionTreeClassifier\n",
    "\n",
    "max_depth = [3,4,5,6]\n",
    "params1 = {'base_estimator__max_depth':max_depth}\n",
    "base_model = GridSearchCV(estimator = ensemble.AdaBoostClassifier(base_estimator = DecisionTreeClassifier()),\n",
    "                          param_grid= params1, scoring = 'roc_auc', cv = 5, n_jobs = 4, verbose = 1)\n",
    "base_model.fit(X_train[predictors],y_train)\n",
    "# 返回参数的最佳组合和对应AUC值\n",
    "base_model.best_params_, base_model.best_score_"
   ]
  },
  {
   "cell_type": "code",
   "execution_count": null,
   "metadata": {},
   "outputs": [],
   "source": [
    "# 通过网格搜索法选择提升树的合理参数组合\n",
    "# 导入第三方包\n",
    "from sklearn.model_selection import GridSearchCV\n",
    "\n",
    "n_estimators = [100,200,300]\n",
    "learning_rate = [0.01,0.05,0.1,0.2]\n",
    "params2 = {'n_estimators':n_estimators,'learning_rate':learning_rate}\n",
    "adaboost = GridSearchCV(estimator = ensemble.AdaBoostClassifier(base_estimator = DecisionTreeClassifier(max_depth = 3)),\n",
    "                        param_grid= params2, scoring = 'roc_auc', cv = 5, n_jobs = 4, verbose = 1)\n",
    "adaboost.fit(X_train[predictors] ,y_train)\n",
    "# 返回参数的最佳组合和对应AUC值\n",
    "adaboost.best_params_, adaboost.best_score_"
   ]
  },
  {
   "cell_type": "code",
   "execution_count": null,
   "metadata": {},
   "outputs": [],
   "source": [
    "# 使用最佳的参数组合构建AdaBoost模型\n",
    "AdaBoost2 = ensemble.AdaBoostClassifier(base_estimator = DecisionTreeClassifier(max_depth = 3),\n",
    "                                       n_estimators = 300, learning_rate = 0.01)\n",
    "# 算法在训练数据集上的拟合\n",
    "AdaBoost2.fit(X_train[predictors],y_train)\n",
    "# 算法在测试数据集上的预测\n",
    "pred2 = AdaBoost2.predict(X_test[predictors])\n",
    "\n",
    "# 返回模型的预测效果\n",
    "print('模型的准确率为：\\n',metrics.accuracy_score(y_test, pred2))\n",
    "print('模型的评估报告：\\n',metrics.classification_report(y_test, pred2))"
   ]
  },
  {
   "cell_type": "code",
   "execution_count": null,
   "metadata": {},
   "outputs": [],
   "source": [
    "# 计算正例的预测概率，用于生成ROC曲线的数据\n",
    "y_score = AdaBoost2.predict_proba(X_test[predictors])[:,1]\n",
    "fpr,tpr,threshold = metrics.roc_curve(y_test, y_score)\n",
    "# 计算AUC的值\n",
    "roc_auc = metrics.auc(fpr,tpr)\n",
    "\n",
    "# 绘制面积图\n",
    "plt.stackplot(fpr, tpr, color='steelblue', alpha = 0.5, edgecolor = 'black')\n",
    "# 添加边际线\n",
    "plt.plot(fpr, tpr, color='black', lw = 1)\n",
    "# 添加对角线\n",
    "plt.plot([0,1],[0,1], color = 'red', linestyle = '--')\n",
    "# 添加文本信息\n",
    "plt.text(0.5,0.3,'ROC curve (area = %0.2f)' % roc_auc)\n",
    "# 添加x轴与y轴标签\n",
    "plt.xlabel('1-Specificity')\n",
    "plt.ylabel('Sensitivity')\n",
    "# 显示图形\n",
    "plt.show()"
   ]
  },
  {
   "cell_type": "code",
   "execution_count": null,
   "metadata": {},
   "outputs": [],
   "source": []
  },
  {
   "cell_type": "code",
   "execution_count": null,
   "metadata": {},
   "outputs": [],
   "source": [
    "# 运用网格搜索法选择梯度提升树的合理参数组合\n",
    "learning_rate = [0.01,0.05,0.1,0.2]\n",
    "n_estimators = [100,300,500]\n",
    "max_depth = [3,4,5,6]\n",
    "params = {'learning_rate':learning_rate,'n_estimators':n_estimators,'max_depth':max_depth}\n",
    "gbdt_grid = GridSearchCV(estimator = ensemble.GradientBoostingClassifier(),\n",
    "                         param_grid= params, scoring = 'roc_auc', cv = 5, n_jobs = 4, verbose = 1)\n",
    "gbdt_grid.fit(X_train[predictors],y_train)\n",
    "# 返回参数的最佳组合和对应AUC值\n",
    "gbdt_grid.best_params_, gbdt_grid.best_score_"
   ]
  },
  {
   "cell_type": "code",
   "execution_count": null,
   "metadata": {},
   "outputs": [],
   "source": [
    "# 基于最佳参数组合的GBDT模型，对测试数据集进行预测\n",
    "pred = gbdt_grid.predict(X_test[predictors])\n",
    "# 返回模型的预测效果\n",
    "print('模型的准确率为：\\n',metrics.accuracy_score(y_test, pred))\n",
    "print('模型的评估报告：\\n',metrics.classification_report(y_test, pred))"
   ]
  },
  {
   "cell_type": "code",
   "execution_count": null,
   "metadata": {},
   "outputs": [],
   "source": [
    "# 计算违约客户的概率值，用于生成ROC曲线的数据\n",
    "y_score = gbdt_grid.predict_proba(X_test[predictors])[:,1]\n",
    "fpr,tpr,threshold = metrics.roc_curve(y_test, y_score)\n",
    "# 计算AUC的值\n",
    "roc_auc = metrics.auc(fpr,tpr)\n",
    "\n",
    "# 绘制面积图\n",
    "plt.stackplot(fpr, tpr, color='steelblue', alpha = 0.5, edgecolor = 'black')\n",
    "# 添加边际线\n",
    "plt.plot(fpr, tpr, color='black', lw = 1)\n",
    "# 添加对角线\n",
    "plt.plot([0,1],[0,1], color = 'red', linestyle = '--')\n",
    "# 添加文本信息\n",
    "plt.text(0.5,0.3,'ROC curve (area = %0.2f)' % roc_auc)\n",
    "# 添加x轴与y轴标签\n",
    "plt.xlabel('1-Specificity')\n",
    "plt.ylabel('Sensitivity')\n",
    "# 显示图形\n",
    "plt.show()"
   ]
  },
  {
   "cell_type": "code",
   "execution_count": null,
   "metadata": {},
   "outputs": [],
   "source": [
    "# 读入数据\n",
    "creditcard = pd.read_csv(r'creditcard.csv')"
   ]
  },
  {
   "cell_type": "code",
   "execution_count": null,
   "metadata": {},
   "outputs": [],
   "source": [
    "# 为确保绘制的饼图为圆形，需执行如下代码\n",
    "plt.axes(aspect = 'equal')\n",
    "# 统计交易是否为欺诈的频数\n",
    "counts = creditcard.Class.value_counts()\n",
    "# 绘制饼图\n",
    "plt.pie(x = counts, # 绘图数据\n",
    "        labels=pd.Series(counts.index).map({0:'正常',1:'欺诈'}), # 添加文字标签\n",
    "        autopct='%.2f%%' # 设置百分比的格式，这里保留一位小数\n",
    "       )\n",
    "# 显示图形\n",
    "plt.show()"
   ]
  },
  {
   "cell_type": "code",
   "execution_count": null,
   "metadata": {},
   "outputs": [],
   "source": [
    "# 将数据拆分为训练集和测试集\n",
    "# 删除自变量中的Time变量\n",
    "X = creditcard.drop(['Time','Class'], axis = 1)\n",
    "y = creditcard.Class\n",
    "# 数据拆分\n",
    "X_train,X_test,y_train,y_test = model_selection.train_test_split(X,y,test_size = 0.3, random_state = 1234)"
   ]
  },
  {
   "cell_type": "code",
   "execution_count": null,
   "metadata": {
    "scrolled": true
   },
   "outputs": [],
   "source": [
    "# 导入第三方包\n",
    "from imblearn.over_sampling import SMOTE\n",
    "\n",
    "# 运用SMOTE算法实现训练数据集的平衡\n",
    "over_samples = SMOTE(random_state=1234) \n",
    "# over_samples_X,over_samples_y = over_samples.fit_sample(X_train, y_train)\n",
    "over_samples_X, over_samples_y = over_samples.fit_sample(X_train.values,y_train.values.ravel())\n",
    "# 重抽样前的类别比例\n",
    "print(y_train.value_counts()/len(y_train))\n",
    "# 重抽样后的类别比例\n",
    "print(pd.Series(over_samples_y).value_counts()/len(over_samples_y))"
   ]
  },
  {
   "cell_type": "code",
   "execution_count": null,
   "metadata": {
    "scrolled": true
   },
   "outputs": [],
   "source": [
    "# https://www.lfd.uci.edu/~gohlke/pythonlibs/\n",
    "# 导入第三方包\n",
    "import xgboost\n",
    "import numpy as np\n",
    "# 构建XGBoost分类器\n",
    "xgboost = xgboost.XGBClassifier()\n",
    "# 使用重抽样后的数据，对其建模\n",
    "xgboost.fit(over_samples_X,over_samples_y)\n",
    "# 将模型运用到测试数据集中\n",
    "resample_pred = xgboost.predict(np.array(X_test))\n",
    "\n",
    "# 返回模型的预测效果\n",
    "print('模型的准确率为：\\n',metrics.accuracy_score(y_test, resample_pred))\n",
    "print('模型的评估报告：\\n',metrics.classification_report(y_test, resample_pred))"
   ]
  },
  {
   "cell_type": "code",
   "execution_count": null,
   "metadata": {},
   "outputs": [],
   "source": [
    "# 计算欺诈交易的概率值，用于生成ROC曲线的数据\n",
    "y_score = xgboost.predict_proba(np.array(X_test))[:,1]\n",
    "fpr,tpr,threshold = metrics.roc_curve(y_test, y_score)\n",
    "# 计算AUC的值\n",
    "roc_auc = metrics.auc(fpr,tpr)\n",
    "\n",
    "# 绘制面积图\n",
    "plt.stackplot(fpr, tpr, color='steelblue', alpha = 0.5, edgecolor = 'black')\n",
    "# 添加边际线\n",
    "plt.plot(fpr, tpr, color='black', lw = 1)\n",
    "# 添加对角线\n",
    "plt.plot([0,1],[0,1], color = 'red', linestyle = '--')\n",
    "# 添加文本信息\n",
    "plt.text(0.5,0.3,'ROC curve (area = %0.2f)' % roc_auc)\n",
    "# 添加x轴与y轴标签\n",
    "plt.xlabel('1-Specificity')\n",
    "plt.ylabel('Sensitivity')\n",
    "# 显示图形\n",
    "plt.show()"
   ]
  },
  {
   "cell_type": "code",
   "execution_count": null,
   "metadata": {},
   "outputs": [],
   "source": [
    "# 构建XGBoost分类器\n",
    "import xgboost\n",
    "xgboost2 = xgboost.XGBClassifier()\n",
    "# 使用非平衡的训练数据集拟合模型\n",
    "xgboost2.fit(X_train,y_train)\n",
    "# 基于拟合的模型对测试数据集进行预测\n",
    "pred2 = xgboost2.predict(X_test)\n",
    "# 混淆矩阵\n",
    "pd.crosstab(pred2,y_test)"
   ]
  },
  {
   "cell_type": "code",
   "execution_count": null,
   "metadata": {},
   "outputs": [],
   "source": [
    "# 返回模型的预测效果\n",
    "print('模型的准确率为：\\n',metrics.accuracy_score(y_test, pred2))\n",
    "print('模型的评估报告：\\n',metrics.classification_report(y_test, pred2))"
   ]
  },
  {
   "cell_type": "code",
   "execution_count": null,
   "metadata": {},
   "outputs": [],
   "source": [
    "# 计算欺诈交易的概率值，用于生成ROC曲线的数据\n",
    "y_score = xgboost2.predict_proba(X_test)[:,1]\n",
    "fpr,tpr,threshold = metrics.roc_curve(y_test, y_score)\n",
    "# 计算AUC的值\n",
    "roc_auc = metrics.auc(fpr,tpr)\n",
    "\n",
    "# 绘制面积图\n",
    "plt.stackplot(fpr, tpr, color='steelblue', alpha = 0.5, edgecolor = 'black')\n",
    "# 添加边际线\n",
    "plt.plot(fpr, tpr, color='black', lw = 1)\n",
    "# 添加对角线\n",
    "plt.plot([0,1],[0,1], color = 'red', linestyle = '--')\n",
    "# 添加文本信息\n",
    "plt.text(0.5,0.3,'ROC curve (area = %0.2f)' % roc_auc)\n",
    "# 添加x轴与y轴标签\n",
    "plt.xlabel('1-Specificity')\n",
    "plt.ylabel('Sensitivity')\n",
    "# 显示图形\n",
    "plt.show()"
   ]
  },
  {
   "cell_type": "code",
   "execution_count": null,
   "metadata": {},
   "outputs": [],
   "source": []
  }
 ],
 "metadata": {
  "anaconda-cloud": {},
  "kernelspec": {
   "display_name": "Python 3",
   "language": "python",
   "name": "python3"
  },
  "language_info": {
   "codemirror_mode": {
    "name": "ipython",
    "version": 3
   },
   "file_extension": ".py",
   "mimetype": "text/x-python",
   "name": "python",
   "nbconvert_exporter": "python",
   "pygments_lexer": "ipython3",
   "version": "3.7.4"
  }
 },
 "nbformat": 4,
 "nbformat_minor": 1
}
