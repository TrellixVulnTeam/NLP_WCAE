{
 "cells": [
  {
   "cell_type": "code",
   "execution_count": 1,
   "metadata": {},
   "outputs": [
    {
     "name": "stderr",
     "output_type": "stream",
     "text": [
      "2020-06-09 19:03:00,501 - macropodus - INFO - path of dict cache is /Users/zhoujianyao/opt/anaconda3/lib/python3.6/site-packages/macropodus/data/cache/macropodus.cache!\n",
      "2020-06-09 19:03:00,501 - seg_basic.py[line:19] - INFO: path of dict cache is /Users/zhoujianyao/opt/anaconda3/lib/python3.6/site-packages/macropodus/data/cache/macropodus.cache!\n",
      "2020-06-09 19:03:01,159 - textcleaner.py[line:37] - INFO: 'pattern' package not found; tag filters are not available for English\n",
      "2020-06-09 19:03:01,163 - macropodus - INFO - path of w2v cache is /Users/zhoujianyao/opt/anaconda3/lib/python3.6/site-packages/macropodus/data/cache/word2vec_char.cache!\n",
      "2020-06-09 19:03:01,163 - word2vec.py[line:19] - INFO: path of w2v cache is /Users/zhoujianyao/opt/anaconda3/lib/python3.6/site-packages/macropodus/data/cache/word2vec_char.cache!\n",
      "2020-06-09 19:03:10,978 - macropodus - INFO - in user code:\n",
      "\n",
      "    /Users/zhoujianyao/opt/anaconda3/lib/python3.6/site-packages/macropodus/network/layers/crf.py:93 call  *\n",
      "        viterbi_sequence, _ = tf.contrib.crf.crf_decode(sequences, self.transitions,\n",
      "\n",
      "    AttributeError: module 'tensorflow' has no attribute 'contrib'\n",
      "\n",
      "2020-06-09 19:03:10,978 - __init_tf_keras.py[line:55] - INFO: in user code:\n",
      "\n",
      "    /Users/zhoujianyao/opt/anaconda3/lib/python3.6/site-packages/macropodus/network/layers/crf.py:93 call  *\n",
      "        viterbi_sequence, _ = tf.contrib.crf.crf_decode(sequences, self.transitions,\n",
      "\n",
      "    AttributeError: module 'tensorflow' has no attribute 'contrib'\n",
      "\n",
      "2020-06-09 19:03:12,205 - macropodus - INFO - in user code:\n",
      "\n",
      "    /Users/zhoujianyao/opt/anaconda3/lib/python3.6/site-packages/macropodus/network/layers/crf.py:93 call  *\n",
      "        viterbi_sequence, _ = tf.contrib.crf.crf_decode(sequences, self.transitions,\n",
      "\n",
      "    AttributeError: module 'tensorflow' has no attribute 'contrib'\n",
      "\n",
      "2020-06-09 19:03:12,205 - __init_tf_keras.py[line:64] - INFO: in user code:\n",
      "\n",
      "    /Users/zhoujianyao/opt/anaconda3/lib/python3.6/site-packages/macropodus/network/layers/crf.py:93 call  *\n",
      "        viterbi_sequence, _ = tf.contrib.crf.crf_decode(sequences, self.transitions,\n",
      "\n",
      "    AttributeError: module 'tensorflow' has no attribute 'contrib'\n",
      "\n"
     ]
    }
   ],
   "source": [
    "import macropodus"
   ]
  },
  {
   "cell_type": "code",
   "execution_count": 2,
   "metadata": {},
   "outputs": [],
   "source": [
    "summary = \"PageRank算法简介。\" \\\n",
    "           \"是上世纪90年代末提出的一种计算网页权重的算法! \" \\\n",
    "           \"当时，互联网技术突飞猛进，各种网页网站爆炸式增长。 \" \\\n",
    "           \"业界急需一种相对比较准确的网页重要性计算方法。 \" \\\n",
    "           \"是人们能够从海量互联网世界中找出自己需要的信息。 \" \\\n",
    "           \"百度百科如是介绍他的思想:PageRank通过网络浩瀚的超链接关系来确定一个页面的等级。 \" \\\n",
    "           \"Google把从A页面到B页面的链接解释为A页面给B页面投票。 \" \\\n",
    "           \"Google根据投票来源甚至来源的来源，即链接到A页面的页面。 \" \\\n",
    "           \"和投票目标的等级来决定新的等级。简单的说， \" \\\n",
    "           \"一个高等级的页面可以使其他低等级页面的等级提升。 \" \\\n",
    "           \"具体说来就是，PageRank有两个基本思想，也可以说是假设。 \" \\\n",
    "           \"即数量假设：一个网页被越多的其他页面链接，就越重）。 \" \\\n",
    "           \"质量假设：一个网页越是被高质量的网页链接，就越重要。 \" \\\n",
    "           \"总的来说就是一句话，从全局角度考虑，获取重要的信。 \""
   ]
  },
  {
   "cell_type": "code",
   "execution_count": 3,
   "metadata": {},
   "outputs": [
    {
     "name": "stdout",
     "output_type": "stream",
     "text": [
      "['PageRank', '算法', '简介', '。', '是', '上世纪', '90', '年代', '末', '提出', '的', '一种', '计算', '网页', '权重', '的', '算法', '!', ' ', '当时', '，', '互联网', '技术', '突飞猛进', '，', '各种', '网页', '网站', '爆炸式', '增长', '。', ' ', '业界', '急需', '一种', '相对', '比较', '准确', '的', '网页', '重要性', '计算', '方法', '。', ' ', '是', '人们', '能够', '从', '海量', '互联网', '世界', '中', '找出', '自己', '需要', '的', '信息', '。', ' ', '百度', '百科', '如是', '介绍', '他', '的', '思想', ':', 'PageRank', '通过', '网络', '浩瀚', '的', '超链接', '关系', '来', '确定', '一个', '页面', '的', '等级', '。', ' ', 'Google', '把', '从', 'A', '页面', '到', 'B', '页面', '的', '链接', '解释为', 'A', '页面', '给', 'B', '页面', '投票', '。', ' ', 'Google', '根据', '投票', '来源', '甚至', '来源', '的', '来源', '，', '即', '链接到', 'A', '页面', '的', '页面', '。', ' ', '和', '投票', '目标', '的', '等级', '来', '决定', '新', '的', '等级', '。', '简单', '的', '说', '，', ' ', '一个', '高等级', '的', '页面', '可以', '使', '其他', '低', '等级', '页面', '的', '等级', '提升', '。', ' ', '具体说来', '就是', '，', 'PageRank', '有', '两个', '基本', '思想', '，', '也可以说', '是', '假设', '。', ' ', '即', '数量', '假设', '：', '一个', '网页', '被', '越多', '的', '其他', '页面', '链接', '，', '就', '越', '重', '）', '。', ' ', '质量', '假设', '：', '一个', '网页', '越是', '被', '高质量', '的', '网页', '链接', '，', '就', '越', '重要', '。', ' ', '总的来说', '就是', '一句话', '，', '从', '全局', '角度', '考虑', '，', '获取', '重要', '的', '信', '。', ' ']\n"
     ]
    }
   ],
   "source": [
    "words = macropodus.cut(summary)\n",
    "print(words)"
   ]
  },
  {
   "cell_type": "code",
   "execution_count": 7,
   "metadata": {},
   "outputs": [
    {
     "name": "stderr",
     "output_type": "stream",
     "text": [
      "2020-06-07 08:58:47,742 - macropodus.summarize.graph_base.textrank_gensim - INFO - Building graph\n",
      "2020-06-07 08:58:47,742 - textrank_gensim.py[line:345] - INFO: Building graph\n",
      "2020-06-07 08:58:47,744 - macropodus.summarize.graph_base.textrank_gensim - INFO - Filling graph\n",
      "2020-06-07 08:58:47,744 - textrank_gensim.py[line:348] - INFO: Filling graph\n",
      "2020-06-07 08:58:47,748 - macropodus.summarize.graph_base.textrank_gensim - INFO - Removing unreachable nodes of graph\n",
      "2020-06-07 08:58:47,748 - textrank_gensim.py[line:351] - INFO: Removing unreachable nodes of graph\n",
      "2020-06-07 08:58:47,749 - macropodus.summarize.graph_base.textrank_gensim - INFO - Pagerank graph\n",
      "2020-06-07 08:58:47,749 - textrank_gensim.py[line:354] - INFO: Pagerank graph\n"
     ]
    },
    {
     "name": "stdout",
     "output_type": "stream",
     "text": [
      "[(0.32879109779274446, ' 具体说来就是，PageRank有两个基本思想，也可以说是假设'), (0.3204136277138262, '一个网页被越多的其他页面链接，就越重）'), (0.3090307799567738, ' Google根据投票来源甚至来源的来源，即链接到A页面的页面'), (0.2641044337400623, '一个网页越是被高质量的网页链接，就越重要'), (0.26327787074259845, ' Google把从A页面到B页面的链接解释为A页面给B页面投票'), (0.2527761616876053, ' 和投票目标的等级来决定新的等级')]\n"
     ]
    }
   ],
   "source": [
    "sents = macropodus.summarize(summary, model_type='textrank_gensim')\n",
    "print(sents)"
   ]
  },
  {
   "cell_type": "code",
   "execution_count": 8,
   "metadata": {},
   "outputs": [
    {
     "name": "stdout",
     "output_type": "stream",
     "text": [
      "[(0.05242698441612143, '网页'), (0.047325063686359865, '页面'), (0.029966389631983822, '等级')]\n"
     ]
    }
   ],
   "source": [
    "keywords = macropodus.keyword(summary)\n",
    "print(keywords)"
   ]
  },
  {
   "cell_type": "code",
   "execution_count": 9,
   "metadata": {},
   "outputs": [],
   "source": [
    "sent1=\"叉尾斗鱼是一种观赏性动物\"\n",
    "sent2=\"中国斗鱼生性好斗,适应性强,能在恶劣的环境中生存\""
   ]
  },
  {
   "cell_type": "code",
   "execution_count": 10,
   "metadata": {},
   "outputs": [
    {
     "data": {
      "text/plain": [
       "0.5172818856579917"
      ]
     },
     "execution_count": 10,
     "metadata": {},
     "output_type": "execute_result"
    }
   ],
   "source": [
    "macropodus.sim(sent1, sent2)"
   ]
  },
  {
   "cell_type": "code",
   "execution_count": 2,
   "metadata": {},
   "outputs": [],
   "source": [
    "summary1 = \"美丽的广西是我国华南地区的一颗璀璨的明珠,山清水秀生态美,风生水起万象新。\""
   ]
  },
  {
   "cell_type": "code",
   "execution_count": 2,
   "metadata": {},
   "outputs": [
    {
     "ename": "TypeError",
     "evalue": "'str' object is not callable",
     "output_type": "error",
     "traceback": [
      "\u001b[0;31m---------------------------------------------------------------------------\u001b[0m",
      "\u001b[0;31mTypeError\u001b[0m                                 Traceback (most recent call last)",
      "\u001b[0;32m<ipython-input-2-c7441de7f239>\u001b[0m in \u001b[0;36m<module>\u001b[0;34m\u001b[0m\n\u001b[0;32m----> 1\u001b[0;31m \u001b[0mres_ner\u001b[0m \u001b[0;34m=\u001b[0m \u001b[0mmacropodus\u001b[0m\u001b[0;34m.\u001b[0m\u001b[0mpath_ner_albert_bilstm_crf\u001b[0m\u001b[0;34m(\u001b[0m\u001b[0;34m\"美丽的广西是我国华南地区的一颗璀璨的明珠,山清水秀生态美,风生水起万象新。\"\u001b[0m\u001b[0;34m)\u001b[0m\u001b[0;34m\u001b[0m\u001b[0;34m\u001b[0m\u001b[0m\n\u001b[0m\u001b[1;32m      2\u001b[0m \u001b[0mprint\u001b[0m\u001b[0;34m(\u001b[0m\u001b[0mres_ner\u001b[0m\u001b[0;34m)\u001b[0m\u001b[0;34m\u001b[0m\u001b[0;34m\u001b[0m\u001b[0m\n",
      "\u001b[0;31mTypeError\u001b[0m: 'str' object is not callable"
     ]
    }
   ],
   "source": [
    "res_ner = macropodus.ner\n",
    "print(res_ner)"
   ]
  },
  {
   "cell_type": "code",
   "execution_count": null,
   "metadata": {},
   "outputs": [],
   "source": []
  }
 ],
 "metadata": {
  "kernelspec": {
   "display_name": "Python 3",
   "language": "python",
   "name": "python3"
  },
  "language_info": {
   "codemirror_mode": {
    "name": "ipython",
    "version": 3
   },
   "file_extension": ".py",
   "mimetype": "text/x-python",
   "name": "python",
   "nbconvert_exporter": "python",
   "pygments_lexer": "ipython3",
   "version": "3.6.10"
  }
 },
 "nbformat": 4,
 "nbformat_minor": 4
}
