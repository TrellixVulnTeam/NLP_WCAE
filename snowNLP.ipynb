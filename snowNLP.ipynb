{
 "cells": [
  {
   "cell_type": "code",
   "execution_count": 1,
   "metadata": {},
   "outputs": [],
   "source": [
    "from snownlp import SnowNLP"
   ]
  },
  {
   "cell_type": "code",
   "execution_count": 2,
   "metadata": {},
   "outputs": [],
   "source": [
    "s = SnowNLP('利用计算机将大量的文本进行处理，产生简洁、精炼内容的过程就是文本摘要，人们可通过阅读摘要来把握文本主要内容，这不仅大大节省时间，更提高阅读效率。')"
   ]
  },
  {
   "cell_type": "code",
   "execution_count": 3,
   "metadata": {},
   "outputs": [
    {
     "data": {
      "text/plain": [
       "['利用',\n",
       " '计算机',\n",
       " '将',\n",
       " '大量',\n",
       " '的',\n",
       " '文本',\n",
       " '进行',\n",
       " '处理',\n",
       " '，',\n",
       " '产生',\n",
       " '简洁',\n",
       " '、',\n",
       " '精炼',\n",
       " '内容',\n",
       " '的',\n",
       " '过程',\n",
       " '就',\n",
       " '是',\n",
       " '文本',\n",
       " '摘要',\n",
       " '，',\n",
       " '人们',\n",
       " '可',\n",
       " '通过',\n",
       " '阅读',\n",
       " '摘要',\n",
       " '来',\n",
       " '把握',\n",
       " '文本',\n",
       " '主要',\n",
       " '内容',\n",
       " '，',\n",
       " '这',\n",
       " '不仅',\n",
       " '大大',\n",
       " '节省',\n",
       " '时间',\n",
       " '，',\n",
       " '更',\n",
       " '提高',\n",
       " '阅读',\n",
       " '效率',\n",
       " '。']"
      ]
     },
     "execution_count": 3,
     "metadata": {},
     "output_type": "execute_result"
    }
   ],
   "source": [
    "s.words"
   ]
  },
  {
   "cell_type": "code",
   "execution_count": 7,
   "metadata": {},
   "outputs": [
    {
     "name": "stdout",
     "output_type": "stream",
     "text": [
      "利用 v\n",
      "计算机 n\n",
      "将 d\n",
      "大量 m\n",
      "的 u\n",
      "文本 n\n",
      "进行 v\n",
      "处理 v\n",
      "， w\n",
      "产生 v\n",
      "简洁 a\n",
      "、 w\n",
      "精炼 a\n",
      "内容 n\n",
      "的 u\n",
      "过程 n\n",
      "就 d\n",
      "是 v\n",
      "文本 n\n",
      "摘要 n\n",
      "， w\n",
      "人们 n\n",
      "可 v\n",
      "通过 p\n",
      "阅读 v\n",
      "摘要 n\n",
      "来 f\n",
      "把握 v\n",
      "文本 n\n",
      "主要 b\n",
      "内容 n\n",
      "， w\n",
      "这 r\n",
      "不仅 c\n",
      "大大 d\n",
      "节省 v\n",
      "时间 n\n",
      "， w\n",
      "更 d\n",
      "提高 v\n",
      "阅读 v\n",
      "效率 n\n",
      "。 w\n"
     ]
    }
   ],
   "source": [
    "for w, t in s.tags:\n",
    "    print(w, t)"
   ]
  },
  {
   "cell_type": "code",
   "execution_count": 8,
   "metadata": {},
   "outputs": [
    {
     "data": {
      "text/plain": [
       "0.9999999694707733"
      ]
     },
     "execution_count": 8,
     "metadata": {},
     "output_type": "execute_result"
    }
   ],
   "source": [
    "s.sentiments"
   ]
  },
  {
   "cell_type": "code",
   "execution_count": 9,
   "metadata": {},
   "outputs": [],
   "source": [
    "text = u'''\n",
    "自然语言处理是计算机科学领域与人工智能领域中的一个重要方向。\n",
    "它研究能实现人与计算机之间用自然语言进行有效通信的各种理论和方法。\n",
    "自然语言处理是一门融语言学、计算机科学、数学于一体的科学。\n",
    "因此，这一领域的研究将涉及自然语言，即人们日常使用的语言，\n",
    "所以它与语言学的研究有着密切的联系，但又有重要的区别。\n",
    "自然语言处理并不是一般地研究自然语言，\n",
    "而在于研制能有效地实现自然语言通信的计算机系统，\n",
    "特别是其中的软件系统。因而它是计算机科学的一部分。\n",
    "'''"
   ]
  },
  {
   "cell_type": "code",
   "execution_count": 10,
   "metadata": {},
   "outputs": [],
   "source": [
    "s = SnowNLP(text)"
   ]
  },
  {
   "cell_type": "code",
   "execution_count": 11,
   "metadata": {},
   "outputs": [
    {
     "data": {
      "text/plain": [
       "['语言', '自然', '计算机', '领域', '研究']"
      ]
     },
     "execution_count": 11,
     "metadata": {},
     "output_type": "execute_result"
    }
   ],
   "source": [
    "s.keywords(5)"
   ]
  },
  {
   "cell_type": "code",
   "execution_count": 12,
   "metadata": {},
   "outputs": [
    {
     "data": {
      "text/plain": [
       "['因而它是计算机科学的一部分',\n",
       " '自然语言处理是计算机科学领域与人工智能领域中的一个重要方向',\n",
       " '自然语言处理是一门融语言学、计算机科学、数学于一体的科学']"
      ]
     },
     "execution_count": 12,
     "metadata": {},
     "output_type": "execute_result"
    }
   ],
   "source": [
    "s.summary(3)"
   ]
  },
  {
   "cell_type": "code",
   "execution_count": null,
   "metadata": {},
   "outputs": [],
   "source": []
  }
 ],
 "metadata": {
  "kernelspec": {
   "display_name": "Python 3",
   "language": "python",
   "name": "python3"
  },
  "language_info": {
   "codemirror_mode": {
    "name": "ipython",
    "version": 3
   },
   "file_extension": ".py",
   "mimetype": "text/x-python",
   "name": "python",
   "nbconvert_exporter": "python",
   "pygments_lexer": "ipython3",
   "version": "3.6.10"
  }
 },
 "nbformat": 4,
 "nbformat_minor": 4
}
