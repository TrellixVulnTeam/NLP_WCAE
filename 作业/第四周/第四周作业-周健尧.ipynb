{
 "cells": [
  {
   "cell_type": "markdown",
   "metadata": {},
   "source": [
    "# Assignment 4"
   ]
  },
  {
   "cell_type": "markdown",
   "metadata": {},
   "source": [
    "### 1. 复习上课内容以及复现课程代码"
   ]
  },
  {
   "cell_type": "markdown",
   "metadata": {},
   "source": [
    "在本部分，你需要复习上课内容和课程代码后，自己复现课程代码。"
   ]
  },
  {
   "cell_type": "code",
   "execution_count": 1,
   "metadata": {},
   "outputs": [],
   "source": [
    "def topological_sort(feed_dict):\n",
    "    \"\"\"\n",
    "    Sort generic nodes in topological order using Kahn's Algorithm.\n",
    "    `feed_dict`: A dictionary where the key is a `Input` node and the value is the respective value feed to that node.\n",
    "    Returns a list of sorted nodes.\n",
    "    \"\"\"\n",
    "    #feed_dict中键的列表\n",
    "    input_nodes = [n for n in feed_dict.keys()]\n",
    "\n",
    "    G = {}\n",
    "    #建立一个列表nodes，用来遍历所有键以及键的outputs，以此来建立字典G\n",
    "    nodes = [n for n in input_nodes]\n",
    "    while len(nodes) > 0:\n",
    "        n = nodes.pop(0)\n",
    "        if n not in G:\n",
    "            G[n] = {'in': set(), 'out': set()}\n",
    "        for m in n.outputs:\n",
    "            if m not in G:\n",
    "                G[m] = {'in': set(), 'out': set()}\n",
    "            #将n的输出m添加到字典’n‘的’out‘中\n",
    "            G[n]['out'].add(m)\n",
    "            #将m的输入n添加到字典’m‘的’in‘中\n",
    "            G[m]['in'].add(n)\n",
    "            nodes.append(m)\n",
    "\n",
    "    L = []\n",
    "    S = set(input_nodes)\n",
    "    while len(S) > 0:\n",
    "        #随机取出一个初始node\n",
    "        n = S.pop()\n",
    "        \n",
    "        if isinstance(n, Input):\n",
    "            #这个n.value的设置没懂= =\n",
    "            n.value = feed_dict[n]\n",
    "\n",
    "        L.append(n)\n",
    "        for m in n.outputs:\n",
    "            G[n]['out'].remove(m)\n",
    "            G[m]['in'].remove(n)\n",
    "            #排序过程，将没有输入的node加入到S中\n",
    "            if len(G[m]['in']) == 0:\n",
    "                S.add(m)\n",
    "    return L"
   ]
  },
  {
   "cell_type": "markdown",
   "metadata": {},
   "source": [
    "### 2. 回答一下理论题目"
   ]
  },
  {
   "cell_type": "markdown",
   "metadata": {},
   "source": [
    "#### 1. What does a neuron compute?"
   ]
  },
  {
   "cell_type": "markdown",
   "metadata": {},
   "source": [
    "将其输入与之权重相乘再加上偏置，然后经过激活函数得到输出"
   ]
  },
  {
   "cell_type": "markdown",
   "metadata": {},
   "source": [
    "####  2. Why we use non-linear activation funcitons in neural networks?"
   ]
  },
  {
   "cell_type": "markdown",
   "metadata": {},
   "source": [
    "因为经过线性激活最后得到的输出仍是wx+b的形式，说明此时经过多个神经层输出与经过一个神经元输出没有区别，失去了深度的意义"
   ]
  },
  {
   "cell_type": "markdown",
   "metadata": {},
   "source": [
    "#### 3. What is the 'Logistic Loss' ?"
   ]
  },
  {
   "cell_type": "markdown",
   "metadata": {},
   "source": [
    "Logistic Loss是二分类问题的目标函数，是cross entropy Loss的一个特例，能够非常合理地反映预测概率与groundtruth之间的关系。"
   ]
  },
  {
   "cell_type": "markdown",
   "metadata": {},
   "source": [
    "#### 4. Assume that you are building a binary classifier for detecting if an image containing cats, which activation functions would you recommen using for the output layer ?\n",
    "\n",
    "A. ReLU    \n",
    "B. Leaky ReLU    \n",
    "C. sigmoid    \n",
    "D. tanh  "
   ]
  },
  {
   "cell_type": "markdown",
   "metadata": {},
   "source": [
    "虽然ReLU和tanh都比sigmoid要好，但是二分类问题应该选择sigmoid，首先其导数是非零的，且很容易计算，能够将线性得到的输出映射在0-1范围内，很好地反映了概率的概念"
   ]
  },
  {
   "cell_type": "markdown",
   "metadata": {},
   "source": [
    "#### 5. Why we don't use zero initialization for all parameters ?"
   ]
  },
  {
   "cell_type": "markdown",
   "metadata": {},
   "source": [
    "如果W初始化为0则对于任何输入每个隐藏层对应的每个神经元的输出都是相同的，这样无论梯度下降多少次，这些神经元都是对称的，无论隐藏层内有多少个结点，都相当于在训练同一个函数。"
   ]
  },
  {
   "cell_type": "markdown",
   "metadata": {},
   "source": [
    "#### 6. Can you implement the softmax function using python ? "
   ]
  },
  {
   "cell_type": "code",
   "execution_count": 2,
   "metadata": {},
   "outputs": [],
   "source": [
    "import math\n",
    "\n",
    "def softmax(output: list):\n",
    "    total = 0\n",
    "    for op in output:\n",
    "        total += math.exp(op)\n",
    "    return [math.exp(op)/total for op in output]"
   ]
  },
  {
   "cell_type": "markdown",
   "metadata": {},
   "source": [
    "### 3.实践题"
   ]
  },
  {
   "cell_type": "markdown",
   "metadata": {},
   "source": [
    "#### In this practical part, you will build a simple digits recognizer to check if the digit in the image is larger than 5. This assignment will guide you step by step to finish your first small project in this course ."
   ]
  },
  {
   "cell_type": "markdown",
   "metadata": {},
   "source": [
    "#### 1 - Packages  \n",
    "sklearn is a famous package for machine learning.   \n",
    "matplotlib is a common package for vasualization."
   ]
  },
  {
   "cell_type": "code",
   "execution_count": 3,
   "metadata": {},
   "outputs": [],
   "source": [
    "import numpy as np\n",
    "from sklearn import datasets\n",
    "import matplotlib.pyplot as plt\n",
    "from sklearn.model_selection import train_test_split"
   ]
  },
  {
   "cell_type": "markdown",
   "metadata": {},
   "source": [
    "#### 2 - Overview of the dataset  \n",
    "    - a training set has m_train images labeled as 0 if the digit < 5 or 1 if the digit >= 5\n",
    "    - a test set contains m_test images labels as if the digit < 5 or 1 if the digit >= 5\n",
    "    - eah image if of shape (num_px, num_px ). Thus, each image is square(height=num_px and  width = num_px)"
   ]
  },
  {
   "cell_type": "code",
   "execution_count": 4,
   "metadata": {},
   "outputs": [],
   "source": [
    "# Loading the data \n",
    "digits = datasets.load_digits()"
   ]
  },
  {
   "cell_type": "code",
   "execution_count": 5,
   "metadata": {},
   "outputs": [
    {
     "data": {
      "image/png": "[encoded data removed]",
      "text/plain": [
       "<Figure size 432x288 with 10 Axes>"
      ]
     },
     "metadata": {},
     "output_type": "display_data"
    }
   ],
   "source": [
    "# Vilizating the data\n",
    "for i in range(1,11):\n",
    "    plt.subplot(2,5,i)\n",
    "    plt.imshow(digits.data[i-1].reshape([8,8]),cmap=plt.cm.gray_r)\n",
    "    plt.text(3,10,str(digits.target[i-1]))\n",
    "    plt.xticks([])\n",
    "    plt.yticks([])\n",
    "plt.show()"
   ]
  },
  {
   "cell_type": "code",
   "execution_count": 6,
   "metadata": {},
   "outputs": [],
   "source": [
    "# Split the data into training set and test set \n",
    "X_train, X_test, y_train, y_test = train_test_split(digits.data, digits.target, test_size=0.25)"
   ]
  },
  {
   "cell_type": "code",
   "execution_count": 7,
   "metadata": {},
   "outputs": [],
   "source": [
    "# reformulate the label. \n",
    "# If the digit is smaller than 5, the label is 0.\n",
    "# If the digit is larger than 5, the label is 1.\n",
    "\n",
    "y_train[y_train < 5 ] = 0\n",
    "y_train[y_train >= 5] = 1\n",
    "y_test[y_test < 5] = 0\n",
    "y_test[y_test >= 5] = 1"
   ]
  },
  {
   "cell_type": "code",
   "execution_count": 8,
   "metadata": {},
   "outputs": [
    {
     "name": "stdout",
     "output_type": "stream",
     "text": [
      "(1347, 64)\n",
      "(450, 64)\n",
      "(1347,)\n",
      "(450,)\n"
     ]
    }
   ],
   "source": [
    "print(X_train.shape)\n",
    "print(X_test.shape)\n",
    "print(y_train.shape)\n",
    "print(y_test.shape)"
   ]
  },
  {
   "cell_type": "markdown",
   "metadata": {},
   "source": [
    "#### 3- Architecture of the neural network"
   ]
  },
  {
   "cell_type": "markdown",
   "metadata": {},
   "source": [
    "![title](network.png)"
   ]
  },
  {
   "cell_type": "code",
   "execution_count": null,
   "metadata": {},
   "outputs": [],
   "source": [
    "!pwd"
   ]
  },
  {
   "cell_type": "markdown",
   "metadata": {},
   "source": [
    "##### Mathematical expression of the algorithm:"
   ]
  },
  {
   "cell_type": "markdown",
   "metadata": {},
   "source": [
    "For one example $x^{(i)}$:   \n",
    " $$ z^{(i)} = w^T * x^{(i)} +b $$   \n",
    " $$ y^{(i)} = a^{(i)} = sigmoid(z^{(i)})$$   \n",
    " $$L(a^{(i)},y^{(i)}) = -y^{(i)} log(a^{(i)})-(1-y^{(i)})log(1-a^{(i)})$$"
   ]
  },
  {
   "cell_type": "markdown",
   "metadata": {},
   "source": [
    "The total cost over all training examples:\n",
    "$$ J = \\frac{1}{m}\\sum_{i=1}^{m}L(a^{(i)},y^{(i)}) $$"
   ]
  },
  {
   "cell_type": "markdown",
   "metadata": {},
   "source": [
    "#### 4 - Building the algorithm"
   ]
  },
  {
   "cell_type": "markdown",
   "metadata": {},
   "source": [
    "##### 4.1- Activation function    \n",
    "###### Exercise:\n",
    "Finish the sigmoid funciton "
   ]
  },
  {
   "cell_type": "code",
   "execution_count": 9,
   "metadata": {},
   "outputs": [],
   "source": [
    "def sigmoid(z):\n",
    "    '''\n",
    "    Compute the sigmoid of z\n",
    "    Arguments: z -- a scalar or numpy array of any size.\n",
    "    \n",
    "    Return:\n",
    "    s -- sigmoid(z)\n",
    "    '''\n",
    "    s = [1 / (1 + math.exp(-zi)) for zi in z]\n",
    "    s = np.array(s)\n",
    "    return s"
   ]
  },
  {
   "cell_type": "code",
   "execution_count": 10,
   "metadata": {},
   "outputs": [
    {
     "name": "stdout",
     "output_type": "stream",
     "text": [
      "sigmoid([0,2]) = [0.5        0.88079708]\n"
     ]
    }
   ],
   "source": [
    "# Test your code \n",
    "# The result should be [0.5 0.88079708]\n",
    "print(\"sigmoid([0,2]) = \" + str(sigmoid(np.array([0,2]))))"
   ]
  },
  {
   "cell_type": "markdown",
   "metadata": {},
   "source": [
    "##### 4.2-Initializaing parameters\n",
    "###### Exercise:\n",
    "Finishe the initialize_parameters function below"
   ]
  },
  {
   "cell_type": "code",
   "execution_count": 13,
   "metadata": {},
   "outputs": [],
   "source": [
    "# Random innitialize the parameters\n",
    "\n",
    "def initialize_parameters(dim):\n",
    "    '''\n",
    "    Argument: dim -- size of the w vector\n",
    "    \n",
    "    Returns:\n",
    "    w -- initialized vector of shape (dim,1)\n",
    "    b -- initializaed scalar\n",
    "    '''\n",
    "    \n",
    "    w = np.random.randn(dim, 1)*0.01\n",
    "    b = 0\n",
    "    \n",
    "    assert(w.shape == (dim,1))\n",
    "    assert(isinstance(b,float) or isinstance(b,int))\n",
    "    \n",
    "    return w,b"
   ]
  },
  {
   "cell_type": "markdown",
   "metadata": {},
   "source": [
    "#### 4.3-Forward and backward propagation"
   ]
  },
  {
   "cell_type": "markdown",
   "metadata": {},
   "source": [
    "###### Some mathematical expressions\n",
    "Forward Propagation:   \n",
    ". X    \n",
    ". A = $\\sigma(w^T*X+b) = (a^{(1)},a^{(2)},...,a^{(m)}$   \n",
    ". J = $-\\frac{1}{m} \\sum_{i=1}^{m}y^{(i)}log(a^{(i)}+(1-y^{(i)})log(1-a^{(i)})$       "
   ]
  },
  {
   "cell_type": "markdown",
   "metadata": {},
   "source": [
    "Some derivative: \n",
    "$$\\frac{\\partial{J}}{\\partial{w}} = \\frac{1}{m}X*(A-Y)^T$$   \n",
    "$$\\frac{\\partial{J}}{\\partial{b}} = \\frac{1}{m}\\sum_{i=1}^m(a^{(i)}-y^{(i)}) $$"
   ]
  },
  {
   "cell_type": "markdown",
   "metadata": {},
   "source": [
    "###### Exercise:\n",
    "Finish the function below:"
   ]
  },
  {
   "cell_type": "code",
   "execution_count": 12,
   "metadata": {},
   "outputs": [],
   "source": [
    "def propagate(w,b,X,Y):\n",
    "    '''\n",
    "    Implement the cost function and its gradient for the propagation\n",
    "    \n",
    "    Arguments:\n",
    "    w - weights\n",
    "    b - bias\n",
    "    X - data ,shape = [m, 64]\n",
    "    Y - ground truth \n",
    "    '''\n",
    "    m = X.shape[0]\n",
    "    A = sigmoid(np.dot(X, w) + b)  #shape: (m, )\n",
    "    cost = -(sum([y*np.log(a) + (1-y)*np.log(1-a) for (y, a) in zip(Y.tolist(), A.tolist())]) / m)\n",
    "    #(64, m) * (m, 1)\n",
    "    dw = np.dot(X.T, A.reshape(-1, 1) - Y.reshape(-1, 1)) / m #shape: (64, 1)\n",
    "    db = sum([a - y for (y, a) in zip(np.squeeze(Y.reshape(1, -1)), A.tolist())]) / m\n",
    "        \n",
    "    assert(dw.shape == w.shape)\n",
    "    assert(db.dtype == float)\n",
    "    cost = np.squeeze(cost)\n",
    "    assert(cost.shape == ())\n",
    "    \n",
    "    grads = {'dw':dw,\n",
    "             'db':db}\n",
    "    \n",
    "    return grads, cost"
   ]
  },
  {
   "cell_type": "markdown",
   "metadata": {},
   "source": [
    "##### 4.4 -Optimization"
   ]
  },
  {
   "cell_type": "markdown",
   "metadata": {},
   "source": [
    "###### Exercise:\n",
    "Minimizing the cost function using gradient descent.   \n",
    "$$\\theta = \\theta - \\alpha*d\\theta$$ where $\\alpha$ is the learning rate."
   ]
  },
  {
   "cell_type": "code",
   "execution_count": 14,
   "metadata": {},
   "outputs": [],
   "source": [
    "def optimize(w, b, X, Y, num_iterations, learning_rate, print_cost=False):\n",
    "    '''\n",
    "    This function optimize w and b by running a gradient descent algorithm\n",
    "    \n",
    "    Arguments:\n",
    "    w - weights\n",
    "    b - bias\n",
    "    X - data\n",
    "    Y - ground truth\n",
    "    num_iterations -- number of iterations of the optimization loop\n",
    "    learning_rate -- learning rate of the gradient descent update rule\n",
    "    print_cost -- True to print the loss every 100 steps\n",
    "    \n",
    "    Returns:\n",
    "    params - dictionary containing the weights w and bias b\n",
    "    grads -- dictionary containing the gradients of the weights and bias with respect to the cost function\n",
    "    costs -- list of all the costs computed during the optimization, this will be used to plot the learning curve.\n",
    "    \n",
    "    '''\n",
    "    \n",
    "    costs = []\n",
    "    \n",
    "    for i in range(num_iterations):\n",
    "        \n",
    "        grads, cost = propagate(w,b,X,Y)\n",
    "        \n",
    "        dw = grads['dw']\n",
    "        db = grads['db']\n",
    "        \n",
    "        if i >= 0.2 * num_iterations:\n",
    "            lr = 0.2 * learning_rate\n",
    "        elif i >= 0.5 * num_iterations:\n",
    "            lr = 0.04 * learning_rate\n",
    "        else:\n",
    "            lr = learning_rate\n",
    "        \n",
    "        w = w - lr * dw\n",
    "        b = b - lr * db\n",
    "        \n",
    "        if i % 100 == 0:\n",
    "            costs.append(cost)\n",
    "        if print_cost and i % 100 == 0:\n",
    "            print (\"Cost after iteration %i: %f\" %(i, cost))\n",
    "    \n",
    "    params = {\"w\":w,\n",
    "              \"b\":b}\n",
    "    \n",
    "    grads = {\"dw\":dw,\n",
    "             \"db\":db}\n",
    "    \n",
    "    return params, grads, costs"
   ]
  },
  {
   "cell_type": "markdown",
   "metadata": {},
   "source": [
    "###### Exercise\n",
    "The previous function will output the learned w and b. We are able to use w and b to predict the labels for a dataset X. Implement the predict() function.    \n",
    "Two steps to finish this task:   \n",
    "1. Calculate $\\hat{Y} = A = \\sigma(w^T*X+b)$   \n",
    "2. Convert the entries of a into 0 (if activation <= 0.5) or 1 (if activation > 0.5), stores the predictions in a vector Y_prediction. If you wish, you can use an if/else statement in a for loop (though there is also a way to vectorize this)."
   ]
  },
  {
   "cell_type": "code",
   "execution_count": 15,
   "metadata": {},
   "outputs": [],
   "source": [
    "def predict(w, b, X):\n",
    "    '''\n",
    "    Predict whether the label is 0 or 1 using learned logistic regression parameters (w, b)\n",
    "    \n",
    "    Arguments:\n",
    "    w -- weights\n",
    "    b -- bias \n",
    "    X -- data \n",
    "    \n",
    "    Returns:\n",
    "    Y_prediction -- a numpy array (vector) containing all predictions (0/1) for the examples in X\n",
    "    '''\n",
    "    m = X.shape[0]\n",
    "    #Y_prediction = np.zeros((1, m))\n",
    "    #w = w.reshape(X.shape[0],1)\n",
    "    \n",
    "    Y_prediction = sigmoid(np.dot(X, w) + b) \n",
    "    \n",
    "    #for i in range(A.shape[i]):\n",
    "    #    None \n",
    "    np.putmask(Y_prediction, Y_prediction<=0.5, 0)\n",
    "    np.putmask(Y_prediction, Y_prediction>0.5, 1)\n",
    "    \n",
    "    assert(Y_prediction.shape == (m, ))\n",
    "    \n",
    "    return Y_prediction"
   ]
  },
  {
   "cell_type": "markdown",
   "metadata": {},
   "source": [
    "##### 5- Merge all functions into a model"
   ]
  },
  {
   "cell_type": "markdown",
   "metadata": {},
   "source": [
    "Congratulations !! You have finished all the necessary components for constructing a model. Now, Let's take the challenge to merge all the implemented function into one model."
   ]
  },
  {
   "cell_type": "code",
   "execution_count": 16,
   "metadata": {},
   "outputs": [],
   "source": [
    "def model(X_train, Y_train, X_test, Y_test, num_iterations, learning_rate, print_cost):\n",
    "    \"\"\"\n",
    "    Build the logistic regression model by calling all the functions you have implemented.\n",
    "    Arguments:\n",
    "    X_train - training set\n",
    "    Y_train - training label\n",
    "    X_test - test set\n",
    "    Y_test - test label\n",
    "    num_iteration - hyperparameter representing the number of iterations to optimize the parameters\n",
    "    learning_rate -- hyperparameter representing the learning rate used in the update rule of optimize()\n",
    "    print_cost -- Set to true to print the cost every 100 iterations\n",
    "    \n",
    "    Returns:\n",
    "    d - dictionary should contain following information w,b,training_accuracy, test_accuracy,cost\n",
    "    eg: d = {\"w\":w,\n",
    "             \"b\":b,\n",
    "             \"training_accuracy\": traing_accuracy,\n",
    "             \"test_accuracy\":test_accuracy,\n",
    "             \"cost\":cost}\n",
    "    \"\"\"\n",
    "    d = {}\n",
    "    \n",
    "    w, b = initialize_parameters(X_train.shape[1])\n",
    "    train_params, _, costs = optimize(w, b, X_train, Y_train, num_iterations, learning_rate, print_cost)\n",
    "    \n",
    "    d['w'], d['b'] = train_params['w'], train_params['b']\n",
    "    d['cost'] = costs[-1]\n",
    "    \n",
    "    Y_train_pred = predict(d['w'], d['b'], X_train)\n",
    "    training_accuracy = sum([1 if i==j else 0 for (i, j) in zip(Y_train.tolist(), Y_train_pred.tolist())]) / Y_train.shape[0] \n",
    "    Y_test_pred = predict(d['w'], d['b'], X_test)\n",
    "    \n",
    "    test_accuracy = sum([1 if i==j else 0 for (i, j) in zip(Y_test.tolist(), Y_test_pred.tolist())]) / Y_test.shape[0] \n",
    "    d['training_accuracy'], d['test_accuracy'] = training_accuracy, test_accuracy\n",
    "    \n",
    "    return d"
   ]
  },
  {
   "cell_type": "code",
   "execution_count": 17,
   "metadata": {},
   "outputs": [
    {
     "name": "stdout",
     "output_type": "stream",
     "text": [
      "Cost after iteration 0: 0.767137\n",
      "Cost after iteration 100: 0.304302\n",
      "Cost after iteration 200: 0.282505\n",
      "Cost after iteration 300: 0.273094\n",
      "Cost after iteration 400: 0.268137\n",
      "Cost after iteration 500: 0.265233\n",
      "Cost after iteration 600: 0.263407\n",
      "Cost after iteration 700: 0.262195\n",
      "Cost after iteration 800: 0.261355\n",
      "Cost after iteration 900: 0.260752\n",
      "Cost after iteration 1000: 0.260304\n",
      "Cost after iteration 1100: 0.260229\n",
      "Cost after iteration 1200: 0.260157\n",
      "Cost after iteration 1300: 0.260089\n",
      "Cost after iteration 1400: 0.260024\n",
      "Cost after iteration 1500: 0.259962\n",
      "Cost after iteration 1600: 0.259904\n",
      "Cost after iteration 1700: 0.259847\n",
      "Cost after iteration 1800: 0.259794\n",
      "Cost after iteration 1900: 0.259743\n",
      "Cost after iteration 2000: 0.259694\n",
      "Cost after iteration 2100: 0.259647\n",
      "Cost after iteration 2200: 0.259602\n",
      "Cost after iteration 2300: 0.259559\n",
      "Cost after iteration 2400: 0.259517\n",
      "Cost after iteration 2500: 0.259477\n",
      "Cost after iteration 2600: 0.259439\n",
      "Cost after iteration 2700: 0.259402\n",
      "Cost after iteration 2800: 0.259367\n",
      "Cost after iteration 2900: 0.259333\n",
      "Cost after iteration 3000: 0.259299\n",
      "Cost after iteration 3100: 0.259268\n",
      "Cost after iteration 3200: 0.259237\n",
      "Cost after iteration 3300: 0.259207\n",
      "Cost after iteration 3400: 0.259178\n",
      "Cost after iteration 3500: 0.259150\n",
      "Cost after iteration 3600: 0.259123\n",
      "Cost after iteration 3700: 0.259096\n",
      "Cost after iteration 3800: 0.259071\n",
      "Cost after iteration 3900: 0.259046\n",
      "Cost after iteration 4000: 0.259022\n",
      "Cost after iteration 4100: 0.258998\n",
      "Cost after iteration 4200: 0.258975\n",
      "Cost after iteration 4300: 0.258953\n",
      "Cost after iteration 4400: 0.258931\n",
      "Cost after iteration 4500: 0.258910\n",
      "Cost after iteration 4600: 0.258889\n",
      "Cost after iteration 4700: 0.258869\n",
      "Cost after iteration 4800: 0.258849\n",
      "Cost after iteration 4900: 0.258830\n"
     ]
    },
    {
     "data": {
      "text/plain": [
       "{'w': array([[-0.02054871],\n",
       "        [ 0.00444713],\n",
       "        [ 0.00784719],\n",
       "        [ 0.01305295],\n",
       "        [ 0.06460069],\n",
       "        [ 0.09056077],\n",
       "        [ 0.15330508],\n",
       "        [-0.02323658],\n",
       "        [ 0.02584346],\n",
       "        [-0.10413559],\n",
       "        [ 0.10649118],\n",
       "        [ 0.05758667],\n",
       "        [-0.04286791],\n",
       "        [-0.05671993],\n",
       "        [ 0.0230044 ],\n",
       "        [ 0.01541091],\n",
       "        [-0.01318639],\n",
       "        [ 0.05050345],\n",
       "        [ 0.15197533],\n",
       "        [-0.04869942],\n",
       "        [-0.21655863],\n",
       "        [-0.02040872],\n",
       "        [-0.11609053],\n",
       "        [-0.03425019],\n",
       "        [-0.00227978],\n",
       "        [-0.17832377],\n",
       "        [ 0.03930628],\n",
       "        [ 0.18167031],\n",
       "        [ 0.03618043],\n",
       "        [ 0.145069  ],\n",
       "        [-0.1480248 ],\n",
       "        [-0.01306771],\n",
       "        [-0.00628894],\n",
       "        [-0.25055723],\n",
       "        [ 0.01725585],\n",
       "        [ 0.17221974],\n",
       "        [-0.08712237],\n",
       "        [-0.04182994],\n",
       "        [ 0.02705139],\n",
       "        [ 0.02078965],\n",
       "        [-0.00231808],\n",
       "        [-0.02002624],\n",
       "        [ 0.03821348],\n",
       "        [-0.02605533],\n",
       "        [ 0.11260345],\n",
       "        [ 0.08775812],\n",
       "        [ 0.08616208],\n",
       "        [ 0.03252329],\n",
       "        [ 0.00232685],\n",
       "        [-0.03454128],\n",
       "        [ 0.03145039],\n",
       "        [-0.0669113 ],\n",
       "        [-0.27396241],\n",
       "        [-0.03664949],\n",
       "        [ 0.07218191],\n",
       "        [-0.02795257],\n",
       "        [-0.01727218],\n",
       "        [-0.03482512],\n",
       "        [ 0.01327283],\n",
       "        [-0.06424533],\n",
       "        [-0.17757862],\n",
       "        [-0.03708987],\n",
       "        [-0.06497657],\n",
       "        [-0.10291721]]),\n",
       " 'b': -0.007820702842007868,\n",
       " 'cost': 0.2588300355324558,\n",
       " 'training_accuracy': 0.9079435783221975,\n",
       " 'test_accuracy': 0.92}"
      ]
     },
     "execution_count": 17,
     "metadata": {},
     "output_type": "execute_result"
    }
   ],
   "source": [
    "model(X_train, y_train, X_test, y_test, 5000, 0.005, True)"
   ]
  },
  {
   "cell_type": "markdown",
   "metadata": {},
   "source": [
    "#### training_accuracy为0.908，test_accuracy为0.92，请问老师测试集比训练集还高是不是不正常？"
   ]
  },
  {
   "cell_type": "markdown",
   "metadata": {},
   "source": [
    "### 4.选做题"
   ]
  },
  {
   "cell_type": "markdown",
   "metadata": {},
   "source": [
    "Congratulations on building your first logistic regression model. It is your time to analyze it further."
   ]
  },
  {
   "cell_type": "markdown",
   "metadata": {},
   "source": [
    "##### 4.1 Observe the effect of learning rate on the leraning process.   \n",
    "Hits: plot the learning curve with different learning rate"
   ]
  },
  {
   "cell_type": "code",
   "execution_count": 19,
   "metadata": {},
   "outputs": [
    {
     "name": "stderr",
     "output_type": "stream",
     "text": [
      "//anaconda3/lib/python3.7/site-packages/ipykernel_launcher.py:13: RuntimeWarning: divide by zero encountered in log\n",
      "  del sys.path[0]\n",
      "//anaconda3/lib/python3.7/site-packages/ipykernel_launcher.py:13: RuntimeWarning: invalid value encountered in double_scalars\n",
      "  del sys.path[0]\n"
     ]
    },
    {
     "data": {
      "image/png": "[encoded data removed]",
      "text/plain": [
       "<Figure size 1080x1080 with 4 Axes>"
      ]
     },
     "metadata": {
      "needs_background": "light"
     },
     "output_type": "display_data"
    }
   ],
   "source": [
    "train_size = [100, 200, 300, 400, 500, 600, 700, 800, 900, 1000, 1100, 1200, 1347]\n",
    "\n",
    "lr_list = [0.001, 0.005, 0.01, 0.05]\n",
    "\n",
    "fig, ax = plt.subplots(figsize=(15, 15), nrows=2, ncols=2, sharey=True, sharex=True)\n",
    "axes = ax.flatten()\n",
    "\n",
    "for i, lr in enumerate(lr_list):\n",
    "    train_accuracy_list = []\n",
    "    test_accuracy_list = []\n",
    "    \n",
    "    for size in train_size:\n",
    "        d = model(X_train[:size, ], y_train[:size, ], X_test, y_test, 2000, lr, False)\n",
    "        train_accuracy_list.append(d['training_accuracy'])\n",
    "        test_accuracy_list.append(d['test_accuracy'])\n",
    "        \n",
    "    axes[i].set_title(f'learning rate: {lr}')\n",
    "    axes[i].plot(train_size, train_accuracy_list)\n",
    "    axes[i].plot(train_size, test_accuracy_list, color='red')"
   ]
  },
  {
   "cell_type": "markdown",
   "metadata": {},
   "source": [
    "#### 还是测试集accuracy比训练集高= ="
   ]
  },
  {
   "cell_type": "markdown",
   "metadata": {},
   "source": [
    "##### 4.2 Observe the effect of iteration_num on the test accuracy."
   ]
  },
  {
   "cell_type": "code",
   "execution_count": 21,
   "metadata": {},
   "outputs": [
    {
     "name": "stdout",
     "output_type": "stream",
     "text": [
      "[0.8977777777777778, 0.9066666666666666, 0.9133333333333333, 0.9155555555555556, 0.92]\n"
     ]
    },
    {
     "data": {
      "text/plain": [
       "[<matplotlib.lines.Line2D at 0x7fd438806780>]"
      ]
     },
     "execution_count": 21,
     "metadata": {},
     "output_type": "execute_result"
    },
    {
     "data": {
      "image/png": "[encoded data removed]",
      "text/plain": [
       "<Figure size 432x288 with 1 Axes>"
      ]
     },
     "metadata": {
      "needs_background": "light"
     },
     "output_type": "display_data"
    }
   ],
   "source": [
    "iteration_num_list = [500, 1000, 2000, 3000, 5000]\n",
    "test_accuracy_list = []\n",
    "for iteration_num in iteration_num_list:\n",
    "    d = model(X_train, y_train, X_test, y_test, iteration_num, 0.005, False)\n",
    "    test_accuracy_list.append(d['test_accuracy'])\n",
    "print(test_accuracy_list)    \n",
    "plt.plot(iteration_num_list, test_accuracy_list)"
   ]
  },
  {
   "cell_type": "markdown",
   "metadata": {},
   "source": [
    "# Challenge ! ! !\n",
    "\n",
    "The original data have images labeled 0,1,2,3,4,5,6,7,8,9. In our logistic model, we only detect if the digit in the image is larger or smaller than 5. Now, Let's go for a more challenging problem. Try to use softmax function to build a model to recognize which digits (0,1,2,3,4,5,6,7,8,9) is in the image."
   ]
  },
  {
   "cell_type": "markdown",
   "metadata": {},
   "source": [
    "# Congratulations ! You have completed assigment 4. "
   ]
  },
  {
   "cell_type": "code",
   "execution_count": null,
   "metadata": {},
   "outputs": [],
   "source": []
  }
 ],
 "metadata": {
  "kernelspec": {
   "display_name": "Python 3",
   "language": "python",
   "name": "python3"
  },
  "language_info": {
   "codemirror_mode": {
    "name": "ipython",
    "version": 3
   },
   "file_extension": ".py",
   "mimetype": "text/x-python",
   "name": "python",
   "nbconvert_exporter": "python",
   "pygments_lexer": "ipython3",
   "version": "3.7.3"
  }
 },
 "nbformat": 4,
 "nbformat_minor": 2
}
